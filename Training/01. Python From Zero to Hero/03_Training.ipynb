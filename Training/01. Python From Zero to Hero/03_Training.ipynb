{
 "cells": [
  {
   "cell_type": "markdown",
   "id": "8edb0c44-0a2e-4194-9ca2-b749d5ea5955",
   "metadata": {},
   "source": [
    "# Methods and Functions"
   ]
  },
  {
   "cell_type": "code",
   "execution_count": 5,
   "id": "c76331ab-ee04-480c-b9aa-38e4207116f0",
   "metadata": {},
   "outputs": [
    {
     "data": {
      "text/plain": [
       "[1, 2, 3, 4]"
      ]
     },
     "execution_count": 5,
     "metadata": {},
     "output_type": "execute_result"
    },
    {
     "data": {
      "text/plain": [
       "4"
      ]
     },
     "execution_count": 5,
     "metadata": {},
     "output_type": "execute_result"
    },
    {
     "data": {
      "text/plain": [
       "[1, 2, 3]"
      ]
     },
     "execution_count": 5,
     "metadata": {},
     "output_type": "execute_result"
    },
    {
     "name": "stdout",
     "output_type": "stream",
     "text": [
      "Help on built-in function insert:\n",
      "\n",
      "insert(index, object, /) method of builtins.list instance\n",
      "    Insert object before index.\n",
      "\n"
     ]
    }
   ],
   "source": [
    "# Methods\n",
    "mylist = [1,2,3]\n",
    "mylist.append(4)\n",
    "mylist\n",
    "\n",
    "mylist.pop()\n",
    "mylist\n",
    "\n",
    "help(mylist.insert)"
   ]
  },
  {
   "cell_type": "markdown",
   "id": "b5310657-cb5a-4dcd-8f31-f0bfdf926a21",
   "metadata": {},
   "source": [
    "# Introduction to Functions\n",
    "## Functions allow us to create blocks of code\n",
    "## Keyword: def, return\n",
    "## def add_function(num1,num2):\n",
    "## return num1 + num2"
   ]
  },
  {
   "cell_type": "code",
   "execution_count": 7,
   "id": "04f89d5a-3355-4650-a436-74fbfa2691ba",
   "metadata": {},
   "outputs": [
    {
     "name": "stdout",
     "output_type": "stream",
     "text": [
      "hello\n",
      "how\n",
      "are\n",
      "you\n",
      "Hello Andar\n",
      "Hello Default\n"
     ]
    },
    {
     "data": {
      "text/plain": [
       "5"
      ]
     },
     "execution_count": 7,
     "metadata": {},
     "output_type": "execute_result"
    },
    {
     "data": {
      "text/plain": [
       "6"
      ]
     },
     "execution_count": 7,
     "metadata": {},
     "output_type": "execute_result"
    }
   ],
   "source": [
    "# Basic Functions\n",
    "def say_hello():\n",
    "    print('hello')\n",
    "    print('how')\n",
    "    print('are')\n",
    "    print('you')\n",
    "say_hello()  # call function always use paranthesis ()\n",
    "\n",
    "def say_hello(name):             # name is value\n",
    "    print('Hello {a}'.format(a=name))\n",
    "say_hello('Andar')\n",
    "\n",
    "def say_hello(name='Default'):   # Default value\n",
    "    print('Hello {a}'.format(a=name))\n",
    "say_hello()\n",
    "\n",
    "def add_num(num1,num2):\n",
    "    return num1+num2 # use return in function to make it saveable to variable result, if we use print(num1+num2), we can not save to variable, just print value\n",
    "result = add_num(2,3)\n",
    "result\n",
    "\n",
    "def sum_numbers(num1,num2):\n",
    "    return num1+num2\n",
    "sum_numbers(4,2)"
   ]
  },
  {
   "cell_type": "code",
   "execution_count": 15,
   "id": "d3fb8e67-9a69-4ce8-b436-cc1c8aee5cef",
   "metadata": {},
   "outputs": [
    {
     "data": {
      "text/plain": [
       "True"
      ]
     },
     "execution_count": 15,
     "metadata": {},
     "output_type": "execute_result"
    },
    {
     "data": {
      "text/plain": [
       "True"
      ]
     },
     "execution_count": 15,
     "metadata": {},
     "output_type": "execute_result"
    },
    {
     "data": {
      "text/plain": [
       "[6, 8, 10]"
      ]
     },
     "execution_count": 15,
     "metadata": {},
     "output_type": "execute_result"
    }
   ],
   "source": [
    "# Functions with Logic\n",
    "def even_check(number):\n",
    "    return number % 2 == 0\n",
    "even_check(4)\n",
    "\n",
    "def check_even_list(num_list):\n",
    "    for number in num_list:\n",
    "        if number % 2 == 0:\n",
    "            return True\n",
    "        else:\n",
    "            pass           # pass will make the loop is still running into the last number\n",
    "check_even_list([1,3,5])   # output will be none, because there is no even number in the list\n",
    "check_even_list([2,5,6])   # output will be True, because 2 is even number.\n",
    "check_even_list([1,3,7])\n",
    "\n",
    "def check_even_list(num_list):\n",
    "    # return all the even numbers in a list\n",
    "    # placeholder variables\n",
    "    even_numbers = []\n",
    "    for number in num_list:\n",
    "        if number % 2 == 0:\n",
    "            even_numbers.append(number)\n",
    "        else:\n",
    "            pass\n",
    "    return even_numbers\n",
    "check_even_list([1,3,6,7,8,9,10])"
   ]
  },
  {
   "cell_type": "code",
   "execution_count": 24,
   "id": "31a56d5b-ff70-4d19-ad73-7f488b37496c",
   "metadata": {},
   "outputs": [
    {
     "name": "stdout",
     "output_type": "stream",
     "text": [
      "('APPL', 200)\n",
      "('GOG', 400)\n",
      "('MSFT', 500)\n",
      "APPL\n",
      "GOG\n",
      "MSFT\n"
     ]
    },
    {
     "data": {
      "text/plain": [
       "('Cassie', 800)"
      ]
     },
     "execution_count": 24,
     "metadata": {},
     "output_type": "execute_result"
    },
    {
     "data": {
      "text/plain": [
       "'Cassie'"
      ]
     },
     "execution_count": 24,
     "metadata": {},
     "output_type": "execute_result"
    }
   ],
   "source": [
    "# Functions and Tupple Unpacking\n",
    "stock_prices = [('APPL',200),('GOG',400),('MSFT',500)]\n",
    "for item in stock_prices:\n",
    "    print(item)\n",
    "for ticker,price in stock_prices:\n",
    "    print(ticker)\n",
    "\n",
    "work_hours = [('Abby',100),('Billy',400),('Cassie',800)]\n",
    "def employee_check(work_hours):\n",
    "    current_max = 0\n",
    "    employee_of_month = ''\n",
    "    for employee,hours in work_hours:\n",
    "        if hours > current_max:\n",
    "            current_max = hours\n",
    "            employee_of_month = employee\n",
    "        else:\n",
    "            pass\n",
    "    return(employee_of_month,current_max)\n",
    "result = employee_check(work_hours)\n",
    "result\n",
    "result[0]"
   ]
  },
  {
   "cell_type": "code",
   "execution_count": 34,
   "id": "9bfe9833-1657-4b23-83fb-4f992fb7c5ff",
   "metadata": {},
   "outputs": [
    {
     "data": {
      "text/plain": [
       "[6, 1, 5, 2, 3, 7, 4]"
      ]
     },
     "execution_count": 34,
     "metadata": {},
     "output_type": "execute_result"
    },
    {
     "data": {
      "text/plain": [
       "[2, 3, 5, 6, 7, 4, 1]"
      ]
     },
     "execution_count": 34,
     "metadata": {},
     "output_type": "execute_result"
    },
    {
     "data": {
      "text/plain": [
       "[' ', ' ', 'O']"
      ]
     },
     "execution_count": 34,
     "metadata": {},
     "output_type": "execute_result"
    },
    {
     "name": "stdin",
     "output_type": "stream",
     "text": [
      "Pick a number: 0,1, or 2:  2\n"
     ]
    },
    {
     "data": {
      "text/plain": [
       "2"
      ]
     },
     "execution_count": 34,
     "metadata": {},
     "output_type": "execute_result"
    },
    {
     "name": "stdin",
     "output_type": "stream",
     "text": [
      "Pick a number: 0,1, or 2:  1\n"
     ]
    },
    {
     "name": "stdout",
     "output_type": "stream",
     "text": [
      "Wrong Guess!\n",
      "['O', ' ', ' ']\n"
     ]
    }
   ],
   "source": [
    "# Random Module in Function\n",
    "example = [1,2,3,4,5,6,7]\n",
    "from random import shuffle\n",
    "shuffle(example)\n",
    "example\n",
    "\n",
    "def shuffle_list(mylist):\n",
    "    shuffle(mylist)\n",
    "    return mylist\n",
    "result = shuffle_list(example)\n",
    "result\n",
    "\n",
    "mylist = [' ','O',' ']\n",
    "shuffle_list(mylist)\n",
    "\n",
    "def player_guess():\n",
    "    guess = ''\n",
    "    while guess not in ['0','1','2']:\n",
    "        guess = input('Pick a number: 0,1, or 2: ')\n",
    "    return int(guess)\n",
    "player_guess()\n",
    "\n",
    "def check_guess(mylist,guess):\n",
    "    if mylist[guess] == 'O':\n",
    "        print('Correct!')\n",
    "    else:\n",
    "        print('Wrong Guess!')\n",
    "        print(mylist)\n",
    "\n",
    "# Inititial List\n",
    "mylist = [' ','O',' ']\n",
    "# Shuffle List\n",
    "mixedup_list = shuffle_list(mylist)   # function shuffle_list\n",
    "# User Guess\n",
    "guess = player_guess()                # function player_guess\n",
    "# Check Guess\n",
    "check_guess(mixedup_list,guess)       # function check_guess"
   ]
  },
  {
   "cell_type": "markdown",
   "id": "4f208eaf-8d8d-4f06-bc20-87999e5ba914",
   "metadata": {},
   "source": [
    "# *args and **kwargs"
   ]
  },
  {
   "cell_type": "code",
   "execution_count": 48,
   "id": "ec45cf7b-abe2-45d6-a693-131fbb75bfe5",
   "metadata": {},
   "outputs": [
    {
     "data": {
      "text/plain": [
       "5.0"
      ]
     },
     "execution_count": 48,
     "metadata": {},
     "output_type": "execute_result"
    },
    {
     "data": {
      "text/plain": [
       "14.0"
      ]
     },
     "execution_count": 48,
     "metadata": {},
     "output_type": "execute_result"
    },
    {
     "data": {
      "text/plain": [
       "7.5"
      ]
     },
     "execution_count": 48,
     "metadata": {},
     "output_type": "execute_result"
    },
    {
     "name": "stdout",
     "output_type": "stream",
     "text": [
      "40\n",
      "50\n",
      "60\n",
      "My fruit of choice is apple\n",
      "{'fruit': 'apple', 'veggie': 'lettuce'}\n",
      "(10, 20, 30)\n",
      "{'fruit': 'orange', 'food': 'eggs', 'animal': 'dog'}\n",
      "I would like 10 eggs\n"
     ]
    }
   ],
   "source": [
    "def myfunc(a,b):\n",
    "    # Returns 5% of the sum of a and b\n",
    "    return sum((a,b)) * 0.05    # sum((a,b)), (a,b) is a tuple, so it  is sum(tuple)\n",
    "myfunc(40,60)\n",
    "\n",
    "def myfunc(a,b,c=0,d=0,e=0):\n",
    "    # Returns 5% of the sum of a and b\n",
    "    return sum((a,b,c,d,e)) * 0.05   \n",
    "myfunc(40,60,100,50,30)\n",
    "\n",
    "# *args\n",
    "def myfunc(*args):     # *args is parameter that can receive many inputs and return Tuple. Always use *\n",
    "    return sum(args) * 0.05\n",
    "myfunc(40,50,60)\n",
    "\n",
    "def myfunc(*args):\n",
    "    for item in args:\n",
    "        print(item)\n",
    "myfunc(40,50,60)\n",
    "\n",
    "# **kwargs\n",
    "def myfunc(**kwargs):  # **kwargs is parameter that can receive many inputs and return Dictionary. Always use **\n",
    "    if 'fruit' in kwargs:\n",
    "        print('My fruit of choice is {}'.format(kwargs['fruit']))\n",
    "    else:\n",
    "        print('I did not find any fruit here')\n",
    "    print(kwargs)\n",
    "myfunc(fruit='apple',veggie='lettuce')  # because **kwargs return Dictionary, so when call function, it must state a key 'fruit' or 'veggie'\n",
    "\n",
    "# combination *args and **kwargs\n",
    "def myfunc(*args,**kwargs):\n",
    "    print(args)\n",
    "    print(kwargs)\n",
    "    print('I would like {} {}'.format(args[0],kwargs['food']))   # kwargs refer to 'food'\n",
    "myfunc(10,20,30,fruit='orange',food='eggs',animal='dog')"
   ]
  },
  {
   "cell_type": "code",
   "execution_count": 60,
   "id": "ab508ae5-efa6-445d-9c00-017775261a32",
   "metadata": {},
   "outputs": [
    {
     "data": {
      "text/plain": [
       "[2, 4, 6]"
      ]
     },
     "execution_count": 60,
     "metadata": {},
     "output_type": "execute_result"
    }
   ],
   "source": [
    "def myfunc(*args):\n",
    "    list_even = []\n",
    "    for item in args:\n",
    "        if item % 2 == 0:\n",
    "            list_even = list_even + [item]  # cara untuk mengubah integer menjadi list adalah dengan memberikan tanda [], contoh: [item]\n",
    "        else:\n",
    "            pass\n",
    "    return list_even\n",
    "myfunc(1,2,3,4,5,6)"
   ]
  },
  {
   "cell_type": "code",
   "execution_count": 69,
   "id": "7c8fb0e9-f426-43ee-9e75-b45a8b83e703",
   "metadata": {},
   "outputs": [
    {
     "data": {
      "text/plain": [
       "'aNdAr'"
      ]
     },
     "execution_count": 69,
     "metadata": {},
     "output_type": "execute_result"
    }
   ],
   "source": [
    "def myfunc(text):\n",
    "    n = 1 # iteration number, start with 1 \n",
    "    result = ''\n",
    "    for idx in text:\n",
    "        if n % 2 != 0:\n",
    "            result += idx.lower()\n",
    "        else:\n",
    "            result += idx.upper()\n",
    "        n += 1\n",
    "    return result\n",
    "\n",
    "myfunc('andar')"
   ]
  },
  {
   "cell_type": "code",
   "execution_count": 72,
   "id": "0732729a-330c-4af1-b8fa-31fb19b16ec9",
   "metadata": {},
   "outputs": [
    {
     "data": {
      "text/plain": [
       "30"
      ]
     },
     "execution_count": 72,
     "metadata": {},
     "output_type": "execute_result"
    },
    {
     "data": {
      "text/plain": [
       "tuple"
      ]
     },
     "execution_count": 72,
     "metadata": {},
     "output_type": "execute_result"
    }
   ],
   "source": [
    "sum((20,10)) # if use sum function, make sure it is on Tuple\n",
    "type((20,10))"
   ]
  },
  {
   "cell_type": "code",
   "execution_count": 73,
   "id": "b3ce63f7-823f-43ec-a89e-406a55322458",
   "metadata": {},
   "outputs": [
    {
     "data": {
      "text/plain": [
       "6"
      ]
     },
     "execution_count": 73,
     "metadata": {},
     "output_type": "execute_result"
    }
   ],
   "source": [
    "# abs()\n",
    "abs(94-100)  # function abs() is to output positif number although it is negative number."
   ]
  },
  {
   "cell_type": "code",
   "execution_count": null,
   "id": "8a8a2f39-3b87-42ea-8dd4-8400bccc5f6c",
   "metadata": {},
   "outputs": [],
   "source": []
  }
 ],
 "metadata": {
  "kernelspec": {
   "display_name": "Python 3 (ipykernel)",
   "language": "python",
   "name": "python3"
  },
  "language_info": {
   "codemirror_mode": {
    "name": "ipython",
    "version": 3
   },
   "file_extension": ".py",
   "mimetype": "text/x-python",
   "name": "python",
   "nbconvert_exporter": "python",
   "pygments_lexer": "ipython3",
   "version": "3.9.12"
  }
 },
 "nbformat": 4,
 "nbformat_minor": 5
}
