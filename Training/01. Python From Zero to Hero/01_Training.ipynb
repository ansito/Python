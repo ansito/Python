{
 "cells": [
  {
   "cell_type": "markdown",
   "id": "75a6572b-08aa-4b26-8d79-39c8f04063a9",
   "metadata": {},
   "source": [
    "# Numbers"
   ]
  },
  {
   "cell_type": "code",
   "execution_count": 4,
   "id": "9564faa1-9fee-4765-87ad-28108b6cd4c8",
   "metadata": {},
   "outputs": [
    {
     "data": {
      "text/plain": [
       "1.5"
      ]
     },
     "execution_count": 4,
     "metadata": {},
     "output_type": "execute_result"
    },
    {
     "data": {
      "text/plain": [
       "2.5"
      ]
     },
     "execution_count": 4,
     "metadata": {},
     "output_type": "execute_result"
    },
    {
     "data": {
      "text/plain": [
       "1.0"
      ]
     },
     "execution_count": 4,
     "metadata": {},
     "output_type": "execute_result"
    },
    {
     "data": {
      "text/plain": [
       "1"
      ]
     },
     "execution_count": 4,
     "metadata": {},
     "output_type": "execute_result"
    },
    {
     "data": {
      "text/plain": [
       "0"
      ]
     },
     "execution_count": 4,
     "metadata": {},
     "output_type": "execute_result"
    },
    {
     "data": {
      "text/plain": [
       "8"
      ]
     },
     "execution_count": 4,
     "metadata": {},
     "output_type": "execute_result"
    },
    {
     "data": {
      "text/plain": [
       "105"
      ]
     },
     "execution_count": 4,
     "metadata": {},
     "output_type": "execute_result"
    }
   ],
   "source": [
    "3/2\n",
    "5/2\n",
    "2/2\n",
    "7 % 3\n",
    "50 % 5\n",
    "2 ** 3\n",
    "2 + 10 * 10 + 3"
   ]
  },
  {
   "cell_type": "markdown",
   "id": "7d521304-ce61-4b21-84a0-89a779c5d6bf",
   "metadata": {},
   "source": [
    "### Variable assignment"
   ]
  },
  {
   "cell_type": "code",
   "execution_count": 7,
   "id": "fdef50cd-c473-413c-b814-9566aa162927",
   "metadata": {},
   "outputs": [
    {
     "data": {
      "text/plain": [
       "1"
      ]
     },
     "execution_count": 7,
     "metadata": {},
     "output_type": "execute_result"
    },
    {
     "data": {
      "text/plain": [
       "int"
      ]
     },
     "execution_count": 7,
     "metadata": {},
     "output_type": "execute_result"
    }
   ],
   "source": [
    "my_dog = 1\n",
    "my_dog\n",
    "type(my_dog)"
   ]
  },
  {
   "cell_type": "code",
   "execution_count": 8,
   "id": "7973d430-37fd-43c2-9591-bb078934534e",
   "metadata": {},
   "outputs": [
    {
     "data": {
      "text/plain": [
       "float"
      ]
     },
     "execution_count": 8,
     "metadata": {},
     "output_type": "execute_result"
    }
   ],
   "source": [
    "b = 30.1\n",
    "type(b)"
   ]
  },
  {
   "cell_type": "code",
   "execution_count": 10,
   "id": "8834edc7-96ff-40e1-b24a-75400fa6857b",
   "metadata": {},
   "outputs": [
    {
     "data": {
      "text/plain": [
       "10.0"
      ]
     },
     "execution_count": 10,
     "metadata": {},
     "output_type": "execute_result"
    }
   ],
   "source": [
    "my_income = 100\n",
    "tax_rate = 0.1\n",
    "my_taxes = my_income * tax_rate\n",
    "my_taxes"
   ]
  },
  {
   "cell_type": "markdown",
   "id": "c2074030-0203-4e2c-94d1-7b35197cdc0e",
   "metadata": {},
   "source": [
    "# STRINGS\n",
    "## Keyword: Ordered sequences, Indexing, Slicing [start:stop:step], unmutable.\n",
    "### start index always included.\n",
    "### stop index not always included."
   ]
  },
  {
   "cell_type": "code",
   "execution_count": 12,
   "id": "6b24f409-5d1b-4cef-a55d-5b796d0582b3",
   "metadata": {},
   "outputs": [
    {
     "data": {
      "text/plain": [
       "'hello'"
      ]
     },
     "execution_count": 12,
     "metadata": {},
     "output_type": "execute_result"
    },
    {
     "data": {
      "text/plain": [
       "'hello'"
      ]
     },
     "execution_count": 12,
     "metadata": {},
     "output_type": "execute_result"
    },
    {
     "data": {
      "text/plain": [
       "'this is also a string'"
      ]
     },
     "execution_count": 12,
     "metadata": {},
     "output_type": "execute_result"
    },
    {
     "data": {
      "text/plain": [
       "\"Hi I'm going to meet you\""
      ]
     },
     "execution_count": 12,
     "metadata": {},
     "output_type": "execute_result"
    }
   ],
   "source": [
    "'hello'\n",
    "\"hello\"\n",
    "'this is also a string'\n",
    "\"Hi I'm going to meet you\""
   ]
  },
  {
   "cell_type": "code",
   "execution_count": 13,
   "id": "2c2c6dcf-b791-4554-a313-e1d792e1cbed",
   "metadata": {},
   "outputs": [
    {
     "name": "stdout",
     "output_type": "stream",
     "text": [
      "hello\n",
      "hello\n",
      "this is also a string\n",
      "Hi I'm going to meet you\n"
     ]
    }
   ],
   "source": [
    "print('hello')\n",
    "print(\"hello\")\n",
    "print('this is also a string')\n",
    "print(\"Hi I'm going to meet you\")"
   ]
  },
  {
   "cell_type": "code",
   "execution_count": 16,
   "id": "1d054523-4ef7-4c27-aadd-f2cb6c2c9e1e",
   "metadata": {},
   "outputs": [
    {
     "name": "stdout",
     "output_type": "stream",
     "text": [
      "hello \n",
      "world\n",
      "hello\tworld\n"
     ]
    }
   ],
   "source": [
    "print('hello \\nworld')\n",
    "print('hello\\tworld')"
   ]
  },
  {
   "cell_type": "code",
   "execution_count": 17,
   "id": "b88b8943-b2de-4771-856a-321d68a5bbeb",
   "metadata": {},
   "outputs": [
    {
     "data": {
      "text/plain": [
       "5"
      ]
     },
     "execution_count": 17,
     "metadata": {},
     "output_type": "execute_result"
    }
   ],
   "source": [
    "len('hello')"
   ]
  },
  {
   "cell_type": "code",
   "execution_count": 25,
   "id": "1761f872-9c6e-48da-91e5-ae9762b3577a",
   "metadata": {},
   "outputs": [
    {
     "data": {
      "text/plain": [
       "'Hello World'"
      ]
     },
     "execution_count": 25,
     "metadata": {},
     "output_type": "execute_result"
    },
    {
     "data": {
      "text/plain": [
       "'H'"
      ]
     },
     "execution_count": 25,
     "metadata": {},
     "output_type": "execute_result"
    },
    {
     "data": {
      "text/plain": [
       "'e'"
      ]
     },
     "execution_count": 25,
     "metadata": {},
     "output_type": "execute_result"
    },
    {
     "data": {
      "text/plain": [
       "'r'"
      ]
     },
     "execution_count": 25,
     "metadata": {},
     "output_type": "execute_result"
    },
    {
     "data": {
      "text/plain": [
       "'d'"
      ]
     },
     "execution_count": 25,
     "metadata": {},
     "output_type": "execute_result"
    },
    {
     "data": {
      "text/plain": [
       "'l'"
      ]
     },
     "execution_count": 25,
     "metadata": {},
     "output_type": "execute_result"
    }
   ],
   "source": [
    "# Indexing\n",
    "mystring = 'Hello World'\n",
    "mystring\n",
    "mystring[0]\n",
    "mystring[1]\n",
    "mystring[8]\n",
    "mystring[-1]\n",
    "mystring[-2]"
   ]
  },
  {
   "cell_type": "code",
   "execution_count": 36,
   "id": "60ec1679-1e68-4cf8-af89-88f4df890896",
   "metadata": {},
   "outputs": [
    {
     "data": {
      "text/plain": [
       "'abcdefghijk'"
      ]
     },
     "execution_count": 36,
     "metadata": {},
     "output_type": "execute_result"
    },
    {
     "data": {
      "text/plain": [
       "'cdefghijk'"
      ]
     },
     "execution_count": 36,
     "metadata": {},
     "output_type": "execute_result"
    },
    {
     "data": {
      "text/plain": [
       "'abc'"
      ]
     },
     "execution_count": 36,
     "metadata": {},
     "output_type": "execute_result"
    },
    {
     "data": {
      "text/plain": [
       "'cde'"
      ]
     },
     "execution_count": 36,
     "metadata": {},
     "output_type": "execute_result"
    },
    {
     "data": {
      "text/plain": [
       "'abcdefghijk'"
      ]
     },
     "execution_count": 36,
     "metadata": {},
     "output_type": "execute_result"
    },
    {
     "data": {
      "text/plain": [
       "'acegik'"
      ]
     },
     "execution_count": 36,
     "metadata": {},
     "output_type": "execute_result"
    },
    {
     "data": {
      "text/plain": [
       "'ceg'"
      ]
     },
     "execution_count": 36,
     "metadata": {},
     "output_type": "execute_result"
    },
    {
     "data": {
      "text/plain": [
       "'kjihgfedcba'"
      ]
     },
     "execution_count": 36,
     "metadata": {},
     "output_type": "execute_result"
    }
   ],
   "source": [
    "# Slicing\n",
    "mystring = 'abcdefghijk'\n",
    "mystring\n",
    "mystring[2:]\n",
    "mystring[:3]\n",
    "mystring[2:5]\n",
    "mystring[::]\n",
    "mystring[::2] # start always from 0 which is a\n",
    "mystring[2:7:2]\n",
    "mystring[::-1] # reverse indexing"
   ]
  },
  {
   "cell_type": "code",
   "execution_count": 40,
   "id": "e733d76f-171e-464e-a89a-066dd6502fe0",
   "metadata": {},
   "outputs": [
    {
     "data": {
      "text/plain": [
       "'Endar'"
      ]
     },
     "execution_count": 40,
     "metadata": {},
     "output_type": "execute_result"
    }
   ],
   "source": [
    "# Immutability\n",
    "firstname = 'Andar'\n",
    "\n",
    "# change firstname to be 'Endar'\n",
    "textname = firstname[1:]\n",
    "'E' + textname\n"
   ]
  },
  {
   "cell_type": "code",
   "execution_count": 48,
   "id": "2e2a8554-dbef-495a-82fc-fa2f8db17f4e",
   "metadata": {},
   "outputs": [
    {
     "data": {
      "text/plain": [
       "'HELLO THIS IS MY WORLD'"
      ]
     },
     "execution_count": 48,
     "metadata": {},
     "output_type": "execute_result"
    },
    {
     "data": {
      "text/plain": [
       "'HELLO THIS IS MY WORLD'"
      ]
     },
     "execution_count": 48,
     "metadata": {},
     "output_type": "execute_result"
    },
    {
     "data": {
      "text/plain": [
       "['hello', 'this', 'is', 'my', 'world']"
      ]
     },
     "execution_count": 48,
     "metadata": {},
     "output_type": "execute_result"
    },
    {
     "data": {
      "text/plain": [
       "['hello th', 's ', 's my world']"
      ]
     },
     "execution_count": 48,
     "metadata": {},
     "output_type": "execute_result"
    }
   ],
   "source": [
    "x = 'Hello This is my world'\n",
    "x.upper()\n",
    "x = x.upper()\n",
    "x\n",
    "x = x.lower()\n",
    "x.split() # Function split() to split each word until find space and make them to be 1 list\n",
    "x.split('i') # Function split('i) to split each word until find char 'i' and make them to be 1 list"
   ]
  },
  {
   "cell_type": "code",
   "execution_count": 61,
   "id": "5f90ab03-1987-4a9d-a2f7-84dfeb015198",
   "metadata": {},
   "outputs": [
    {
     "name": "stdout",
     "output_type": "stream",
     "text": [
      "This is a string INSERTED\n",
      "Hello my name is Andar. I am a student of UNSW\n",
      "I like to eat apple,fish,snack\n",
      "I like to eat apple,apple,apple\n",
      "I like to eat fish,apple,snack\n",
      "Hello my name is Andar\n"
     ]
    }
   ],
   "source": [
    "# Print variables\n",
    "# using .format() and f-strings\n",
    "\n",
    "# using .format() method\n",
    "print('This is a string {}'.format('INSERTED'))\n",
    "print('Hello my name is {}. I am a {} of {}'.format('Andar','student','UNSW'))\n",
    "print('I like to eat {},{},{}'.format('apple','fish','snack'))\n",
    "print('I like to eat {0},{0},{0}'.format('apple','fish','snack'))\n",
    "print('I like to eat {f},{a},{s}'.format(a='apple',f='fish',s='snack'))\n",
    "\n",
    "# using f-strings\n",
    "name = 'Andar'\n",
    "print(f'Hello my name is {name}')"
   ]
  },
  {
   "cell_type": "code",
   "execution_count": 59,
   "id": "6216a4e4-7c28-4f60-ad75-e0a9beef146f",
   "metadata": {},
   "outputs": [
    {
     "data": {
      "text/plain": [
       "1.2987012987012987"
      ]
     },
     "execution_count": 59,
     "metadata": {},
     "output_type": "execute_result"
    },
    {
     "name": "stdout",
     "output_type": "stream",
     "text": [
      "The test result is 1.2987012987012987\n",
      "The test result is 1.299\n",
      "The test result is      1.299\n",
      "The test result is 1.2987\n"
     ]
    }
   ],
   "source": [
    "# Float formatting follows \"{value:width.precision f}\"\n",
    "result = 100/77\n",
    "result\n",
    "print('The test result is {r}'.format(r = result))\n",
    "print('The test result is {r:1.3f}'.format(r = result))\n",
    "print('The test result is {r:10.3f}'.format(r = result))  # 10 is width of space, 3 is how many numbers beside comma\n",
    "print('The test result is {r:1.4f}'.format(r = result))"
   ]
  },
  {
   "cell_type": "markdown",
   "id": "06dcb795-036f-4ba8-a59b-020f0148b4fd",
   "metadata": {},
   "source": [
    "# LISTS\n",
    "## Keyword: ordered sequences, slicing, indexing, mutable"
   ]
  },
  {
   "cell_type": "code",
   "execution_count": 75,
   "id": "671f5d4a-e281-442b-97d0-5694b718add8",
   "metadata": {},
   "outputs": [
    {
     "data": {
      "text/plain": [
       "3"
      ]
     },
     "execution_count": 75,
     "metadata": {},
     "output_type": "execute_result"
    },
    {
     "data": {
      "text/plain": [
       "'STRING'"
      ]
     },
     "execution_count": 75,
     "metadata": {},
     "output_type": "execute_result"
    },
    {
     "data": {
      "text/plain": [
       "[100, 232.5]"
      ]
     },
     "execution_count": 75,
     "metadata": {},
     "output_type": "execute_result"
    },
    {
     "data": {
      "text/plain": [
       "['STRING', 100, 232.5, 'three', 'four']"
      ]
     },
     "execution_count": 75,
     "metadata": {},
     "output_type": "execute_result"
    },
    {
     "data": {
      "text/plain": [
       "['one', 100, 232.5, 'three', 'four']"
      ]
     },
     "execution_count": 75,
     "metadata": {},
     "output_type": "execute_result"
    },
    {
     "data": {
      "text/plain": [
       "['one', 100, 232.5, 'three', 'four', 'five']"
      ]
     },
     "execution_count": 75,
     "metadata": {},
     "output_type": "execute_result"
    },
    {
     "data": {
      "text/plain": [
       "'five'"
      ]
     },
     "execution_count": 75,
     "metadata": {},
     "output_type": "execute_result"
    },
    {
     "data": {
      "text/plain": [
       "'one'"
      ]
     },
     "execution_count": 75,
     "metadata": {},
     "output_type": "execute_result"
    },
    {
     "data": {
      "text/plain": [
       "['a', 'b', 'c', 'e', 'x']"
      ]
     },
     "execution_count": 75,
     "metadata": {},
     "output_type": "execute_result"
    }
   ],
   "source": [
    "mylist = [1,2,3]\n",
    "mylist = ['STRING', 100, 232.5]\n",
    "len(mylist)\n",
    "mylist[0]\n",
    "mylist[1:]\n",
    "another_list = ['three', 'four']\n",
    "new_list = mylist + another_list\n",
    "new_list\n",
    "new_list[0] = 'one'\n",
    "new_list\n",
    "new_list.append('five')\n",
    "new_list\n",
    "\n",
    "new_list.pop() # pop() is the function to remove last member of list\n",
    "new_list.pop(0) # pop(0) is the function to remove the first member of list\n",
    "\n",
    "new_list = ['a','e','x','b','c']\n",
    "num_list = [4,1,3,6]\n",
    "new_list.sort()\n",
    "my_new_list = new_list \n",
    "my_new_list"
   ]
  },
  {
   "cell_type": "markdown",
   "id": "26464eb0-2fe6-4040-949d-308638eb9054",
   "metadata": {},
   "source": [
    "# DICTIONARIES\n",
    "## Keyword: un-ordered mappings.\n",
    "## {'key1':'value1','key2':'value2'}\n",
    "### Dictionaries : objects retrieved by key name. Unordered and can not be sorted.\n",
    "### Lists : objects retrieved by location. Ordered sequence can be indexed or sliced."
   ]
  },
  {
   "cell_type": "code",
   "execution_count": 97,
   "id": "4413d10b-b317-4036-8786-d94756d74dd9",
   "metadata": {},
   "outputs": [
    {
     "data": {
      "text/plain": [
       "{'key1': 'value1', 'key2': 'value2'}"
      ]
     },
     "execution_count": 97,
     "metadata": {},
     "output_type": "execute_result"
    },
    {
     "data": {
      "text/plain": [
       "'value1'"
      ]
     },
     "execution_count": 97,
     "metadata": {},
     "output_type": "execute_result"
    },
    {
     "data": {
      "text/plain": [
       "2.99"
      ]
     },
     "execution_count": 97,
     "metadata": {},
     "output_type": "execute_result"
    },
    {
     "data": {
      "text/plain": [
       "{'insideKey': 3}"
      ]
     },
     "execution_count": 97,
     "metadata": {},
     "output_type": "execute_result"
    },
    {
     "data": {
      "text/plain": [
       "3"
      ]
     },
     "execution_count": 97,
     "metadata": {},
     "output_type": "execute_result"
    },
    {
     "data": {
      "text/plain": [
       "[3, 1, 4]"
      ]
     },
     "execution_count": 97,
     "metadata": {},
     "output_type": "execute_result"
    },
    {
     "data": {
      "text/plain": [
       "3"
      ]
     },
     "execution_count": 97,
     "metadata": {},
     "output_type": "execute_result"
    },
    {
     "data": {
      "text/plain": [
       "'C'"
      ]
     },
     "execution_count": 97,
     "metadata": {},
     "output_type": "execute_result"
    },
    {
     "data": {
      "text/plain": [
       "{'key1': ['a', 'b', 'C']}"
      ]
     },
     "execution_count": 97,
     "metadata": {},
     "output_type": "execute_result"
    },
    {
     "data": {
      "text/plain": [
       "{'k1': 100, 'k2': 200}"
      ]
     },
     "execution_count": 97,
     "metadata": {},
     "output_type": "execute_result"
    },
    {
     "data": {
      "text/plain": [
       "{'k1': 100, 'k2': 200, 'k3': 300}"
      ]
     },
     "execution_count": 97,
     "metadata": {},
     "output_type": "execute_result"
    },
    {
     "data": {
      "text/plain": [
       "dict_keys(['k1', 'k2', 'k3'])"
      ]
     },
     "execution_count": 97,
     "metadata": {},
     "output_type": "execute_result"
    },
    {
     "data": {
      "text/plain": [
       "dict_values([100, 200, 300])"
      ]
     },
     "execution_count": 97,
     "metadata": {},
     "output_type": "execute_result"
    },
    {
     "data": {
      "text/plain": [
       "dict_items([('k1', 100), ('k2', 200), ('k3', 300)])"
      ]
     },
     "execution_count": 97,
     "metadata": {},
     "output_type": "execute_result"
    }
   ],
   "source": [
    "my_dict = {'key1':'value1', 'key2':'value2'}\n",
    "my_dict\n",
    "my_dict['key1']\n",
    "prices_lookup = {'apple': 2.99, 'orange':3, 'banana': 1}\n",
    "prices_lookup['apple']\n",
    "\n",
    "d = {'k1':123, 'k2':[3,1,4], 'k3':{'insideKey':3}}\n",
    "d['k3']\n",
    "d['k3']['insideKey']\n",
    "d['k2']\n",
    "d['k2'][0]\n",
    "\n",
    "d = {'key1':['a','b','c']}\n",
    "d['key1'][2].upper()\n",
    "# high technical to change the value of key1 which consist of List member.\n",
    "# Remember in List: [1] + [2] + [3] = [1,2,3]\n",
    "d['key1'] = [d['key1'][0]] + [d['key1'][1]] + [d['key1'][2].upper()]    # high technical to change the value of key1 which consist of List member.\n",
    "d\n",
    "\n",
    "d = {'k1':100, 'k2':200}\n",
    "d\n",
    "d['k3'] = 300 # add new key k3 to the dictionaries with its value\n",
    "d\n",
    "d.keys()\n",
    "d.values()\n",
    "d.items()"
   ]
  },
  {
   "cell_type": "markdown",
   "id": "18fddfcf-8d42-4952-9760-be1d7d8f9368",
   "metadata": {},
   "source": [
    "# TUPLES\n",
    "## Keyword : immutability. Tuples uses paranthesis (1,2,3)\n",
    "## Tuples is similar with List"
   ]
  },
  {
   "cell_type": "code",
   "execution_count": 147,
   "id": "077daacf-1de4-4474-a571-bdcd0c6be548",
   "metadata": {},
   "outputs": [
    {
     "data": {
      "text/plain": [
       "3"
      ]
     },
     "execution_count": 147,
     "metadata": {},
     "output_type": "execute_result"
    },
    {
     "data": {
      "text/plain": [
       "3"
      ]
     },
     "execution_count": 147,
     "metadata": {},
     "output_type": "execute_result"
    },
    {
     "data": {
      "text/plain": [
       "2"
      ]
     },
     "execution_count": 147,
     "metadata": {},
     "output_type": "execute_result"
    },
    {
     "data": {
      "text/plain": [
       "0"
      ]
     },
     "execution_count": 147,
     "metadata": {},
     "output_type": "execute_result"
    },
    {
     "data": {
      "text/plain": [
       "2"
      ]
     },
     "execution_count": 147,
     "metadata": {},
     "output_type": "execute_result"
    },
    {
     "data": {
      "text/plain": [
       "['NEW', 5, 6]"
      ]
     },
     "execution_count": 147,
     "metadata": {},
     "output_type": "execute_result"
    },
    {
     "data": {
      "text/plain": [
       "'b'"
      ]
     },
     "execution_count": 147,
     "metadata": {},
     "output_type": "execute_result"
    }
   ],
   "source": [
    "t = (1,2,3)\n",
    "mylist = [4,5,6]\n",
    "len(t)\n",
    "len(mylist)\n",
    "\n",
    "t = ('a','a','b')\n",
    "t.count('a')\n",
    "t.index('a')\n",
    "t.index('b')\n",
    "\n",
    "mylist[0] = 'NEW'\n",
    "mylist\n",
    "t[2]\n"
   ]
  },
  {
   "cell_type": "markdown",
   "id": "37de2855-d716-4259-80d4-881d1f915743",
   "metadata": {},
   "source": [
    "# SETS\n",
    "## Keyword: unordered collections of unique elements."
   ]
  },
  {
   "cell_type": "code",
   "execution_count": 112,
   "id": "0a787835-3609-4670-b3fa-4848e6e9f35b",
   "metadata": {},
   "outputs": [
    {
     "data": {
      "text/plain": [
       "set()"
      ]
     },
     "execution_count": 112,
     "metadata": {},
     "output_type": "execute_result"
    },
    {
     "data": {
      "text/plain": [
       "{1}"
      ]
     },
     "execution_count": 112,
     "metadata": {},
     "output_type": "execute_result"
    },
    {
     "data": {
      "text/plain": [
       "{1, 'two'}"
      ]
     },
     "execution_count": 112,
     "metadata": {},
     "output_type": "execute_result"
    },
    {
     "data": {
      "text/plain": [
       "{1, 'two'}"
      ]
     },
     "execution_count": 112,
     "metadata": {},
     "output_type": "execute_result"
    },
    {
     "data": {
      "text/plain": [
       "{'M', 'i', 'p', 's'}"
      ]
     },
     "execution_count": 112,
     "metadata": {},
     "output_type": "execute_result"
    }
   ],
   "source": [
    "myset = set() # how to make set, always use set() function\n",
    "myset\n",
    "myset.add(1)\n",
    "myset\n",
    "myset.add('two')\n",
    "myset\n",
    "\n",
    "# try to add same value to the set the number 1, it will not make it. Because set has unique elements\n",
    "myset.add(1)\n",
    "myset\n",
    "\n",
    "set('Mississipi')"
   ]
  },
  {
   "cell_type": "markdown",
   "id": "ce0d3b77-44b0-45ee-a05b-833193217899",
   "metadata": {},
   "source": [
    "# BOOLEAN\n",
    "## Keyword: True or False"
   ]
  },
  {
   "cell_type": "code",
   "execution_count": 115,
   "id": "cbe59387-a88d-4052-8407-b16e61a151ce",
   "metadata": {},
   "outputs": [
    {
     "data": {
      "text/plain": [
       "True"
      ]
     },
     "execution_count": 115,
     "metadata": {},
     "output_type": "execute_result"
    },
    {
     "data": {
      "text/plain": [
       "False"
      ]
     },
     "execution_count": 115,
     "metadata": {},
     "output_type": "execute_result"
    },
    {
     "data": {
      "text/plain": [
       "bool"
      ]
     },
     "execution_count": 115,
     "metadata": {},
     "output_type": "execute_result"
    },
    {
     "data": {
      "text/plain": [
       "False"
      ]
     },
     "execution_count": 115,
     "metadata": {},
     "output_type": "execute_result"
    },
    {
     "data": {
      "text/plain": [
       "False"
      ]
     },
     "execution_count": 115,
     "metadata": {},
     "output_type": "execute_result"
    }
   ],
   "source": [
    "True\n",
    "False\n",
    "type(True)\n",
    "\n",
    "1 > 2\n",
    "4 < 1"
   ]
  },
  {
   "cell_type": "markdown",
   "id": "0d2cc70d-052f-42b7-807f-44b5ea840ef9",
   "metadata": {},
   "source": [
    "# FILES\n",
    "## Works with basic.txt\n",
    "## Keyword: %%writefile namefile.txt"
   ]
  },
  {
   "cell_type": "code",
   "execution_count": 137,
   "id": "7ee3f995-0fa3-4ee0-9cdf-1853a818dfbe",
   "metadata": {},
   "outputs": [
    {
     "name": "stdout",
     "output_type": "stream",
     "text": [
      "Overwriting basic.txt\n"
     ]
    }
   ],
   "source": [
    "%%writefile basic.txt\n",
    "ONE ON FIRST\n",
    "TWO ON SECOND\n",
    "THREE ON THIRD"
   ]
  },
  {
   "cell_type": "code",
   "execution_count": 144,
   "id": "18875975-8516-4ebc-911c-0d9211ce7353",
   "metadata": {},
   "outputs": [
    {
     "data": {
      "text/plain": [
       "'ONE ON FIRST\\nTWO ON SECOND\\nTHREE ON THIRD\\nFOUR ON FOURTHFOUR ON FOURTHFOUR ON FOURTHFOUR ON FOURTHFOUR ON FOURTH'"
      ]
     },
     "execution_count": 144,
     "metadata": {},
     "output_type": "execute_result"
    },
    {
     "data": {
      "text/plain": [
       "0"
      ]
     },
     "execution_count": 144,
     "metadata": {},
     "output_type": "execute_result"
    },
    {
     "data": {
      "text/plain": [
       "'ONE ON FIRST\\nTWO ON SECOND\\nTHREE ON THIRD\\nFOUR ON FOURTHFOUR ON FOURTHFOUR ON FOURTHFOUR ON FOURTHFOUR ON FOURTH'"
      ]
     },
     "execution_count": 144,
     "metadata": {},
     "output_type": "execute_result"
    },
    {
     "data": {
      "text/plain": [
       "0"
      ]
     },
     "execution_count": 144,
     "metadata": {},
     "output_type": "execute_result"
    },
    {
     "data": {
      "text/plain": [
       "['ONE ON FIRST\\n',\n",
       " 'TWO ON SECOND\\n',\n",
       " 'THREE ON THIRD\\n',\n",
       " 'FOUR ON FOURTHFOUR ON FOURTHFOUR ON FOURTHFOUR ON FOURTHFOUR ON FOURTH']"
      ]
     },
     "execution_count": 144,
     "metadata": {},
     "output_type": "execute_result"
    },
    {
     "data": {
      "text/plain": [
       "'ONE ON FIRST\\nTWO ON SECOND\\nTHREE ON THIRD\\nFOUR ON FOURTHFOUR ON FOURTHFOUR ON FOURTHFOUR ON FOURTHFOUR ON FOURTH'"
      ]
     },
     "execution_count": 144,
     "metadata": {},
     "output_type": "execute_result"
    },
    {
     "data": {
      "text/plain": [
       "14"
      ]
     },
     "execution_count": 144,
     "metadata": {},
     "output_type": "execute_result"
    },
    {
     "name": "stdout",
     "output_type": "stream",
     "text": [
      "ONE ON FIRST\n",
      "TWO ON SECOND\n",
      "THREE ON THIRD\n",
      "FOUR ON FOURTHFOUR ON FOURTHFOUR ON FOURTHFOUR ON FOURTHFOUR ON FOURTHFOUR ON FOURTH\n"
     ]
    },
    {
     "data": {
      "text/plain": [
       "18"
      ]
     },
     "execution_count": 144,
     "metadata": {},
     "output_type": "execute_result"
    },
    {
     "data": {
      "text/plain": [
       "'This is a new file'"
      ]
     },
     "execution_count": 144,
     "metadata": {},
     "output_type": "execute_result"
    }
   ],
   "source": [
    "myfile = open('D:\\\\UNSW\\\\COMP9021\\\\_Bootcamp_\\\\Training\\\\basic.txt')\n",
    "myfile.read()\n",
    "\n",
    "myfile.seek(0)  # to reset the cursor after read back to 0 position\n",
    "myfile.read()\n",
    "\n",
    "myfile.seek(0)\n",
    "myfile.readlines() # to make the content of file to be a List\n",
    "\n",
    "with open('basic.txt') as my_new_file:\n",
    "    contents = my_new_file.read()\n",
    "contents\n",
    "\n",
    "# mode: r for read only,w for write only, a for append only, r+ for reading and writing, w+ for writing and reading.\n",
    "with open('basic.txt',mode='r') as myfile:\n",
    "    contents = myfile.read()\n",
    "    \n",
    "with open('basic.txt', mode='a') as myfile:\n",
    "    myfile.write('FOUR ON FOURTH')\n",
    "\n",
    "# read the file\n",
    "with open('basic.txt', mode='r') as f:\n",
    "    print(f.read())\n",
    "\n",
    "with open('testingnewfile.txt',mode='w') as f:\n",
    "    f.write('This is a new file')\n",
    "\n",
    "with open('testingnewfile.txt',mode='r') as f:\n",
    "    f.read()"
   ]
  },
  {
   "cell_type": "code",
   "execution_count": 119,
   "id": "78246345-e255-49a3-9404-af4fc0651c75",
   "metadata": {},
   "outputs": [
    {
     "data": {
      "text/plain": [
       "'D:\\\\UNSW\\\\COMP9021\\\\_Bootcamp_\\\\Training'"
      ]
     },
     "execution_count": 119,
     "metadata": {},
     "output_type": "execute_result"
    }
   ],
   "source": [
    "pwd"
   ]
  },
  {
   "cell_type": "code",
   "execution_count": null,
   "id": "c0db84ce-0362-456c-a500-62df0280ed6e",
   "metadata": {},
   "outputs": [],
   "source": []
  }
 ],
 "metadata": {
  "kernelspec": {
   "display_name": "Python 3 (ipykernel)",
   "language": "python",
   "name": "python3"
  },
  "language_info": {
   "codemirror_mode": {
    "name": "ipython",
    "version": 3
   },
   "file_extension": ".py",
   "mimetype": "text/x-python",
   "name": "python",
   "nbconvert_exporter": "python",
   "pygments_lexer": "ipython3",
   "version": "3.9.16"
  }
 },
 "nbformat": 4,
 "nbformat_minor": 5
}
