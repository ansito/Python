{
 "cells": [
  {
   "cell_type": "markdown",
   "id": "a07e1ae8-bca6-42da-8605-e6e0d3be05fe",
   "metadata": {},
   "source": [
    "# Comparison Operators in Python"
   ]
  },
  {
   "cell_type": "code",
   "execution_count": 5,
   "id": "ebb42f3b-fb55-4e9a-995d-7b2317ac4e36",
   "metadata": {},
   "outputs": [
    {
     "data": {
      "text/plain": [
       "True"
      ]
     },
     "execution_count": 5,
     "metadata": {},
     "output_type": "execute_result"
    },
    {
     "data": {
      "text/plain": [
       "True"
      ]
     },
     "execution_count": 5,
     "metadata": {},
     "output_type": "execute_result"
    },
    {
     "data": {
      "text/plain": [
       "False"
      ]
     },
     "execution_count": 5,
     "metadata": {},
     "output_type": "execute_result"
    },
    {
     "data": {
      "text/plain": [
       "False"
      ]
     },
     "execution_count": 5,
     "metadata": {},
     "output_type": "execute_result"
    },
    {
     "data": {
      "text/plain": [
       "False"
      ]
     },
     "execution_count": 5,
     "metadata": {},
     "output_type": "execute_result"
    }
   ],
   "source": [
    "2 == 2\n",
    "2 == 2.0\n",
    "2 < 1\n",
    "'hello' == 'HELLO'\n",
    "'2' == 2"
   ]
  },
  {
   "cell_type": "markdown",
   "id": "aec78231-1b15-4c83-a5b9-85b76703f8f3",
   "metadata": {},
   "source": [
    "# Chaining Comparison Operators\n",
    "## Keyword: AND, OR, NOT"
   ]
  },
  {
   "cell_type": "code",
   "execution_count": 11,
   "id": "8cfc24d5-b7ef-4a69-b789-01f0dbe4f6a6",
   "metadata": {},
   "outputs": [
    {
     "data": {
      "text/plain": [
       "True"
      ]
     },
     "execution_count": 11,
     "metadata": {},
     "output_type": "execute_result"
    },
    {
     "data": {
      "text/plain": [
       "True"
      ]
     },
     "execution_count": 11,
     "metadata": {},
     "output_type": "execute_result"
    },
    {
     "data": {
      "text/plain": [
       "True"
      ]
     },
     "execution_count": 11,
     "metadata": {},
     "output_type": "execute_result"
    },
    {
     "data": {
      "text/plain": [
       "False"
      ]
     },
     "execution_count": 11,
     "metadata": {},
     "output_type": "execute_result"
    },
    {
     "data": {
      "text/plain": [
       "True"
      ]
     },
     "execution_count": 11,
     "metadata": {},
     "output_type": "execute_result"
    },
    {
     "data": {
      "text/plain": [
       "True"
      ]
     },
     "execution_count": 11,
     "metadata": {},
     "output_type": "execute_result"
    },
    {
     "data": {
      "text/plain": [
       "False"
      ]
     },
     "execution_count": 11,
     "metadata": {},
     "output_type": "execute_result"
    }
   ],
   "source": [
    "1 < 2\n",
    "2 < 3\n",
    "1 < 2 < 3  \n",
    "1 < 2 < 0\n",
    "1 < 2 and 2 < 3   # CHAINING COMPARISON, and will generate TRUE if all condition is TRUE.\n",
    "1 == 2 or 2 != 3  # CHAINING COMPARISON, or will generate TRUE if one condition is TRUE.\n",
    "not 1==1          # CHAINING COMPARISON, not will generate an opposite boolean of condition.   "
   ]
  },
  {
   "cell_type": "markdown",
   "id": "df829b4e-2098-4f39-865b-42a0efee8c2d",
   "metadata": {},
   "source": [
    "# IF, ELIF, ELSE STATEMENTS\n",
    "## Keyword: Control Flow (condition and action) uses of colons, and indentation (whitespace).\n",
    "### if some_condition:\n",
    "###      # execute some code\n",
    "### elif some_other_condition:\n",
    "###      # execute some code\n",
    "### else:\n",
    "###      # do something else"
   ]
  },
  {
   "cell_type": "code",
   "execution_count": 18,
   "id": "5bcb6eed-22c6-4632-98f2-bce6582b15f7",
   "metadata": {},
   "outputs": [
    {
     "name": "stdout",
     "output_type": "stream",
     "text": [
      "I am not hungry\n"
     ]
    }
   ],
   "source": [
    "hungry = False\n",
    "if hungry:\n",
    "    print('Feed Me!')\n",
    "else:\n",
    "    print('I am not hungry')"
   ]
  },
  {
   "cell_type": "code",
   "execution_count": 20,
   "id": "72bf9810-fbc1-4903-b9fa-2fde7529d5dc",
   "metadata": {},
   "outputs": [
    {
     "name": "stdout",
     "output_type": "stream",
     "text": [
      "I do not know much.\n"
     ]
    }
   ],
   "source": [
    "loc = 'Game'\n",
    "if loc == 'Auto Shop':\n",
    "    print('Cars are cool!')\n",
    "elif loc == 'Bank':\n",
    "    print('Money is cool!')\n",
    "elif loc == 'Home':\n",
    "    print('Home sweet Home!')\n",
    "else:\n",
    "    print('I do not know much.')"
   ]
  },
  {
   "cell_type": "code",
   "execution_count": 26,
   "id": "2c1eba64-8a0c-4e9c-b336-5fab1da5aa6e",
   "metadata": {},
   "outputs": [
    {
     "name": "stdout",
     "output_type": "stream",
     "text": [
      "Hello Blacky!\n"
     ]
    }
   ],
   "source": [
    "name = 'Blacky'\n",
    "if name == 'Frankie':\n",
    "    print('Hello Frankie!')\n",
    "elif name == 'Andar':\n",
    "    print('Hello Andar')\n",
    "elif name == 'Nella':\n",
    "    print('Hello Nella!')\n",
    "elif name == 'Blacky':\n",
    "    print('Hello Blacky!')\n",
    "else:\n",
    "    print('What is your name?')"
   ]
  },
  {
   "cell_type": "markdown",
   "id": "f40c2e8f-ca1c-44c4-859e-b909438d42ed",
   "metadata": {},
   "source": [
    "# FOR LOOPS in Python\n",
    "## Keyword : iterable (iterate over the object)\n",
    "### my_iterable = [1,2,3]\n",
    "### for item_name in my_iterable:\n",
    "###     print(item_name)"
   ]
  },
  {
   "cell_type": "code",
   "execution_count": 27,
   "id": "071fcc82-cb06-41e8-b910-286e555bd493",
   "metadata": {},
   "outputs": [
    {
     "name": "stdout",
     "output_type": "stream",
     "text": [
      "1\n",
      "2\n",
      "3\n",
      "4\n",
      "5\n",
      "6\n",
      "7\n",
      "8\n",
      "9\n",
      "10\n"
     ]
    }
   ],
   "source": [
    "mylist = [1,2,3,4,5,6,7,8,9,10]\n",
    "for num in mylist:\n",
    "    print(num)"
   ]
  },
  {
   "cell_type": "code",
   "execution_count": 29,
   "id": "701c28c8-cb7c-4027-9a92-187f628e80f0",
   "metadata": {},
   "outputs": [
    {
     "name": "stdout",
     "output_type": "stream",
     "text": [
      "hello\n",
      "hello\n",
      "hello\n",
      "hello\n",
      "hello\n",
      "hello\n",
      "hello\n",
      "hello\n",
      "hello\n",
      "hello\n"
     ]
    }
   ],
   "source": [
    "mylist = [1,2,3,4,5,6,7,8,9,10]\n",
    "for num in mylist:\n",
    "    print('hello')"
   ]
  },
  {
   "cell_type": "code",
   "execution_count": 30,
   "id": "bd54e839-c27b-4147-a850-9d94f40fb36f",
   "metadata": {},
   "outputs": [
    {
     "name": "stdout",
     "output_type": "stream",
     "text": [
      "Odd Number is 1\n",
      "2\n",
      "Odd Number is 3\n",
      "4\n",
      "Odd Number is 5\n",
      "6\n",
      "Odd Number is 7\n",
      "8\n",
      "Odd Number is 9\n",
      "10\n"
     ]
    }
   ],
   "source": [
    "mylist = [1,2,3,4,5,6,7,8,9,10]\n",
    "for num in mylist:\n",
    "    if num % 2 == 0:\n",
    "        print(num)\n",
    "    else:\n",
    "        print('Odd Number is {d}'.format(d=num))"
   ]
  },
  {
   "cell_type": "code",
   "execution_count": 33,
   "id": "f0646f7c-8262-4521-8230-49e5bc645ce3",
   "metadata": {},
   "outputs": [
    {
     "name": "stdout",
     "output_type": "stream",
     "text": [
      "55\n"
     ]
    }
   ],
   "source": [
    "mylist = [1,2,3,4,5,6,7,8,9,10]\n",
    "list_sum = 0\n",
    "for num in mylist:\n",
    "    list_sum = list_sum + num\n",
    "print(list_sum)"
   ]
  },
  {
   "cell_type": "code",
   "execution_count": 34,
   "id": "c4c5f687-6eec-43b6-ab5a-f8f154a90e69",
   "metadata": {},
   "outputs": [
    {
     "name": "stdout",
     "output_type": "stream",
     "text": [
      "H\n",
      "e\n",
      "l\n",
      "l\n",
      "o\n",
      " \n",
      "W\n",
      "o\n",
      "r\n",
      "d\n"
     ]
    }
   ],
   "source": [
    "mystring = 'Hello Word'\n",
    "for letter in mystring:\n",
    "    print(letter)"
   ]
  },
  {
   "cell_type": "code",
   "execution_count": 35,
   "id": "868cecf8-cca7-45c6-b681-b7493237d3e0",
   "metadata": {},
   "outputs": [
    {
     "name": "stdout",
     "output_type": "stream",
     "text": [
      "1\n",
      "2\n",
      "3\n"
     ]
    }
   ],
   "source": [
    "tup = (1,2,3)  # Tuples\n",
    "for item in tup:\n",
    "    print(item)"
   ]
  },
  {
   "cell_type": "code",
   "execution_count": 37,
   "id": "65299bef-24e6-4cdf-b70e-87418ca7548e",
   "metadata": {},
   "outputs": [
    {
     "data": {
      "text/plain": [
       "4"
      ]
     },
     "execution_count": 37,
     "metadata": {},
     "output_type": "execute_result"
    },
    {
     "name": "stdout",
     "output_type": "stream",
     "text": [
      "(1, 2)\n",
      "(3, 4)\n",
      "(5, 6)\n",
      "(7, 8)\n"
     ]
    }
   ],
   "source": [
    "mylist = [(1,2),(3,4),(5,6),(7,8)]\n",
    "len(mylist)\n",
    "for item in mylist:\n",
    "    print(item)"
   ]
  },
  {
   "cell_type": "code",
   "execution_count": 41,
   "id": "47973a88-deb2-4be2-aef2-64129b0cde06",
   "metadata": {},
   "outputs": [
    {
     "name": "stdout",
     "output_type": "stream",
     "text": [
      "1\n",
      "3\n",
      "5\n",
      "7\n"
     ]
    }
   ],
   "source": [
    "mylist = [(1,2),(3,4),(5,6),(7,8)]\n",
    "for a,b in mylist:     # Tuples, () is paranthesis\n",
    "    print(a)"
   ]
  },
  {
   "cell_type": "code",
   "execution_count": 42,
   "id": "ea708033-df3f-40da-ab6b-9da83159bcdf",
   "metadata": {},
   "outputs": [
    {
     "name": "stdout",
     "output_type": "stream",
     "text": [
      "3\n",
      "6\n",
      "9\n"
     ]
    }
   ],
   "source": [
    "mylist = [(1,2,3),(4,5,6),(7,8,9)]\n",
    "for a,b,c in mylist:\n",
    "    print(c)"
   ]
  },
  {
   "cell_type": "code",
   "execution_count": 43,
   "id": "0bf6cd48-a4d8-4675-90a5-113a40f5fec1",
   "metadata": {},
   "outputs": [
    {
     "name": "stdout",
     "output_type": "stream",
     "text": [
      "k1\n",
      "k2\n",
      "k3\n"
     ]
    }
   ],
   "source": [
    "# Loop in Dictionaries\n",
    "d = {'k1':1,'k2':2,'k3':3}\n",
    "for item in d:\n",
    "    print(item)"
   ]
  },
  {
   "cell_type": "code",
   "execution_count": 44,
   "id": "f3434629-0b4c-48f5-a7c0-5e91e0bce670",
   "metadata": {},
   "outputs": [
    {
     "name": "stdout",
     "output_type": "stream",
     "text": [
      "1\n",
      "2\n",
      "3\n"
     ]
    }
   ],
   "source": [
    "# Loop in Dictionaries\n",
    "d = {'k1':1,'k2':2,'k3':3}\n",
    "for item,value in d:\n",
    "    print(value)"
   ]
  },
  {
   "cell_type": "code",
   "execution_count": 47,
   "id": "e0aa64b1-5940-47e8-91a3-939f4410a822",
   "metadata": {},
   "outputs": [
    {
     "name": "stdout",
     "output_type": "stream",
     "text": [
      "1\n",
      "2\n",
      "3\n"
     ]
    }
   ],
   "source": [
    "# Loop in Dictionaries\n",
    "d = {'k1':1,'k2':2,'k3':3}\n",
    "for value in d.values():   # d.values() is iterable specific to each value of dictionaries\n",
    "    print(value)"
   ]
  },
  {
   "cell_type": "markdown",
   "id": "9ff12c59-9d22-4596-8a50-24dd4d6598dc",
   "metadata": {},
   "source": [
    "# While Loops in Python\n",
    "## Keyword: while remains True\n",
    "### while some_boolean_condition:\n",
    "###       # do something\n",
    "### else:\n",
    "###       # do something different"
   ]
  },
  {
   "cell_type": "code",
   "execution_count": 4,
   "id": "68ecc524-a051-4eb0-b0a4-3145bf23059b",
   "metadata": {},
   "outputs": [
    {
     "name": "stdout",
     "output_type": "stream",
     "text": [
      "The current value of x is 0\n",
      "The current value of x is 1\n",
      "The current value of x is 2\n",
      "The current value of x is 3\n",
      "The current value of x is 4\n",
      "5 is not less than 5\n"
     ]
    }
   ],
   "source": [
    "x = 0\n",
    "while x < 5:\n",
    "    print('The current value of x is {a}'.format(a=x))\n",
    "    x += 1\n",
    "else:\n",
    "    print('{b} is not less than 5'.format(b=x))"
   ]
  },
  {
   "cell_type": "code",
   "execution_count": 5,
   "id": "61579d9e-f1fc-41d7-8937-e0975659f689",
   "metadata": {},
   "outputs": [
    {
     "name": "stdout",
     "output_type": "stream",
     "text": [
      "end of my script\n"
     ]
    }
   ],
   "source": [
    "# break, continue, pass\n",
    "x = [1,2,3]\n",
    "for item in x:\n",
    "    pass\n",
    "print('end of my script')"
   ]
  },
  {
   "cell_type": "code",
   "execution_count": 8,
   "id": "b7d9caaf-74c1-4601-a323-2305b6828350",
   "metadata": {},
   "outputs": [
    {
     "name": "stdout",
     "output_type": "stream",
     "text": [
      "S\n",
      "m\n",
      "m\n",
      "y\n"
     ]
    }
   ],
   "source": [
    "# break, continue, pass\n",
    "mystring = 'Sammy'\n",
    "for letter in mystring:\n",
    "    if letter == 'a':\n",
    "        continue\n",
    "    print(letter)"
   ]
  },
  {
   "cell_type": "code",
   "execution_count": 10,
   "id": "8dba788a-d45b-4d37-ac72-fe922030f3ed",
   "metadata": {},
   "outputs": [
    {
     "name": "stdout",
     "output_type": "stream",
     "text": [
      "S\n",
      "a\n",
      "m\n",
      "m\n"
     ]
    }
   ],
   "source": [
    "# break, continue, pass\n",
    "mystring = 'Sammy'\n",
    "for letter in mystring:\n",
    "    if letter == 'y':\n",
    "        break\n",
    "    print(letter)"
   ]
  },
  {
   "cell_type": "markdown",
   "id": "c7f9176b-2220-401a-b99b-8be30a3c1838",
   "metadata": {},
   "source": [
    "# Useful Operators in Python\n",
    "### range(start,stop,step)\n",
    "### enumerate() = is to make index and item to be Tuples\n",
    "### zip() = is to merge lists to be Tuples\n",
    "### in = is to check item in List, Dictionaries, and produce Boolean result\n",
    "### min = is to find the minimum number in the list\n",
    "### max = is to find the maximum number in the list\n",
    "### from random import shuffle = is to import features shuffle in library, to shuffle item in List\n",
    "### from random import randint = is to import features randint in library, to make random number output\n",
    "### input = is to receive input from user as a string"
   ]
  },
  {
   "cell_type": "code",
   "execution_count": 11,
   "id": "c220c361-9dbc-4889-a188-bf3558f1ab77",
   "metadata": {},
   "outputs": [
    {
     "name": "stdout",
     "output_type": "stream",
     "text": [
      "0\n",
      "1\n",
      "2\n",
      "3\n",
      "4\n"
     ]
    }
   ],
   "source": [
    "mylist = [1,2,3]\n",
    "for num in range(5):\n",
    "    print(num)"
   ]
  },
  {
   "cell_type": "code",
   "execution_count": 13,
   "id": "8c4f5be5-9c89-4a23-a321-b5df60dcd231",
   "metadata": {},
   "outputs": [
    {
     "name": "stdout",
     "output_type": "stream",
     "text": [
      "1\n",
      "2\n",
      "3\n",
      "4\n"
     ]
    }
   ],
   "source": [
    "mylist = [1,2,3]\n",
    "for num in range(1,5):\n",
    "    print(num)"
   ]
  },
  {
   "cell_type": "code",
   "execution_count": 15,
   "id": "4a888116-8d14-421c-9c46-e241097ebb62",
   "metadata": {},
   "outputs": [
    {
     "name": "stdout",
     "output_type": "stream",
     "text": [
      "1\n",
      "3\n"
     ]
    }
   ],
   "source": [
    "mylist = [1,2,3]\n",
    "for num in range(1,5,2):\n",
    "    print(num)"
   ]
  },
  {
   "cell_type": "code",
   "execution_count": 20,
   "id": "8bae1299-b22b-49f4-b32b-b0cd1cf50c9a",
   "metadata": {},
   "outputs": [
    {
     "data": {
      "text/plain": [
       "[0, 2, 4, 6, 8]"
      ]
     },
     "execution_count": 20,
     "metadata": {},
     "output_type": "execute_result"
    }
   ],
   "source": [
    "mylist = list(range(0,10,2))\n",
    "mylist"
   ]
  },
  {
   "cell_type": "code",
   "execution_count": 21,
   "id": "c5b89260-b169-4a95-b192-e2d1b37423e5",
   "metadata": {},
   "outputs": [
    {
     "name": "stdout",
     "output_type": "stream",
     "text": [
      "At index 0 the letter is a\n",
      "At index 1 the letter is b\n",
      "At index 2 the letter is c\n",
      "At index 3 the letter is d\n",
      "At index 4 the letter is e\n"
     ]
    }
   ],
   "source": [
    "index_count = 0\n",
    "for letter in 'abcde':\n",
    "    print('At index {a} the letter is {b}'.format(a=index_count,b=letter))\n",
    "    index_count += 1"
   ]
  },
  {
   "cell_type": "code",
   "execution_count": 22,
   "id": "897a858d-e112-49cf-9aaa-03b821dc5d8a",
   "metadata": {},
   "outputs": [
    {
     "name": "stdout",
     "output_type": "stream",
     "text": [
      "a\n",
      "b\n",
      "c\n",
      "d\n",
      "e\n"
     ]
    }
   ],
   "source": [
    "index_count = 0\n",
    "word = 'abcde'\n",
    "for letter in word:\n",
    "    print(word[index_count])\n",
    "    index_count += 1"
   ]
  },
  {
   "cell_type": "code",
   "execution_count": 23,
   "id": "5c3699fd-1a15-46f7-acc1-a88ac4b31eca",
   "metadata": {},
   "outputs": [
    {
     "name": "stdout",
     "output_type": "stream",
     "text": [
      "(0, 'a')\n",
      "(1, 'b')\n",
      "(2, 'c')\n",
      "(3, 'd')\n",
      "(4, 'e')\n"
     ]
    }
   ],
   "source": [
    "# Enumerate\n",
    "word = 'abcde'\n",
    "for letter in enumerate(word): # Enumerate is to mix index and the item, so it will be Tuples.\n",
    "    print(letter)"
   ]
  },
  {
   "cell_type": "code",
   "execution_count": 26,
   "id": "61998554-71a4-4c77-bb28-725ae8756ad1",
   "metadata": {},
   "outputs": [
    {
     "name": "stdout",
     "output_type": "stream",
     "text": [
      "(1, 'a', 100)\n",
      "(2, 'b', 200)\n",
      "(3, 'c', 300)\n"
     ]
    }
   ],
   "source": [
    "# Zip\n",
    "mylist1 = [1,2,3]\n",
    "mylist2 = ['a','b','c']\n",
    "mylist3 = [100,200,300]\n",
    "for item in zip(mylist1,mylist2,mylist3):\n",
    "    print(item)"
   ]
  },
  {
   "cell_type": "code",
   "execution_count": 27,
   "id": "38fce18c-439e-4282-946a-b46c2539cc5a",
   "metadata": {},
   "outputs": [
    {
     "data": {
      "text/plain": [
       "[(1, 'a', 100), (2, 'b', 200), (3, 'c', 300)]"
      ]
     },
     "execution_count": 27,
     "metadata": {},
     "output_type": "execute_result"
    }
   ],
   "source": [
    "# Zip\n",
    "# to combine all list to be 1 list together\n",
    "mylist1 = [1,2,3]\n",
    "mylist2 = ['a','b','c']\n",
    "mylist3 = [100,200,300]\n",
    "list(zip(mylist1,mylist2,mylist3))"
   ]
  },
  {
   "cell_type": "code",
   "execution_count": 29,
   "id": "5d99e7ce-5188-4bda-9757-be6befa3ec1a",
   "metadata": {},
   "outputs": [
    {
     "data": {
      "text/plain": [
       "True"
      ]
     },
     "execution_count": 29,
     "metadata": {},
     "output_type": "execute_result"
    },
    {
     "data": {
      "text/plain": [
       "False"
      ]
     },
     "execution_count": 29,
     "metadata": {},
     "output_type": "execute_result"
    }
   ],
   "source": [
    "# in\n",
    "'a' in ['a','b']\n",
    "'a' in [1,2,'b']"
   ]
  },
  {
   "cell_type": "code",
   "execution_count": 30,
   "id": "766b920e-27b9-4c61-b426-c2deb3fa9d26",
   "metadata": {},
   "outputs": [
    {
     "data": {
      "text/plain": [
       "1"
      ]
     },
     "execution_count": 30,
     "metadata": {},
     "output_type": "execute_result"
    },
    {
     "data": {
      "text/plain": [
       "7"
      ]
     },
     "execution_count": 30,
     "metadata": {},
     "output_type": "execute_result"
    }
   ],
   "source": [
    "# min, max\n",
    "mylist = [1,2,3,4,5,6,7]\n",
    "min(mylist)\n",
    "max(mylist)"
   ]
  },
  {
   "cell_type": "code",
   "execution_count": 34,
   "id": "65038033-fe5d-4de4-8a93-2103bac3c617",
   "metadata": {},
   "outputs": [
    {
     "data": {
      "text/plain": [
       "[5, 7, 10, 3, 8, 1, 6, 9, 2, 4]"
      ]
     },
     "execution_count": 34,
     "metadata": {},
     "output_type": "execute_result"
    }
   ],
   "source": [
    "# import\n",
    "mylist = [1,2,3,4,5,6,7,8,9,10]\n",
    "from random import shuffle\n",
    "shuffle(mylist)\n",
    "mylist"
   ]
  },
  {
   "cell_type": "code",
   "execution_count": 36,
   "id": "fce0b7ab-3124-4ee5-9b68-bbd7a895ded1",
   "metadata": {},
   "outputs": [
    {
     "data": {
      "text/plain": [
       "42"
      ]
     },
     "execution_count": 36,
     "metadata": {},
     "output_type": "execute_result"
    }
   ],
   "source": [
    "# import\n",
    "mylist = [1,2,3,4,5,6,7,8,9,10]\n",
    "from random import randint\n",
    "randint(0,100)"
   ]
  },
  {
   "cell_type": "code",
   "execution_count": 38,
   "id": "74d0b4a7-7845-4d8f-8b9e-5fbf6612e454",
   "metadata": {},
   "outputs": [
    {
     "name": "stdin",
     "output_type": "stream",
     "text": [
      "Enter a number here:  35\n"
     ]
    },
    {
     "data": {
      "text/plain": [
       "35"
      ]
     },
     "execution_count": 38,
     "metadata": {},
     "output_type": "execute_result"
    },
    {
     "data": {
      "text/plain": [
       "35.0"
      ]
     },
     "execution_count": 38,
     "metadata": {},
     "output_type": "execute_result"
    }
   ],
   "source": [
    "# input\n",
    "result = input('Enter a number here: ')\n",
    "int(result)\n",
    "float(result)"
   ]
  },
  {
   "cell_type": "markdown",
   "id": "37cf3c73-37c3-4550-b428-829d7cbefee2",
   "metadata": {},
   "source": [
    "# LIST Comprehensions in Python"
   ]
  },
  {
   "cell_type": "code",
   "execution_count": 42,
   "id": "9ba3a781-6899-4372-85ad-fbf1ae930077",
   "metadata": {},
   "outputs": [
    {
     "data": {
      "text/plain": [
       "['h', 'e', 'l', 'l', 'o']"
      ]
     },
     "execution_count": 42,
     "metadata": {},
     "output_type": "execute_result"
    },
    {
     "data": {
      "text/plain": [
       "['h', 'e', 'l', 'l', 'o']"
      ]
     },
     "execution_count": 42,
     "metadata": {},
     "output_type": "execute_result"
    }
   ],
   "source": [
    "mystring = 'hello'\n",
    "mylist = []\n",
    "\n",
    "# first way\n",
    "for letter in mystring:\n",
    "    mylist.append(letter)\n",
    "mylist\n",
    "\n",
    "# another way\n",
    "mylist = [letter for letter in mystring]\n",
    "mylist"
   ]
  },
  {
   "cell_type": "code",
   "execution_count": 55,
   "id": "7cf91bbf-2b7b-4b0e-b7a5-05ed61f842c8",
   "metadata": {},
   "outputs": [
    {
     "data": {
      "text/plain": [
       "['A', 'n', 'd', 'a', 'r']"
      ]
     },
     "execution_count": 55,
     "metadata": {},
     "output_type": "execute_result"
    },
    {
     "data": {
      "text/plain": [
       "[0, 2, 4, 6, 8]"
      ]
     },
     "execution_count": 55,
     "metadata": {},
     "output_type": "execute_result"
    },
    {
     "data": {
      "text/plain": [
       "[0, 4, 16, 36, 64]"
      ]
     },
     "execution_count": 55,
     "metadata": {},
     "output_type": "execute_result"
    },
    {
     "data": {
      "text/plain": [
       "[0, 2, 4, 6, 8, 10, 12, 14, 16, 18]"
      ]
     },
     "execution_count": 55,
     "metadata": {},
     "output_type": "execute_result"
    },
    {
     "data": {
      "text/plain": [
       "[32.0, 50.0, 68.0, 94.1]"
      ]
     },
     "execution_count": 55,
     "metadata": {},
     "output_type": "execute_result"
    },
    {
     "data": {
      "text/plain": [
       "[32.0, 50.0, 68.0, 94.1]"
      ]
     },
     "execution_count": 55,
     "metadata": {},
     "output_type": "execute_result"
    },
    {
     "data": {
      "text/plain": [
       "[0, 'ODD', 2, 'ODD', 4, 'ODD', 6, 'ODD', 8, 'ODD']"
      ]
     },
     "execution_count": 55,
     "metadata": {},
     "output_type": "execute_result"
    },
    {
     "data": {
      "text/plain": [
       "[200, 400, 600, 400, 800, 1200, 600, 1200, 1800]"
      ]
     },
     "execution_count": 55,
     "metadata": {},
     "output_type": "execute_result"
    },
    {
     "data": {
      "text/plain": [
       "[200, 400, 600, 400, 800, 1200, 600, 1200, 1800]"
      ]
     },
     "execution_count": 55,
     "metadata": {},
     "output_type": "execute_result"
    }
   ],
   "source": [
    "mylist = [x for x in 'Andar']\n",
    "mylist\n",
    "\n",
    "mynum = [num for num in range(0,10,2)]\n",
    "mynum\n",
    "\n",
    "mynum = [num**2 for num in range(0,10,2)]\n",
    "mynum\n",
    "\n",
    "mynum = [num for num in range(0,20) if num % 2 == 0]\n",
    "mynum\n",
    "\n",
    "celcius = [0,10,20,34.5]\n",
    "fahrenheit = [((9/5) * temp + 32) for temp in celcius]\n",
    "fahrenheit\n",
    "\n",
    "fahrenheit=[]\n",
    "for temp in celcius:\n",
    "    fahrenheit.append(((9/5) * temp + 32))\n",
    "fahrenheit\n",
    "\n",
    "# odd way use if then else in List Comprehension\n",
    "results = [x if x%2 == 0 else 'ODD' for x in range(0,10)]\n",
    "results\n",
    "\n",
    "mylist = []\n",
    "\n",
    "# nested for - first way\n",
    "for x in [2,4,6]:\n",
    "    for y in [100,200,300]:\n",
    "        mylist.append(x*y)\n",
    "mylist\n",
    "\n",
    "# nested for - second way\n",
    "mylist = [x*y for y in [100,200,300] for x in [2,4,6]]\n",
    "mylist"
   ]
  },
  {
   "cell_type": "code",
   "execution_count": null,
   "id": "a8043ab3-3d9a-4130-8779-3acf22289e3c",
   "metadata": {},
   "outputs": [],
   "source": []
  }
 ],
 "metadata": {
  "kernelspec": {
   "display_name": "Python 3 (ipykernel)",
   "language": "python",
   "name": "python3"
  },
  "language_info": {
   "codemirror_mode": {
    "name": "ipython",
    "version": 3
   },
   "file_extension": ".py",
   "mimetype": "text/x-python",
   "name": "python",
   "nbconvert_exporter": "python",
   "pygments_lexer": "ipython3",
   "version": "3.9.12"
  }
 },
 "nbformat": 4,
 "nbformat_minor": 5
}
