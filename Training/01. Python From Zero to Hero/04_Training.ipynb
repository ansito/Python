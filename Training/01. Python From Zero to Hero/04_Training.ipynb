{
 "cells": [
  {
   "cell_type": "markdown",
   "id": "2775a80d-994d-4994-9cd8-781ad8ba765c",
   "metadata": {},
   "source": [
    "# Lambda Expressions Map and Filter\n",
    "## Keyword: map(function, list), iterables\n",
    "## Keyword: filter(function, list), iterables\n",
    "## Keyword: name_function = lambda input_parameter : formula_action\n",
    "## Map() : is to combine function with its input parameter directly, and output all numbered which are True and False.\n",
    "## Filter() : is to filter function with its input parameter directly, and output filtered number which are True only\n",
    "## Lambda() : is to replace Function with directly communicate the function with its input parameter"
   ]
  },
  {
   "cell_type": "code",
   "execution_count": 5,
   "id": "e4a79d2b-5289-4354-8afc-c9c9d933b937",
   "metadata": {},
   "outputs": [
    {
     "name": "stdout",
     "output_type": "stream",
     "text": [
      "1\n",
      "4\n",
      "9\n",
      "16\n",
      "25\n"
     ]
    },
    {
     "data": {
      "text/plain": [
       "[1, 4, 9, 16, 25]"
      ]
     },
     "execution_count": 5,
     "metadata": {},
     "output_type": "execute_result"
    },
    {
     "data": {
      "text/plain": [
       "['EVEN', 'E', 'S']"
      ]
     },
     "execution_count": 5,
     "metadata": {},
     "output_type": "execute_result"
    }
   ],
   "source": [
    "# Map()\n",
    "def square(num):\n",
    "    return num**2\n",
    "\n",
    "my_nums = [1,2,3,4,5]\n",
    "for item in map(square,my_nums):\n",
    "    print(item)\n",
    "\n",
    "list(map(square,my_nums))\n",
    "\n",
    "######\n",
    "def splicer(mystring):\n",
    "    if len(mystring)% 2 == 0:\n",
    "        return 'EVEN'\n",
    "    else:\n",
    "        return mystring[0]\n",
    "\n",
    "names = ['Andy','Eve','Sally']\n",
    "list(map(splicer,names))\n"
   ]
  },
  {
   "cell_type": "code",
   "execution_count": 11,
   "id": "47072bd2-fbf9-4a6e-9364-45461450c9c2",
   "metadata": {},
   "outputs": [
    {
     "data": {
      "text/plain": [
       "[2, 4, 6]"
      ]
     },
     "execution_count": 11,
     "metadata": {},
     "output_type": "execute_result"
    },
    {
     "name": "stdout",
     "output_type": "stream",
     "text": [
      "2\n",
      "4\n",
      "6\n"
     ]
    }
   ],
   "source": [
    "# Filter\n",
    "def check_even(num):\n",
    "    return num%2 == 0\n",
    "\n",
    "mynums = [1,2,3,4,5,6]\n",
    "list(filter(check_even,mynums))\n",
    "for n in filter(check_even,mynums):\n",
    "    print(n)"
   ]
  },
  {
   "cell_type": "code",
   "execution_count": 24,
   "id": "987ce4bc-cce9-44d6-b70a-f2654df0c2e9",
   "metadata": {},
   "outputs": [
    {
     "data": {
      "text/plain": [
       "[1, 4, 9, 16, 25, 36]"
      ]
     },
     "execution_count": 24,
     "metadata": {},
     "output_type": "execute_result"
    },
    {
     "data": {
      "text/plain": [
       "[2, 4, 6]"
      ]
     },
     "execution_count": 24,
     "metadata": {},
     "output_type": "execute_result"
    },
    {
     "data": {
      "text/plain": [
       "['A', 'E', 'S']"
      ]
     },
     "execution_count": 24,
     "metadata": {},
     "output_type": "execute_result"
    },
    {
     "data": {
      "text/plain": [
       "9"
      ]
     },
     "execution_count": 24,
     "metadata": {},
     "output_type": "execute_result"
    },
    {
     "data": {
      "text/plain": [
       "9"
      ]
     },
     "execution_count": 24,
     "metadata": {},
     "output_type": "execute_result"
    }
   ],
   "source": [
    "# Lambda Expressions\n",
    "# function style\n",
    "def square(num): return num ** 2\n",
    "# Lambda style\n",
    "squares = lambda num: num ** 2\n",
    "\n",
    "# Combination Map() with Lambda\n",
    "mynums = [1,2,3,4,5,6]\n",
    "list(map(lambda num:num**2,mynums))\n",
    "\n",
    "mynums = [1,2,3,4,5,6]\n",
    "list(filter(lambda num:num%2 == 0,mynums))\n",
    "\n",
    "names = ['Andy','Eve','Sally']\n",
    "list(map(lambda name:name[0],names))\n",
    "\n",
    "square(3)\n",
    "squares(3)"
   ]
  },
  {
   "cell_type": "markdown",
   "id": "a818c45d-ad7f-41e8-8b44-6f4df84ff5eb",
   "metadata": {},
   "source": [
    "# Nested Statements and Scope\n",
    "## LEGB Rule:\n",
    "### L: Local\n",
    "### E: Enclosing Function Locals\n",
    "### G: Global (module)\n",
    "### B: Build-in Python | ex: open, range,..."
   ]
  },
  {
   "cell_type": "code",
   "execution_count": 27,
   "id": "516c6e8b-e411-40ad-ae72-d055c75673b4",
   "metadata": {},
   "outputs": [
    {
     "name": "stdout",
     "output_type": "stream",
     "text": [
      "25\n",
      "50\n"
     ]
    }
   ],
   "source": [
    "x = 25\n",
    "\n",
    "def printer():\n",
    "    x = 50\n",
    "    return x\n",
    "\n",
    "print(x)\n",
    "print(printer())"
   ]
  },
  {
   "cell_type": "code",
   "execution_count": 33,
   "id": "0c3c300d-b16d-4747-ac93-43eff49bd763",
   "metadata": {},
   "outputs": [
    {
     "data": {
      "text/plain": [
       "<function __main__.<lambda>(num)>"
      ]
     },
     "execution_count": 33,
     "metadata": {},
     "output_type": "execute_result"
    },
    {
     "name": "stdout",
     "output_type": "stream",
     "text": [
      "Hello I am Local\n"
     ]
    }
   ],
   "source": [
    "# Local\n",
    "lambda num:num**2\n",
    "\n",
    "# Enclosing Function Locals\n",
    "\n",
    "# GLOBAL\n",
    "name = 'This is a global string'   # variable Global\n",
    "def greet():       # Enclosing Function\n",
    "    \n",
    "    ## ENCLOSING\n",
    "    name = 'Sammy'  # variable Function Locals\n",
    "    def hello():   # Local Function\n",
    "        \n",
    "        ### LOCAL\n",
    "        name = 'I am Local'  # variable Local\n",
    "        print('Hello {a}'.format(a=name))  # because there is no local variable 'name', so it will go to Enclosing Function Locals variable\n",
    "    hello()\n",
    "greet()"
   ]
  },
  {
   "cell_type": "code",
   "execution_count": 42,
   "id": "260151da-7d08-4879-88b7-9d2f280270c7",
   "metadata": {},
   "outputs": [
    {
     "name": "stdout",
     "output_type": "stream",
     "text": [
      "X is 50\n",
      "I JUST LOCALLY CHANGED X TO New Value\n",
      "New Value\n"
     ]
    }
   ],
   "source": [
    "x = 50\n",
    "\n",
    "def func():\n",
    "    global x\n",
    "    print('X is {a}'.format(a=x))\n",
    "    \n",
    "    # Local Reassignment!\n",
    "    x = 'New Value'\n",
    "    print('I JUST LOCALLY CHANGED X TO {a}'.format(a=x))\n",
    "\n",
    "func()\n",
    "print(x)"
   ]
  },
  {
   "cell_type": "code",
   "execution_count": null,
   "id": "1f10cfea-3c5e-4d87-86bd-ae4c55da4412",
   "metadata": {},
   "outputs": [],
   "source": []
  }
 ],
 "metadata": {
  "kernelspec": {
   "display_name": "Python 3 (ipykernel)",
   "language": "python",
   "name": "python3"
  },
  "language_info": {
   "codemirror_mode": {
    "name": "ipython",
    "version": 3
   },
   "file_extension": ".py",
   "mimetype": "text/x-python",
   "name": "python",
   "nbconvert_exporter": "python",
   "pygments_lexer": "ipython3",
   "version": "3.9.12"
  }
 },
 "nbformat": 4,
 "nbformat_minor": 5
}
