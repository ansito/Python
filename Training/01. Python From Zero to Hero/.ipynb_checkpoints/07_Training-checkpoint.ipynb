{
 "cells": [
  {
   "cell_type": "markdown",
   "id": "747ed4a4-9ab1-47f7-ad30-386d1ed785db",
   "metadata": {},
   "source": [
    "# Modules and Packages\n",
    "### Keyword: pip install"
   ]
  },
  {
   "cell_type": "code",
   "execution_count": 5,
   "id": "1879a6f3-617f-4127-824b-7630e1c18343",
   "metadata": {},
   "outputs": [
    {
     "name": "stdout",
     "output_type": "stream",
     "text": [
      "Requirement already satisfied: requests in c:\\users\\asus\\anaconda3\\lib\\site-packages (2.27.1)\n",
      "Requirement already satisfied: idna<4,>=2.5 in c:\\users\\asus\\anaconda3\\lib\\site-packages (from requests) (3.3)\n",
      "Requirement already satisfied: urllib3<1.27,>=1.21.1 in c:\\users\\asus\\anaconda3\\lib\\site-packages (from requests) (1.26.9)\n",
      "Requirement already satisfied: certifi>=2017.4.17 in c:\\users\\asus\\anaconda3\\lib\\site-packages (from requests) (2021.10.8)\n",
      "Requirement already satisfied: charset-normalizer~=2.0.0 in c:\\users\\asus\\anaconda3\\lib\\site-packages (from requests) (2.0.4)\n",
      "Note: you may need to restart the kernel to use updated packages.\n"
     ]
    }
   ],
   "source": [
    "pip install requests"
   ]
  },
  {
   "cell_type": "code",
   "execution_count": 6,
   "id": "f8921a22-79cf-42b8-a06f-a7ff43036255",
   "metadata": {},
   "outputs": [
    {
     "name": "stdout",
     "output_type": "stream",
     "text": [
      "Requirement already satisfied: colorama in c:\\users\\asus\\anaconda3\\lib\\site-packages (0.4.4)\n",
      "Note: you may need to restart the kernel to use updated packages.\n"
     ]
    }
   ],
   "source": [
    "pip install colorama"
   ]
  },
  {
   "cell_type": "code",
   "execution_count": 12,
   "id": "521bce7c-60d1-40b3-958f-14b33835e717",
   "metadata": {},
   "outputs": [
    {
     "name": "stdout",
     "output_type": "stream",
     "text": [
      "Python is COOL\n"
     ]
    }
   ],
   "source": [
    "from colorama import init\n",
    "init()\n",
    "from colorama import Fore\n",
    "print(Fore.RED + 'Python is COOL')"
   ]
  },
  {
   "cell_type": "code",
   "execution_count": 13,
   "id": "e9d9bb57-021f-4c54-b937-65fb9c5db5fc",
   "metadata": {},
   "outputs": [
    {
     "name": "stdout",
     "output_type": "stream",
     "text": [
      "Requirement already satisfied: openpyxl in c:\\users\\asus\\anaconda3\\lib\\site-packages (3.0.9)\n",
      "Requirement already satisfied: et-xmlfile in c:\\users\\asus\\anaconda3\\lib\\site-packages (from openpyxl) (1.1.0)\n",
      "Note: you may need to restart the kernel to use updated packages.\n"
     ]
    }
   ],
   "source": [
    "pip install openpyxl"
   ]
  },
  {
   "cell_type": "code",
   "execution_count": 14,
   "id": "aec10884-d24a-4678-970f-43e23102753b",
   "metadata": {},
   "outputs": [],
   "source": [
    "import openpyxl"
   ]
  },
  {
   "cell_type": "code",
   "execution_count": null,
   "id": "f50b9811-8448-470b-9882-8112a6d1f8a1",
   "metadata": {},
   "outputs": [],
   "source": [
    "# Writing your Own Packages\n",
    "#  __name__ and __main__\n",
    "# if __name__ == '__main__'\n",
    "\n",
    "# one.py\n",
    "# def func():\n",
    "#    print('FUNC() IN ONE.PY')\n",
    "#\n",
    "# def func2():\n",
    "#    pass\n",
    "#\n",
    "# def func3():\n",
    "#    pass\n",
    "#\n",
    "# print('TOP LEVEL IN ONE.PY')\n",
    "#\n",
    "# __name__ = variable\n",
    "# if __name__ == \"__main__\":\n",
    "#    print('ONE.PY is being run directly!\\n')\n",
    "#    func()\n",
    "#    func2()\n",
    "#    \n",
    "# else:\n",
    "#    print('ONE.PY has been imported!\\n')\n",
    "#    func3()\n",
    "    \n",
    "# two.py\n",
    "#\n",
    "# import one\n",
    "#\n",
    "# print('TOP LEVEL IN TWO.PY')\n",
    "#\n",
    "# one.func()\n",
    "# \n",
    "# if __name__ == '__main__':\n",
    "#    print('TWO.PY is being run directly!')\n",
    "# else:\n",
    "#    print('TWO.PY has been imported!')\n",
    "\n",
    "# if we run: $ python one.py, it will generate output:\n",
    "# TOP LEVEL IN ONE.PY\n",
    "# ONE.PY is being run directly!\n",
    "\n",
    "# if we run: $ python two.py, it will generate output:\n",
    "# TOP LEVEL IN ONE.PY\n",
    "# ONE.PY has been imported!\n",
    "# TOP LEVEL IN TWO.PY\n",
    "# FUNC() IN ONE.PY\n",
    "# TWO.PY is being run directly!\n"
   ]
  },
  {
   "cell_type": "markdown",
   "id": "4f65cf23-8e14-439d-81e1-34fc7a08b4fe",
   "metadata": {},
   "source": [
    "# ERRORS AND EXCEPTIONS HANDLING\n",
    "## Keyword: try, except, finally\n",
    "### try: This is the block of code to be attempted (may lead to an error)\n",
    "### except: Block of code will execute in case there is an error in \"try\" block\n",
    "### finally: A final block of code to be executed, regardless of an error"
   ]
  },
  {
   "cell_type": "code",
   "execution_count": 4,
   "id": "2a6d284a-cf1e-4b8e-8b11-01e3bbfa79b6",
   "metadata": {},
   "outputs": [
    {
     "name": "stdout",
     "output_type": "stream",
     "text": [
      "30\n"
     ]
    }
   ],
   "source": [
    "def add(n1,n2):\n",
    "    print(n1+n2)\n",
    "\n",
    "add(10,20)"
   ]
  },
  {
   "cell_type": "code",
   "execution_count": 12,
   "id": "855408f8-f505-4241-a02f-8c8cdcf68eda",
   "metadata": {},
   "outputs": [],
   "source": [
    "# try-except without else\n",
    "# it can not generate output directly, need another command outside the code\n",
    "try:\n",
    "    # WANT TO ATTEMPT THIS CODE\n",
    "    # MAY HAVE AN ERROR\n",
    "    result = 10+10\n",
    "except:\n",
    "    print('Hey it looks like you arent adding correctly!')"
   ]
  },
  {
   "cell_type": "code",
   "execution_count": 14,
   "id": "03f080db-d9b2-4443-8d99-4d6a1fb33092",
   "metadata": {},
   "outputs": [
    {
     "data": {
      "text/plain": [
       "20"
      ]
     },
     "execution_count": 14,
     "metadata": {},
     "output_type": "execute_result"
    }
   ],
   "source": [
    "# another command outside the code\n",
    "result"
   ]
  },
  {
   "cell_type": "code",
   "execution_count": 15,
   "id": "2dc133e3-4e86-43b6-a683-ca17decd1469",
   "metadata": {},
   "outputs": [
    {
     "name": "stdout",
     "output_type": "stream",
     "text": [
      "Add went well!\n",
      "20\n"
     ]
    }
   ],
   "source": [
    "# try-except with else\n",
    "# it can generate output directly using inside of else\n",
    "try:\n",
    "    # WANT TO ATTEMPT THIS CODE\n",
    "    # MAY HAVE AN ERROR\n",
    "    result = 10+10\n",
    "except:\n",
    "    print('Hey it looks like you arent adding correctly!')\n",
    "else:\n",
    "    print('Add went well!')\n",
    "    print(result)"
   ]
  },
  {
   "cell_type": "code",
   "execution_count": 20,
   "id": "d303ee33-705c-4fb5-bb3a-e2681511c017",
   "metadata": {},
   "outputs": [
    {
     "data": {
      "text/plain": [
       "17"
      ]
     },
     "execution_count": 20,
     "metadata": {},
     "output_type": "execute_result"
    },
    {
     "name": "stdout",
     "output_type": "stream",
     "text": [
      "I always run\n"
     ]
    }
   ],
   "source": [
    "try:\n",
    "    f = open('testfile2','w')\n",
    "    f.write('Write a test line')\n",
    "except TypeError:\n",
    "    print('There was a type error!')\n",
    "except:\n",
    "    print('All other exceptions') # It should be executed in the output\n",
    "finally:\n",
    "    print('I always run')"
   ]
  },
  {
   "cell_type": "code",
   "execution_count": 1,
   "id": "47f09a7d-e043-4879-a452-91880d6692b3",
   "metadata": {},
   "outputs": [],
   "source": [
    "# without loop\n",
    "def ask_for_int():\n",
    "    try:\n",
    "        result = int(input('Please provide a number: '))\n",
    "    except:\n",
    "        print('Whoops! That is not a number!')\n",
    "    finally:\n",
    "        print('End of try/except/finally')"
   ]
  },
  {
   "cell_type": "code",
   "execution_count": 2,
   "id": "af473188-8e1c-40ff-9220-b554651fd129",
   "metadata": {},
   "outputs": [
    {
     "name": "stdin",
     "output_type": "stream",
     "text": [
      "Please provide a number:  20\n"
     ]
    },
    {
     "name": "stdout",
     "output_type": "stream",
     "text": [
      "End of try/except/finally\n"
     ]
    }
   ],
   "source": [
    "ask_for_int()"
   ]
  },
  {
   "cell_type": "code",
   "execution_count": 7,
   "id": "030aac6f-d25a-47df-ab5a-0a1e592da1a7",
   "metadata": {},
   "outputs": [],
   "source": [
    "# with loop\n",
    "def ask_for_int():\n",
    "    while True:\n",
    "        try:\n",
    "            result = int(input('Please provide a number: '))\n",
    "        except:\n",
    "            print('Whoops! That is not a number!')\n",
    "            continue\n",
    "        else: # if there is no exception, run else\n",
    "            print('Yes. Thank you.')\n",
    "            break\n",
    "        finally:\n",
    "            print('End of try/except/finally')\n",
    "            print('I will always run at the end')"
   ]
  },
  {
   "cell_type": "code",
   "execution_count": 6,
   "id": "d3d6e4cb-3c12-4edc-b529-789fc8b95081",
   "metadata": {},
   "outputs": [
    {
     "name": "stdin",
     "output_type": "stream",
     "text": [
      "Please provide a number:  q\n"
     ]
    },
    {
     "name": "stdout",
     "output_type": "stream",
     "text": [
      "Whoops! That is not a number!\n",
      "End of try/except/finally\n",
      "I will always run at the end\n"
     ]
    },
    {
     "name": "stdin",
     "output_type": "stream",
     "text": [
      "Please provide a number:  5\n"
     ]
    },
    {
     "name": "stdout",
     "output_type": "stream",
     "text": [
      "Yes. Thank you.\n",
      "End of try/except/finally\n",
      "I will always run at the end\n"
     ]
    }
   ],
   "source": [
    "ask_for_int()"
   ]
  },
  {
   "cell_type": "markdown",
   "id": "e1d2278e-5f6a-4cd2-89e7-5549627483af",
   "metadata": {},
   "source": [
    "# Unit Testing\n",
    "## Keyword: pylint, unittest\n",
    "### pylint: This is a library that looks at your code and reports back possible issues\n",
    "### unittest: This build-in library will allow to test your own programs and check you are getting desired outputs\n",
    "### Command: pylint myexample.py -r y"
   ]
  },
  {
   "cell_type": "code",
   "execution_count": 8,
   "id": "15616e5a-219f-4156-96fb-ce760281d1ef",
   "metadata": {},
   "outputs": [
    {
     "name": "stdout",
     "output_type": "stream",
     "text": [
      "Requirement already satisfied: pylint in c:\\users\\asus\\anaconda3\\lib\\site-packages (2.9.6)\n",
      "Requirement already satisfied: toml>=0.7.1 in c:\\users\\asus\\anaconda3\\lib\\site-packages (from pylint) (0.10.2)\n",
      "Requirement already satisfied: mccabe<0.7,>=0.6 in c:\\users\\asus\\anaconda3\\lib\\site-packages (from pylint) (0.6.1)\n",
      "Requirement already satisfied: isort<6,>=4.2.5 in c:\\users\\asus\\anaconda3\\lib\\site-packages (from pylint) (5.9.3)\n",
      "Requirement already satisfied: colorama in c:\\users\\asus\\anaconda3\\lib\\site-packages (from pylint) (0.4.4)\n",
      "Requirement already satisfied: astroid<2.7,>=2.6.5 in c:\\users\\asus\\anaconda3\\lib\\site-packages (from pylint) (2.6.6)\n",
      "Requirement already satisfied: wrapt<1.13,>=1.11 in c:\\users\\asus\\anaconda3\\lib\\site-packages (from astroid<2.7,>=2.6.5->pylint) (1.12.1)\n",
      "Requirement already satisfied: setuptools>=20.0 in c:\\users\\asus\\anaconda3\\lib\\site-packages (from astroid<2.7,>=2.6.5->pylint) (61.2.0)\n",
      "Requirement already satisfied: lazy-object-proxy>=1.4.0 in c:\\users\\asus\\anaconda3\\lib\\site-packages (from astroid<2.7,>=2.6.5->pylint) (1.6.0)\n",
      "Note: you may need to restart the kernel to use updated packages.\n"
     ]
    }
   ],
   "source": [
    "pip install pylint"
   ]
  },
  {
   "cell_type": "markdown",
   "id": "c0dc8621-1604-4c2b-a703-350d35f713dc",
   "metadata": {},
   "source": [
    "## LAMBDA "
   ]
  },
  {
   "cell_type": "code",
   "execution_count": 1,
   "id": "46a0204d-c924-4942-b935-1b8c377f0173",
   "metadata": {},
   "outputs": [
    {
     "name": "stdout",
     "output_type": "stream",
     "text": [
      "3\n"
     ]
    }
   ],
   "source": [
    "# Test lambda\n",
    "\n",
    "print((lambda x,y: x+y) (1,2))"
   ]
  },
  {
   "cell_type": "code",
   "execution_count": null,
   "id": "39ed50f0-9645-4f42-a8c5-c43a26d1498b",
   "metadata": {},
   "outputs": [],
   "source": []
  }
 ],
 "metadata": {
  "kernelspec": {
   "display_name": "Python 3 (ipykernel)",
   "language": "python",
   "name": "python3"
  },
  "language_info": {
   "codemirror_mode": {
    "name": "ipython",
    "version": 3
   },
   "file_extension": ".py",
   "mimetype": "text/x-python",
   "name": "python",
   "nbconvert_exporter": "python",
   "pygments_lexer": "ipython3",
   "version": "3.9.12"
  }
 },
 "nbformat": 4,
 "nbformat_minor": 5
}
