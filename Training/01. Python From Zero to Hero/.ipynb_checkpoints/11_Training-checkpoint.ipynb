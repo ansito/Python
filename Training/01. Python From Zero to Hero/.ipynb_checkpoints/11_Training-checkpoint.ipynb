{
 "cells": [
  {
   "cell_type": "markdown",
   "id": "5d701cc2-bd8b-433d-b734-ef6eec23a50e",
   "metadata": {},
   "source": [
    "# Advanced Python Modules\n",
    "## Keyword:\n",
    "##### Collections, OS Module and Datetime, Math and Random, Python Debugger, Timeit, Regular Expressions, Unzipping and Zipping Modules"
   ]
  },
  {
   "cell_type": "markdown",
   "id": "0f016373-9038-4218-ac75-9c50d2704f0c",
   "metadata": {},
   "source": [
    "### Counter"
   ]
  },
  {
   "cell_type": "code",
   "execution_count": 2,
   "id": "50fc8dbb-39d2-4db9-9930-a9a3bb98e1f1",
   "metadata": {},
   "outputs": [],
   "source": [
    "# Collections Module\n",
    "from collections import Counter"
   ]
  },
  {
   "cell_type": "code",
   "execution_count": 3,
   "id": "22258cb2-da90-4884-865e-d4725a9af0c6",
   "metadata": {},
   "outputs": [],
   "source": [
    "mylist = [1,1,1,1,1,2,2,2,2,2,3,3,3,3,3,3]"
   ]
  },
  {
   "cell_type": "code",
   "execution_count": 4,
   "id": "15bd6daf-bdc1-4102-ac32-794cb6ecd3e2",
   "metadata": {},
   "outputs": [
    {
     "data": {
      "text/plain": [
       "Counter({1: 5, 2: 5, 3: 6})"
      ]
     },
     "execution_count": 4,
     "metadata": {},
     "output_type": "execute_result"
    }
   ],
   "source": [
    "Counter(mylist)"
   ]
  },
  {
   "cell_type": "code",
   "execution_count": 5,
   "id": "00ad0cfc-cba7-4625-84e9-b72d58068d02",
   "metadata": {},
   "outputs": [],
   "source": [
    "mylist = ['a','a',10,10,10,10]"
   ]
  },
  {
   "cell_type": "code",
   "execution_count": 6,
   "id": "8dc062b0-8f4a-44a8-8989-34ffeab8489b",
   "metadata": {},
   "outputs": [
    {
     "data": {
      "text/plain": [
       "Counter({'a': 2, 10: 4})"
      ]
     },
     "execution_count": 6,
     "metadata": {},
     "output_type": "execute_result"
    }
   ],
   "source": [
    "Counter(mylist)"
   ]
  },
  {
   "cell_type": "code",
   "execution_count": 16,
   "id": "f8ea0bb6-91b9-412c-80ab-a6fe47812e03",
   "metadata": {},
   "outputs": [
    {
     "data": {
      "text/plain": [
       "Counter({'a': 2, 10: 4})"
      ]
     },
     "execution_count": 16,
     "metadata": {},
     "output_type": "execute_result"
    },
    {
     "data": {
      "text/plain": [
       "4"
      ]
     },
     "execution_count": 16,
     "metadata": {},
     "output_type": "execute_result"
    }
   ],
   "source": [
    "counter = Counter(mylist)  # assign Counter to variable\n",
    "counter\n",
    "counter[10]"
   ]
  },
  {
   "cell_type": "code",
   "execution_count": 11,
   "id": "2fcdccbb-362e-4135-a78e-39349052067c",
   "metadata": {},
   "outputs": [],
   "source": [
    "sentence = 'How many times does each word show up in this sentence with a word'"
   ]
  },
  {
   "cell_type": "code",
   "execution_count": 12,
   "id": "6ce9515b-d666-4987-9332-be125f7e2b23",
   "metadata": {},
   "outputs": [
    {
     "data": {
      "text/plain": [
       "Counter({'how': 1,\n",
       "         'many': 1,\n",
       "         'times': 1,\n",
       "         'does': 1,\n",
       "         'each': 1,\n",
       "         'word': 2,\n",
       "         'show': 1,\n",
       "         'up': 1,\n",
       "         'in': 1,\n",
       "         'this': 1,\n",
       "         'sentence': 1,\n",
       "         'with': 1,\n",
       "         'a': 1})"
      ]
     },
     "execution_count": 12,
     "metadata": {},
     "output_type": "execute_result"
    }
   ],
   "source": [
    "Counter(sentence.lower().split())"
   ]
  },
  {
   "cell_type": "code",
   "execution_count": 17,
   "id": "687453bf-c45c-42be-8f8e-22c73741c993",
   "metadata": {},
   "outputs": [],
   "source": [
    "letters = 'aaaabbbbbcccccccdddddddd'"
   ]
  },
  {
   "cell_type": "code",
   "execution_count": 23,
   "id": "822e3dd6-cf81-4865-9798-ac513195ada9",
   "metadata": {},
   "outputs": [
    {
     "data": {
      "text/plain": [
       "Counter({'a': 4, 'b': 5, 'c': 7, 'd': 8})"
      ]
     },
     "execution_count": 23,
     "metadata": {},
     "output_type": "execute_result"
    },
    {
     "data": {
      "text/plain": [
       "dict_keys(['a', 'b', 'c', 'd'])"
      ]
     },
     "execution_count": 23,
     "metadata": {},
     "output_type": "execute_result"
    },
    {
     "data": {
      "text/plain": [
       "dict_values([4, 5, 7, 8])"
      ]
     },
     "execution_count": 23,
     "metadata": {},
     "output_type": "execute_result"
    },
    {
     "data": {
      "text/plain": [
       "[('d', 8), ('c', 7), ('b', 5), ('a', 4)]"
      ]
     },
     "execution_count": 23,
     "metadata": {},
     "output_type": "execute_result"
    }
   ],
   "source": [
    "c = Counter(letters)\n",
    "c\n",
    "c.keys()\n",
    "c.values()\n",
    "c.most_common()"
   ]
  },
  {
   "cell_type": "code",
   "execution_count": 24,
   "id": "6e41f35e-0c3c-4838-8e23-2e9b9ccb0ae0",
   "metadata": {},
   "outputs": [
    {
     "data": {
      "text/plain": [
       "['a', 'b', 'c', 'd']"
      ]
     },
     "execution_count": 24,
     "metadata": {},
     "output_type": "execute_result"
    }
   ],
   "source": [
    "list(c)"
   ]
  },
  {
   "cell_type": "markdown",
   "id": "cd6885d4-ca4a-4f98-b5f1-1da3a169d610",
   "metadata": {},
   "source": [
    "### defaultdict"
   ]
  },
  {
   "cell_type": "code",
   "execution_count": 26,
   "id": "90fb41b7-7df2-40cd-8446-c60c1e3a6b88",
   "metadata": {},
   "outputs": [],
   "source": [
    "# Collection Modules\n",
    "from collections import defaultdict"
   ]
  },
  {
   "cell_type": "code",
   "execution_count": 27,
   "id": "fec5fa58-f603-497f-be35-558d5baa2f19",
   "metadata": {},
   "outputs": [],
   "source": [
    "d = {'a':10}"
   ]
  },
  {
   "cell_type": "code",
   "execution_count": 28,
   "id": "66aca9f5-883a-4931-8c39-e9b4948efb49",
   "metadata": {},
   "outputs": [
    {
     "data": {
      "text/plain": [
       "{'a': 10}"
      ]
     },
     "execution_count": 28,
     "metadata": {},
     "output_type": "execute_result"
    }
   ],
   "source": [
    "d"
   ]
  },
  {
   "cell_type": "code",
   "execution_count": 29,
   "id": "9ed5ac49-dfff-4b8c-83f4-e36a4d8f77dd",
   "metadata": {},
   "outputs": [
    {
     "data": {
      "text/plain": [
       "10"
      ]
     },
     "execution_count": 29,
     "metadata": {},
     "output_type": "execute_result"
    }
   ],
   "source": [
    "d['a']"
   ]
  },
  {
   "cell_type": "code",
   "execution_count": 35,
   "id": "3568588a-a19a-4bfa-85b3-2e4ca539500e",
   "metadata": {},
   "outputs": [],
   "source": [
    "# How to assign defaultdict\n",
    "d = defaultdict(lambda:0)   "
   ]
  },
  {
   "cell_type": "code",
   "execution_count": 31,
   "id": "7321dc7c-0cda-4d99-909f-461c7d93cad4",
   "metadata": {},
   "outputs": [],
   "source": [
    "d['correct'] = 100"
   ]
  },
  {
   "cell_type": "code",
   "execution_count": 32,
   "id": "0ab8724c-88a0-4fa2-970c-e6a26071363d",
   "metadata": {},
   "outputs": [
    {
     "data": {
      "text/plain": [
       "100"
      ]
     },
     "execution_count": 32,
     "metadata": {},
     "output_type": "execute_result"
    }
   ],
   "source": [
    "d['correct']"
   ]
  },
  {
   "cell_type": "code",
   "execution_count": 33,
   "id": "2571bb99-83fc-4428-bf09-5a08262bc8a9",
   "metadata": {},
   "outputs": [
    {
     "data": {
      "text/plain": [
       "0"
      ]
     },
     "execution_count": 33,
     "metadata": {},
     "output_type": "execute_result"
    }
   ],
   "source": [
    "d['WRONG KEY']  # it will give output 0"
   ]
  },
  {
   "cell_type": "code",
   "execution_count": 34,
   "id": "d7f2d644-c145-45cd-941a-4e9707b8739b",
   "metadata": {},
   "outputs": [
    {
     "data": {
      "text/plain": [
       "defaultdict(<function __main__.<lambda>()>, {'correct': 100, 'WRONG KEY': 0})"
      ]
     },
     "execution_count": 34,
     "metadata": {},
     "output_type": "execute_result"
    }
   ],
   "source": [
    "d"
   ]
  },
  {
   "cell_type": "markdown",
   "id": "1fb9847e-7bdf-4126-b891-7d032909180d",
   "metadata": {},
   "source": [
    "### namedtuple"
   ]
  },
  {
   "cell_type": "code",
   "execution_count": 44,
   "id": "4bf73382-ad8a-47c7-869f-0bfbfe760e96",
   "metadata": {},
   "outputs": [],
   "source": [
    "# Collections Module\n",
    "from collections import namedtuple"
   ]
  },
  {
   "cell_type": "code",
   "execution_count": 38,
   "id": "59c07eb7-c77a-48e2-b8d0-3a20ba38f217",
   "metadata": {},
   "outputs": [],
   "source": [
    "Dog = namedtuple('Dog',['age','breed','name'])"
   ]
  },
  {
   "cell_type": "code",
   "execution_count": 39,
   "id": "ead07c39-60fc-4166-a691-51bc01f9aa6f",
   "metadata": {},
   "outputs": [],
   "source": [
    "sammy = Dog(age=5,breed='Husky',name='Sam')"
   ]
  },
  {
   "cell_type": "code",
   "execution_count": 40,
   "id": "5fb94850-9ee9-4d1a-9768-5238004b3dd3",
   "metadata": {},
   "outputs": [
    {
     "data": {
      "text/plain": [
       "__main__.Dog"
      ]
     },
     "execution_count": 40,
     "metadata": {},
     "output_type": "execute_result"
    }
   ],
   "source": [
    "type(sammy)"
   ]
  },
  {
   "cell_type": "code",
   "execution_count": 41,
   "id": "70862a43-cd6c-4d52-9179-5ad9556e06f8",
   "metadata": {},
   "outputs": [
    {
     "data": {
      "text/plain": [
       "Dog(age=5, breed='Husky', name='Sam')"
      ]
     },
     "execution_count": 41,
     "metadata": {},
     "output_type": "execute_result"
    }
   ],
   "source": [
    "sammy"
   ]
  },
  {
   "cell_type": "code",
   "execution_count": 43,
   "id": "4feff808-229e-4662-adad-cdca671c3117",
   "metadata": {},
   "outputs": [
    {
     "data": {
      "text/plain": [
       "5"
      ]
     },
     "execution_count": 43,
     "metadata": {},
     "output_type": "execute_result"
    },
    {
     "data": {
      "text/plain": [
       "'Husky'"
      ]
     },
     "execution_count": 43,
     "metadata": {},
     "output_type": "execute_result"
    },
    {
     "data": {
      "text/plain": [
       "'Sam'"
      ]
     },
     "execution_count": 43,
     "metadata": {},
     "output_type": "execute_result"
    }
   ],
   "source": [
    "sammy.age\n",
    "sammy.breed\n",
    "sammy.name"
   ]
  },
  {
   "cell_type": "markdown",
   "id": "f9f92316-851e-4bab-a517-ed543ac79de2",
   "metadata": {},
   "source": [
    "# Shutil and OS Modules\n",
    "## Opening and Reading Files and Folders"
   ]
  },
  {
   "cell_type": "code",
   "execution_count": 45,
   "id": "2df56970-51aa-4e2b-9237-fe7ce34c9008",
   "metadata": {},
   "outputs": [
    {
     "data": {
      "text/plain": [
       "'D:\\\\UNSW\\\\COMP9021\\\\_Bootcamp_\\\\Training'"
      ]
     },
     "execution_count": 45,
     "metadata": {},
     "output_type": "execute_result"
    }
   ],
   "source": [
    "pwd"
   ]
  },
  {
   "cell_type": "code",
   "execution_count": 62,
   "id": "f4a9cb4d-ce9a-42a6-a7c1-4ba2093e87e7",
   "metadata": {},
   "outputs": [
    {
     "data": {
      "text/plain": [
       "21"
      ]
     },
     "execution_count": 62,
     "metadata": {},
     "output_type": "execute_result"
    }
   ],
   "source": [
    "f = open('practice.txt','w+')\n",
    "f.write('This is a test string')\n",
    "f.close()"
   ]
  },
  {
   "cell_type": "code",
   "execution_count": 54,
   "id": "e0ab1b46-7c8d-4811-8094-ceaa90f2375e",
   "metadata": {},
   "outputs": [],
   "source": [
    "# Module os\n",
    "import os"
   ]
  },
  {
   "cell_type": "code",
   "execution_count": 48,
   "id": "aebb0e7f-e6a1-46d1-a46f-0dddca9a8f10",
   "metadata": {},
   "outputs": [
    {
     "data": {
      "text/plain": [
       "'D:\\\\UNSW\\\\COMP9021\\\\_Bootcamp_\\\\Training'"
      ]
     },
     "execution_count": 48,
     "metadata": {},
     "output_type": "execute_result"
    }
   ],
   "source": [
    "os.getcwd()  # same like pwd"
   ]
  },
  {
   "cell_type": "code",
   "execution_count": 55,
   "id": "47c9d9f0-f2ce-49d5-b5b7-a80834be3489",
   "metadata": {},
   "outputs": [],
   "source": [
    "# Module shutil\n",
    "import shutil"
   ]
  },
  {
   "cell_type": "code",
   "execution_count": 56,
   "id": "f603a3d4-0e03-41e4-a827-64caffe3f97b",
   "metadata": {},
   "outputs": [
    {
     "data": {
      "text/plain": [
       "'D:\\\\UNSW\\\\practice.txt'"
      ]
     },
     "execution_count": 56,
     "metadata": {},
     "output_type": "execute_result"
    }
   ],
   "source": [
    "shutil.move('practice.txt','D:\\\\UNSW')"
   ]
  },
  {
   "cell_type": "code",
   "execution_count": 57,
   "id": "10f68ba8-ea59-401d-b4cb-34cda6d9489d",
   "metadata": {},
   "outputs": [
    {
     "data": {
      "text/plain": [
       "['2022 - Code Mentor Calculation v.1.0.xlsx',\n",
       " '8543 - Plan Course_andar.xlsx',\n",
       " 'Accomodation',\n",
       " 'Avoca Street',\n",
       " 'COMP6771',\n",
       " 'COMP9020',\n",
       " 'COMP9021',\n",
       " 'COMP9024',\n",
       " 'COMP9032',\n",
       " 'COMP9311',\n",
       " 'COMP9315',\n",
       " 'COMP9331',\n",
       " 'COMP9334',\n",
       " 'GSOE9820',\n",
       " 'Insperainvigilatedcoursest123.pdf',\n",
       " 'myUNSW Active_Final Exam location T1 2023.pdf',\n",
       " 'Perhitungan Nilai - Term 1 2023.xlsx',\n",
       " 'practice.txt',\n",
       " 'Priest.xlsx',\n",
       " 'Term 2 2023',\n",
       " 'Term 3 2023',\n",
       " '~$8543 - Plan Course_andar.xlsx']"
      ]
     },
     "execution_count": 57,
     "metadata": {},
     "output_type": "execute_result"
    }
   ],
   "source": [
    "os.listdir('D:\\\\UNSW')"
   ]
  },
  {
   "cell_type": "code",
   "execution_count": 59,
   "id": "0f4736df-739f-4a15-afc5-d06d344c0fa0",
   "metadata": {},
   "outputs": [],
   "source": [
    "# Delete Files\n",
    "import send2trash"
   ]
  },
  {
   "cell_type": "code",
   "execution_count": 63,
   "id": "52e164e9-edbd-4ff0-aebf-426664240667",
   "metadata": {},
   "outputs": [
    {
     "data": {
      "text/plain": [
       "['.ipynb_checkpoints',\n",
       " '01_Training.ipynb',\n",
       " '02_Training.ipynb',\n",
       " '03_Training.ipynb',\n",
       " '04_Training.ipynb',\n",
       " '05_Training.ipynb',\n",
       " '06_Training.ipynb',\n",
       " '07_Training.ipynb',\n",
       " '08_Training.ipynb',\n",
       " '09_Training.ipynb',\n",
       " '10_Training.ipynb',\n",
       " '11_Training.ipynb',\n",
       " 'basic.txt',\n",
       " 'cap.py',\n",
       " 'MyMainPackage',\n",
       " 'mymodule.py',\n",
       " 'myprogram.py',\n",
       " 'one.py',\n",
       " 'practice.txt',\n",
       " 'simple1.py',\n",
       " 'Test01-Objects and Data Structures Assessment Test.ipynb',\n",
       " 'Test02-Statements Assessment Test.ipynb',\n",
       " 'Test03-Function Practice Exercises.ipynb',\n",
       " 'Test04-Functions and Methods Homework.ipynb',\n",
       " 'Test05a-Milestone Project 1 - Assignment.ipynb',\n",
       " 'Test05b-Milestone Project 1 - Walkthrough Steps Workbook.ipynb',\n",
       " 'Test06-Object Oriented Programming Homework.ipynb',\n",
       " 'Test06-OOP Challenge.ipynb',\n",
       " 'Test07-Errors and Exceptions Homework.ipynb',\n",
       " 'Test08a-Milestone Project 2 - Assignment.ipynb',\n",
       " 'Test08b-Milestone Project 2 - Walkthrough Steps Workbook.ipynb',\n",
       " 'Test09-Decorator Home Work.ipynb',\n",
       " 'Test10-Iterators and Generators Homework.ipynb',\n",
       " 'testingnewfile.txt',\n",
       " 'test_cap.py',\n",
       " 'tic-tac-toe.py',\n",
       " 'tic-tac-toe.spec',\n",
       " 'two.py',\n",
       " '__pycache__']"
      ]
     },
     "execution_count": 63,
     "metadata": {},
     "output_type": "execute_result"
    }
   ],
   "source": [
    "os.listdir()"
   ]
  },
  {
   "cell_type": "code",
   "execution_count": 64,
   "id": "2870128b-d7e6-4347-bfb3-3697205df0a3",
   "metadata": {},
   "outputs": [],
   "source": [
    "send2trash.send2trash('practice.txt')"
   ]
  },
  {
   "cell_type": "markdown",
   "id": "699c5d41-9d38-4348-9445-a32453abf3c0",
   "metadata": {},
   "source": [
    "### os.walk"
   ]
  },
  {
   "cell_type": "code",
   "execution_count": 65,
   "id": "b931987b-9c89-4487-8304-cc2d58836e16",
   "metadata": {},
   "outputs": [
    {
     "data": {
      "text/plain": [
       "'D:\\\\UNSW\\\\COMP9021\\\\_Bootcamp_\\\\Training'"
      ]
     },
     "execution_count": 65,
     "metadata": {},
     "output_type": "execute_result"
    }
   ],
   "source": [
    "os.getcwd()"
   ]
  },
  {
   "cell_type": "code",
   "execution_count": 66,
   "id": "c69ebfa7-01ac-44ed-af77-616b4ccc749a",
   "metadata": {},
   "outputs": [
    {
     "name": "stdout",
     "output_type": "stream",
     "text": [
      "Currently looking at D://UNSW//COMP9021//_Bootcamp_//Training/Example_Top_Level/\n",
      "\n",
      "\n",
      "The subfolders are: \n",
      "\n",
      "\n",
      "The files are: \n"
     ]
    }
   ],
   "source": [
    "file_path = 'D://UNSW//COMP9021//_Bootcamp_//Training/Example_Top_Level/'\n",
    "for folder, sub_folders,files in os.walk(file_path):\n",
    "    print('Currently looking at {a}'.format(a=folder))\n",
    "    print('\\n')\n",
    "    print('The subfolders are: ')\n",
    "    for sub_fold in sub_folders:\n",
    "        print('Subfolder: {b}'.format(b=sub_fold))\n",
    "    \n",
    "    print('\\n')\n",
    "    print('The files are: ')\n",
    "    for f in files:\n",
    "        print('\\t File: {c}'.format(c=f))"
   ]
  },
  {
   "cell_type": "markdown",
   "id": "06786ced-d393-4c6d-bf9d-4dd57997c6c9",
   "metadata": {},
   "source": [
    "# Python DateTime Module"
   ]
  },
  {
   "cell_type": "code",
   "execution_count": 85,
   "id": "a59dc9c0-9c46-487f-86a0-e9e4390e642b",
   "metadata": {},
   "outputs": [],
   "source": [
    "# import module\n",
    "import datetime"
   ]
  },
  {
   "cell_type": "code",
   "execution_count": 93,
   "id": "d61ffacf-fbf3-4f1f-8d87-f2234040b0a9",
   "metadata": {},
   "outputs": [],
   "source": [
    "mytime = datetime.time(20,20)"
   ]
  },
  {
   "cell_type": "code",
   "execution_count": 92,
   "id": "e95a5d9b-3050-4b86-8d81-160e8a2a52d2",
   "metadata": {},
   "outputs": [
    {
     "data": {
      "text/plain": [
       "20"
      ]
     },
     "execution_count": 92,
     "metadata": {},
     "output_type": "execute_result"
    },
    {
     "data": {
      "text/plain": [
       "20"
      ]
     },
     "execution_count": 92,
     "metadata": {},
     "output_type": "execute_result"
    },
    {
     "name": "stdout",
     "output_type": "stream",
     "text": [
      "20:20:00\n"
     ]
    }
   ],
   "source": [
    "mytime.minute\n",
    "mytime.hour\n",
    "print(mytime)"
   ]
  },
  {
   "cell_type": "code",
   "execution_count": 73,
   "id": "c3267bc3-0d1b-49cf-8319-693e45e01b1c",
   "metadata": {},
   "outputs": [],
   "source": [
    "today = datetime.date.today()"
   ]
  },
  {
   "cell_type": "code",
   "execution_count": 74,
   "id": "305c7c6f-e52f-46c1-aaad-681c28c7bfa2",
   "metadata": {},
   "outputs": [
    {
     "name": "stdout",
     "output_type": "stream",
     "text": [
      "2023-06-11\n"
     ]
    }
   ],
   "source": [
    "print(today)"
   ]
  },
  {
   "cell_type": "code",
   "execution_count": 75,
   "id": "2e51558b-45b8-4df2-944d-37ae78ce2935",
   "metadata": {},
   "outputs": [
    {
     "data": {
      "text/plain": [
       "2023"
      ]
     },
     "execution_count": 75,
     "metadata": {},
     "output_type": "execute_result"
    },
    {
     "data": {
      "text/plain": [
       "6"
      ]
     },
     "execution_count": 75,
     "metadata": {},
     "output_type": "execute_result"
    },
    {
     "data": {
      "text/plain": [
       "11"
      ]
     },
     "execution_count": 75,
     "metadata": {},
     "output_type": "execute_result"
    }
   ],
   "source": [
    "today.year\n",
    "today.month\n",
    "today.day"
   ]
  },
  {
   "cell_type": "code",
   "execution_count": 76,
   "id": "46c5ac52-b215-4673-94ef-87b478b3ace3",
   "metadata": {},
   "outputs": [
    {
     "data": {
      "text/plain": [
       "'Sun Jun 11 00:00:00 2023'"
      ]
     },
     "execution_count": 76,
     "metadata": {},
     "output_type": "execute_result"
    }
   ],
   "source": [
    "today.ctime()"
   ]
  },
  {
   "cell_type": "code",
   "execution_count": 77,
   "id": "b2ee5447-e3df-4eae-aa5c-42149a4c1944",
   "metadata": {},
   "outputs": [],
   "source": [
    "from datetime import datetime"
   ]
  },
  {
   "cell_type": "code",
   "execution_count": 82,
   "id": "8126ddc0-37f4-4484-821c-215318ef03df",
   "metadata": {},
   "outputs": [],
   "source": [
    "mydatetime = datetime(2021,10,3,14,20,1)\n",
    "mydatetime2 = datetime(today.year,today.month,today.day)"
   ]
  },
  {
   "cell_type": "code",
   "execution_count": 83,
   "id": "baacd771-0bd5-4332-a429-ce4dfc85741a",
   "metadata": {},
   "outputs": [
    {
     "name": "stdout",
     "output_type": "stream",
     "text": [
      "2021-10-03 14:20:01\n",
      "2023-06-11 00:00:00\n"
     ]
    }
   ],
   "source": [
    "print(mydatetime)\n",
    "print(mydatetime2)"
   ]
  },
  {
   "cell_type": "markdown",
   "id": "9bf18f50-abc6-464b-a1a6-a4e1f8b803d8",
   "metadata": {},
   "source": [
    "# Math and Random Modules"
   ]
  },
  {
   "cell_type": "code",
   "execution_count": 2,
   "id": "9b63610c-cb3c-47ee-aaaa-6e4685ed9893",
   "metadata": {},
   "outputs": [],
   "source": [
    "# import math\n",
    "import math"
   ]
  },
  {
   "cell_type": "code",
   "execution_count": 96,
   "id": "a0c31b7e-2328-4545-ba09-0ab8bc77bee1",
   "metadata": {},
   "outputs": [],
   "source": [
    "value = 4.35"
   ]
  },
  {
   "cell_type": "code",
   "execution_count": 97,
   "id": "79cfcaaf-03a3-49c7-b315-bbc0d6a13455",
   "metadata": {},
   "outputs": [
    {
     "data": {
      "text/plain": [
       "4"
      ]
     },
     "execution_count": 97,
     "metadata": {},
     "output_type": "execute_result"
    }
   ],
   "source": [
    "math.floor(value)"
   ]
  },
  {
   "cell_type": "code",
   "execution_count": 98,
   "id": "bf96a718-6b4c-41ba-aab2-6e7290943025",
   "metadata": {},
   "outputs": [
    {
     "data": {
      "text/plain": [
       "5"
      ]
     },
     "execution_count": 98,
     "metadata": {},
     "output_type": "execute_result"
    }
   ],
   "source": [
    "math.ceil(value)"
   ]
  },
  {
   "cell_type": "code",
   "execution_count": 99,
   "id": "a054bf4f-afa2-4d49-8e64-7f0d697f7cee",
   "metadata": {},
   "outputs": [
    {
     "data": {
      "text/plain": [
       "4"
      ]
     },
     "execution_count": 99,
     "metadata": {},
     "output_type": "execute_result"
    }
   ],
   "source": [
    "round(4.35)"
   ]
  },
  {
   "cell_type": "code",
   "execution_count": 100,
   "id": "49178083-227d-49dd-bafa-b6c6b659d578",
   "metadata": {},
   "outputs": [
    {
     "data": {
      "text/plain": [
       "6"
      ]
     },
     "execution_count": 100,
     "metadata": {},
     "output_type": "execute_result"
    }
   ],
   "source": [
    "round(5.5)"
   ]
  },
  {
   "cell_type": "code",
   "execution_count": 101,
   "id": "a57ecee8-4f8b-4bca-baab-7d874dc6cbf2",
   "metadata": {},
   "outputs": [
    {
     "data": {
      "text/plain": [
       "3.141592653589793"
      ]
     },
     "execution_count": 101,
     "metadata": {},
     "output_type": "execute_result"
    },
    {
     "data": {
      "text/plain": [
       "inf"
      ]
     },
     "execution_count": 101,
     "metadata": {},
     "output_type": "execute_result"
    },
    {
     "data": {
      "text/plain": [
       "nan"
      ]
     },
     "execution_count": 101,
     "metadata": {},
     "output_type": "execute_result"
    }
   ],
   "source": [
    "math.pi\n",
    "math.inf\n",
    "math.nan"
   ]
  },
  {
   "cell_type": "code",
   "execution_count": 103,
   "id": "caa68262-4cec-44eb-93fe-b28ff38afc64",
   "metadata": {},
   "outputs": [],
   "source": [
    "# Numpy"
   ]
  },
  {
   "cell_type": "code",
   "execution_count": 104,
   "id": "a25d5624-2882-4c45-9415-d3f3cfa67754",
   "metadata": {},
   "outputs": [
    {
     "data": {
      "text/plain": [
       "2.718281828459045"
      ]
     },
     "execution_count": 104,
     "metadata": {},
     "output_type": "execute_result"
    }
   ],
   "source": [
    "math.e"
   ]
  },
  {
   "cell_type": "code",
   "execution_count": 105,
   "id": "7f8650d3-4a38-4b13-968c-8234579923e0",
   "metadata": {},
   "outputs": [
    {
     "data": {
      "text/plain": [
       "1.0"
      ]
     },
     "execution_count": 105,
     "metadata": {},
     "output_type": "execute_result"
    }
   ],
   "source": [
    "math.log(math.e)"
   ]
  },
  {
   "cell_type": "code",
   "execution_count": 109,
   "id": "e6e9f123-b129-4101-9163-73fbfc1abb24",
   "metadata": {},
   "outputs": [
    {
     "data": {
      "text/plain": [
       "2.0"
      ]
     },
     "execution_count": 109,
     "metadata": {},
     "output_type": "execute_result"
    }
   ],
   "source": [
    "math.log(100,10)\n",
    "pi = math.pi"
   ]
  },
  {
   "cell_type": "code",
   "execution_count": 111,
   "id": "65cded69-51e6-4d6b-8b99-2c8503025df1",
   "metadata": {},
   "outputs": [
    {
     "data": {
      "text/plain": [
       "-0.5440211108893698"
      ]
     },
     "execution_count": 111,
     "metadata": {},
     "output_type": "execute_result"
    },
    {
     "data": {
      "text/plain": [
       "90.0"
      ]
     },
     "execution_count": 111,
     "metadata": {},
     "output_type": "execute_result"
    },
    {
     "data": {
      "text/plain": [
       "3.141592653589793"
      ]
     },
     "execution_count": 111,
     "metadata": {},
     "output_type": "execute_result"
    }
   ],
   "source": [
    "math.sin(10)\n",
    "math.degrees(pi/2)\n",
    "math.radians(180)"
   ]
  },
  {
   "cell_type": "code",
   "execution_count": 112,
   "id": "fc76c49e-039e-4e0a-b466-a9c9b9aaeb12",
   "metadata": {},
   "outputs": [],
   "source": [
    "# Random Modules\n",
    "import random"
   ]
  },
  {
   "cell_type": "code",
   "execution_count": 114,
   "id": "cc213c11-f84c-40f7-b693-81699a0189a4",
   "metadata": {},
   "outputs": [
    {
     "data": {
      "text/plain": [
       "0"
      ]
     },
     "execution_count": 114,
     "metadata": {},
     "output_type": "execute_result"
    }
   ],
   "source": [
    "random.randint(0,3)"
   ]
  },
  {
   "cell_type": "code",
   "execution_count": 117,
   "id": "4c605357-5e98-4e96-a80a-527874460b2e",
   "metadata": {},
   "outputs": [
    {
     "data": {
      "text/plain": [
       "74"
      ]
     },
     "execution_count": 117,
     "metadata": {},
     "output_type": "execute_result"
    }
   ],
   "source": [
    "random.seed(101)   # set make a random number generator will not change, because of the seed.\n",
    "random.randint(0,100)"
   ]
  },
  {
   "cell_type": "code",
   "execution_count": 118,
   "id": "67f21086-3bac-4d8c-b328-896937cb2798",
   "metadata": {},
   "outputs": [],
   "source": [
    "mylist = list(range(0,20))"
   ]
  },
  {
   "cell_type": "code",
   "execution_count": 119,
   "id": "19af3b9b-dc5a-43c5-96f3-f72109d6c9bf",
   "metadata": {},
   "outputs": [
    {
     "data": {
      "text/plain": [
       "[0, 1, 2, 3, 4, 5, 6, 7, 8, 9, 10, 11, 12, 13, 14, 15, 16, 17, 18, 19]"
      ]
     },
     "execution_count": 119,
     "metadata": {},
     "output_type": "execute_result"
    }
   ],
   "source": [
    "mylist"
   ]
  },
  {
   "cell_type": "code",
   "execution_count": 120,
   "id": "116c8838-375c-49dc-92dc-fb6711065f70",
   "metadata": {},
   "outputs": [
    {
     "data": {
      "text/plain": [
       "6"
      ]
     },
     "execution_count": 120,
     "metadata": {},
     "output_type": "execute_result"
    }
   ],
   "source": [
    "random.choice(mylist)"
   ]
  },
  {
   "cell_type": "code",
   "execution_count": 121,
   "id": "569c9002-a862-450e-9b26-af1342a20874",
   "metadata": {},
   "outputs": [
    {
     "data": {
      "text/plain": [
       "[18, 10, 7, 0, 10, 12, 18, 9, 15, 6]"
      ]
     },
     "execution_count": 121,
     "metadata": {},
     "output_type": "execute_result"
    }
   ],
   "source": [
    "# SAMPLE WITH REPLACEMENT\n",
    "random.choices(population=mylist,k=10)"
   ]
  },
  {
   "cell_type": "code",
   "execution_count": 122,
   "id": "0c7c1463-a060-41a9-b60d-b7ba448254ce",
   "metadata": {},
   "outputs": [
    {
     "data": {
      "text/plain": [
       "[14, 2, 8, 6, 5, 1, 7, 12, 17, 15]"
      ]
     },
     "execution_count": 122,
     "metadata": {},
     "output_type": "execute_result"
    }
   ],
   "source": [
    "# SAMPLE WITHOUT REPLACEMENT\n",
    "random.sample(population=mylist,k=10)"
   ]
  },
  {
   "cell_type": "code",
   "execution_count": 123,
   "id": "5631f7bd-56a5-4390-87b5-65643bed180b",
   "metadata": {},
   "outputs": [],
   "source": [
    "random.shuffle(mylist)"
   ]
  },
  {
   "cell_type": "code",
   "execution_count": 124,
   "id": "269ba97d-9aab-4e47-9bd6-050e9129b580",
   "metadata": {},
   "outputs": [
    {
     "data": {
      "text/plain": [
       "[0, 8, 17, 11, 2, 9, 5, 18, 13, 4, 16, 14, 1, 3, 19, 12, 7, 10, 15, 6]"
      ]
     },
     "execution_count": 124,
     "metadata": {},
     "output_type": "execute_result"
    }
   ],
   "source": [
    "mylist"
   ]
  },
  {
   "cell_type": "code",
   "execution_count": 128,
   "id": "3dfc1f2e-4d19-4355-948e-101bb090c777",
   "metadata": {},
   "outputs": [
    {
     "data": {
      "text/plain": [
       "41.84355661758675"
      ]
     },
     "execution_count": 128,
     "metadata": {},
     "output_type": "execute_result"
    }
   ],
   "source": [
    "random.uniform(a=0,b=100)"
   ]
  },
  {
   "cell_type": "code",
   "execution_count": 129,
   "id": "9a3d443b-8f7e-489b-9d0e-fae1bcfe6d7a",
   "metadata": {},
   "outputs": [
    {
     "data": {
      "text/plain": [
       "0.4842611842078838"
      ]
     },
     "execution_count": 129,
     "metadata": {},
     "output_type": "execute_result"
    }
   ],
   "source": [
    "# GAUSS\n",
    "# mu = mean, sigma = standar deviation\n",
    "random.gauss(mu=0,sigma=1)"
   ]
  },
  {
   "cell_type": "markdown",
   "id": "6741dd8b-e3d1-4b08-a01e-a62cb251273e",
   "metadata": {},
   "source": [
    "# Python Debugger"
   ]
  },
  {
   "cell_type": "code",
   "execution_count": 132,
   "id": "3dafbccb-f065-4a49-b813-197a453ba76e",
   "metadata": {},
   "outputs": [],
   "source": [
    "x = [1,2,3]\n",
    "y = 2\n",
    "z = 3"
   ]
  },
  {
   "cell_type": "code",
   "execution_count": 137,
   "id": "0ba7a911-6dec-4395-bcb6-3a22f0369aba",
   "metadata": {},
   "outputs": [],
   "source": [
    "# Import module\n",
    "import pdb"
   ]
  },
  {
   "cell_type": "code",
   "execution_count": 138,
   "id": "6762696a-2e49-44b9-8cef-b87481afd352",
   "metadata": {},
   "outputs": [
    {
     "name": "stdout",
     "output_type": "stream",
     "text": [
      "--Call--\n",
      "> \u001b[1;32mc:\\users\\asus\\anaconda3\\lib\\site-packages\\ipython\\core\\displayhook.py\u001b[0m(252)\u001b[0;36m__call__\u001b[1;34m()\u001b[0m\n",
      "\u001b[1;32m    250 \u001b[1;33m        \u001b[0msys\u001b[0m\u001b[1;33m.\u001b[0m\u001b[0mstdout\u001b[0m\u001b[1;33m.\u001b[0m\u001b[0mflush\u001b[0m\u001b[1;33m(\u001b[0m\u001b[1;33m)\u001b[0m\u001b[1;33m\u001b[0m\u001b[1;33m\u001b[0m\u001b[0m\n",
      "\u001b[0m\u001b[1;32m    251 \u001b[1;33m\u001b[1;33m\u001b[0m\u001b[0m\n",
      "\u001b[0m\u001b[1;32m--> 252 \u001b[1;33m    \u001b[1;32mdef\u001b[0m \u001b[0m__call__\u001b[0m\u001b[1;33m(\u001b[0m\u001b[0mself\u001b[0m\u001b[1;33m,\u001b[0m \u001b[0mresult\u001b[0m\u001b[1;33m=\u001b[0m\u001b[1;32mNone\u001b[0m\u001b[1;33m)\u001b[0m\u001b[1;33m:\u001b[0m\u001b[1;33m\u001b[0m\u001b[1;33m\u001b[0m\u001b[0m\n",
      "\u001b[0m\u001b[1;32m    253 \u001b[1;33m        \"\"\"Printing with history cache management.\n",
      "\u001b[0m\u001b[1;32m    254 \u001b[1;33m\u001b[1;33m\u001b[0m\u001b[0m\n",
      "\u001b[0m\n"
     ]
    },
    {
     "name": "stdin",
     "output_type": "stream",
     "text": [
      "ipdb>  q\n"
     ]
    },
    {
     "ename": "BdbQuit",
     "evalue": "",
     "output_type": "error",
     "traceback": [
      "\u001b[1;31m---------------------------------------------------------------------------\u001b[0m",
      "\u001b[1;31mBdbQuit\u001b[0m                                   Traceback (most recent call last)",
      "Input \u001b[1;32mIn [138]\u001b[0m, in \u001b[0;36m<cell line: 7>\u001b[1;34m()\u001b[0m\n\u001b[0;32m      3\u001b[0m z \u001b[38;5;241m=\u001b[39m \u001b[38;5;241m3\u001b[39m\n\u001b[0;32m      5\u001b[0m result_one \u001b[38;5;241m=\u001b[39m y \u001b[38;5;241m+\u001b[39m z\n\u001b[1;32m----> 7\u001b[0m pdb\u001b[38;5;241m.\u001b[39mset_trace()\n\u001b[0;32m      9\u001b[0m result_two \u001b[38;5;241m=\u001b[39m y \u001b[38;5;241m+\u001b[39m x\n",
      "File \u001b[1;32m~\\anaconda3\\lib\\site-packages\\IPython\\core\\displayhook.py:252\u001b[0m, in \u001b[0;36mDisplayHook.__call__\u001b[1;34m(self, result)\u001b[0m\n\u001b[0;32m    249\u001b[0m     sys\u001b[38;5;241m.\u001b[39mstdout\u001b[38;5;241m.\u001b[39mwrite(\u001b[38;5;28mself\u001b[39m\u001b[38;5;241m.\u001b[39mshell\u001b[38;5;241m.\u001b[39mseparate_out2)\n\u001b[0;32m    250\u001b[0m     sys\u001b[38;5;241m.\u001b[39mstdout\u001b[38;5;241m.\u001b[39mflush()\n\u001b[1;32m--> 252\u001b[0m \u001b[38;5;28;01mdef\u001b[39;00m \u001b[38;5;21m__call__\u001b[39m(\u001b[38;5;28mself\u001b[39m, result\u001b[38;5;241m=\u001b[39m\u001b[38;5;28;01mNone\u001b[39;00m):\n\u001b[0;32m    253\u001b[0m     \u001b[38;5;124;03m\"\"\"Printing with history cache management.\u001b[39;00m\n\u001b[0;32m    254\u001b[0m \n\u001b[0;32m    255\u001b[0m \u001b[38;5;124;03m    This is invoked every time the interpreter needs to print, and is\u001b[39;00m\n\u001b[0;32m    256\u001b[0m \u001b[38;5;124;03m    activated by setting the variable sys.displayhook to it.\u001b[39;00m\n\u001b[0;32m    257\u001b[0m \u001b[38;5;124;03m    \"\"\"\u001b[39;00m\n\u001b[0;32m    258\u001b[0m     \u001b[38;5;28mself\u001b[39m\u001b[38;5;241m.\u001b[39mcheck_for_underscore()\n",
      "File \u001b[1;32m~\\anaconda3\\lib\\bdb.py:90\u001b[0m, in \u001b[0;36mBdb.trace_dispatch\u001b[1;34m(self, frame, event, arg)\u001b[0m\n\u001b[0;32m     88\u001b[0m     \u001b[38;5;28;01mreturn\u001b[39;00m \u001b[38;5;28mself\u001b[39m\u001b[38;5;241m.\u001b[39mdispatch_line(frame)\n\u001b[0;32m     89\u001b[0m \u001b[38;5;28;01mif\u001b[39;00m event \u001b[38;5;241m==\u001b[39m \u001b[38;5;124m'\u001b[39m\u001b[38;5;124mcall\u001b[39m\u001b[38;5;124m'\u001b[39m:\n\u001b[1;32m---> 90\u001b[0m     \u001b[38;5;28;01mreturn\u001b[39;00m \u001b[38;5;28;43mself\u001b[39;49m\u001b[38;5;241;43m.\u001b[39;49m\u001b[43mdispatch_call\u001b[49m\u001b[43m(\u001b[49m\u001b[43mframe\u001b[49m\u001b[43m,\u001b[49m\u001b[43m \u001b[49m\u001b[43marg\u001b[49m\u001b[43m)\u001b[49m\n\u001b[0;32m     91\u001b[0m \u001b[38;5;28;01mif\u001b[39;00m event \u001b[38;5;241m==\u001b[39m \u001b[38;5;124m'\u001b[39m\u001b[38;5;124mreturn\u001b[39m\u001b[38;5;124m'\u001b[39m:\n\u001b[0;32m     92\u001b[0m     \u001b[38;5;28;01mreturn\u001b[39;00m \u001b[38;5;28mself\u001b[39m\u001b[38;5;241m.\u001b[39mdispatch_return(frame, arg)\n",
      "File \u001b[1;32m~\\anaconda3\\lib\\bdb.py:135\u001b[0m, in \u001b[0;36mBdb.dispatch_call\u001b[1;34m(self, frame, arg)\u001b[0m\n\u001b[0;32m    133\u001b[0m     \u001b[38;5;28;01mreturn\u001b[39;00m \u001b[38;5;28mself\u001b[39m\u001b[38;5;241m.\u001b[39mtrace_dispatch\n\u001b[0;32m    134\u001b[0m \u001b[38;5;28mself\u001b[39m\u001b[38;5;241m.\u001b[39muser_call(frame, arg)\n\u001b[1;32m--> 135\u001b[0m \u001b[38;5;28;01mif\u001b[39;00m \u001b[38;5;28mself\u001b[39m\u001b[38;5;241m.\u001b[39mquitting: \u001b[38;5;28;01mraise\u001b[39;00m BdbQuit\n\u001b[0;32m    136\u001b[0m \u001b[38;5;28;01mreturn\u001b[39;00m \u001b[38;5;28mself\u001b[39m\u001b[38;5;241m.\u001b[39mtrace_dispatch\n",
      "\u001b[1;31mBdbQuit\u001b[0m: "
     ]
    }
   ],
   "source": [
    "x = [1,2,3]\n",
    "y = 2\n",
    "z = 3\n",
    "\n",
    "result_one = y + z\n",
    "\n",
    "pdb.set_trace()\n",
    "\n",
    "result_two = y + x"
   ]
  },
  {
   "cell_type": "markdown",
   "id": "825da94b-8040-4a2c-b031-150161311ded",
   "metadata": {},
   "source": [
    "# Python Regular Expression Part 1"
   ]
  },
  {
   "cell_type": "code",
   "execution_count": 140,
   "id": "8c0b6820-1f02-4500-8888-342316cb451e",
   "metadata": {},
   "outputs": [],
   "source": [
    "text = \"The agent's phone number is 408-555-1234. Call soon!\""
   ]
  },
  {
   "cell_type": "code",
   "execution_count": 141,
   "id": "a7cb17cf-8d24-46b7-a1b6-f86670297706",
   "metadata": {},
   "outputs": [
    {
     "data": {
      "text/plain": [
       "True"
      ]
     },
     "execution_count": 141,
     "metadata": {},
     "output_type": "execute_result"
    }
   ],
   "source": [
    "'phone' in text"
   ]
  },
  {
   "cell_type": "code",
   "execution_count": 3,
   "id": "7fa9a27a-deb4-4fd6-bad7-6d1379284063",
   "metadata": {},
   "outputs": [],
   "source": [
    "# import module\n",
    "import re"
   ]
  },
  {
   "cell_type": "code",
   "execution_count": 143,
   "id": "d6bc753e-f467-4b0c-a046-a01f48caa0ab",
   "metadata": {},
   "outputs": [],
   "source": [
    "pattern = 'phone'"
   ]
  },
  {
   "cell_type": "code",
   "execution_count": 144,
   "id": "b190c29d-ed1a-42e5-9f63-978ebe29a926",
   "metadata": {},
   "outputs": [],
   "source": [
    "pattern = 'NOT IN TEXT'"
   ]
  },
  {
   "cell_type": "code",
   "execution_count": 145,
   "id": "fd0bd7f1-4c28-475e-ab1a-4f671d09c2a3",
   "metadata": {},
   "outputs": [],
   "source": [
    "re.search(pattern,text)"
   ]
  },
  {
   "cell_type": "code",
   "execution_count": 147,
   "id": "73ff1b0a-453b-4ddf-9067-75f34a0753b7",
   "metadata": {},
   "outputs": [],
   "source": [
    "pattern = 'phone'\n",
    "match = re.search(pattern,text)"
   ]
  },
  {
   "cell_type": "code",
   "execution_count": 148,
   "id": "cb6a7f4e-cda6-44af-b0b9-ebb181c0748b",
   "metadata": {},
   "outputs": [
    {
     "data": {
      "text/plain": [
       "<re.Match object; span=(12, 17), match='phone'>"
      ]
     },
     "execution_count": 148,
     "metadata": {},
     "output_type": "execute_result"
    }
   ],
   "source": [
    "match"
   ]
  },
  {
   "cell_type": "code",
   "execution_count": 150,
   "id": "9926a61d-9190-4de3-b1c1-7b33d0257d6b",
   "metadata": {},
   "outputs": [
    {
     "data": {
      "text/plain": [
       "(12, 17)"
      ]
     },
     "execution_count": 150,
     "metadata": {},
     "output_type": "execute_result"
    }
   ],
   "source": [
    "match.span()"
   ]
  },
  {
   "cell_type": "code",
   "execution_count": 151,
   "id": "87bb58b7-3a37-45f2-bf33-3d04e248d384",
   "metadata": {},
   "outputs": [
    {
     "data": {
      "text/plain": [
       "12"
      ]
     },
     "execution_count": 151,
     "metadata": {},
     "output_type": "execute_result"
    }
   ],
   "source": [
    "match.start()"
   ]
  },
  {
   "cell_type": "code",
   "execution_count": 152,
   "id": "a5dcea0b-44c9-4f83-aa75-4933d82fa0f3",
   "metadata": {},
   "outputs": [
    {
     "data": {
      "text/plain": [
       "17"
      ]
     },
     "execution_count": 152,
     "metadata": {},
     "output_type": "execute_result"
    }
   ],
   "source": [
    "match.end()"
   ]
  },
  {
   "cell_type": "code",
   "execution_count": 153,
   "id": "3e6f83e0-b819-46c4-ba60-4f1839134439",
   "metadata": {},
   "outputs": [
    {
     "data": {
      "text/plain": [
       "<re.Match object; span=(3, 8), match='phone'>"
      ]
     },
     "execution_count": 153,
     "metadata": {},
     "output_type": "execute_result"
    }
   ],
   "source": [
    "text = 'my phone once, my phone twice'\n",
    "match = re.search('phone',text)\n",
    "match"
   ]
  },
  {
   "cell_type": "code",
   "execution_count": 157,
   "id": "616c7666-0784-4b83-97d4-13f6db601bfb",
   "metadata": {},
   "outputs": [
    {
     "data": {
      "text/plain": [
       "['phone', 'phone']"
      ]
     },
     "execution_count": 157,
     "metadata": {},
     "output_type": "execute_result"
    }
   ],
   "source": [
    "matches = re.findall('phone',text)\n",
    "matches"
   ]
  },
  {
   "cell_type": "code",
   "execution_count": 159,
   "id": "b21ea422-43ce-42bc-a740-b7da5081db9b",
   "metadata": {},
   "outputs": [
    {
     "data": {
      "text/plain": [
       "2"
      ]
     },
     "execution_count": 159,
     "metadata": {},
     "output_type": "execute_result"
    }
   ],
   "source": [
    "len(matches)"
   ]
  },
  {
   "cell_type": "code",
   "execution_count": 160,
   "id": "0d044eae-82f2-4e0b-bd4c-6dc5b8e135b6",
   "metadata": {},
   "outputs": [
    {
     "name": "stdout",
     "output_type": "stream",
     "text": [
      "(3, 8)\n",
      "(18, 23)\n"
     ]
    }
   ],
   "source": [
    "for match in re.finditer('phone',text):\n",
    "    print(match.span())"
   ]
  },
  {
   "cell_type": "markdown",
   "id": "839254bf-f805-4c69-80e5-da82bfb00803",
   "metadata": {},
   "source": [
    "# Python Regular Expression Part 2"
   ]
  },
  {
   "cell_type": "code",
   "execution_count": 167,
   "id": "fd1647c3-e994-472c-b9f0-306e4bccd5ea",
   "metadata": {},
   "outputs": [],
   "source": [
    "text = 'My phone number is 408-555-7777'"
   ]
  },
  {
   "cell_type": "code",
   "execution_count": 168,
   "id": "d6bc83e8-8aab-4287-ac99-8461575df87d",
   "metadata": {},
   "outputs": [],
   "source": [
    "phone = re.search(r'\\d\\d\\d-\\d\\d\\d-\\d\\d\\d\\d',text)"
   ]
  },
  {
   "cell_type": "code",
   "execution_count": 170,
   "id": "a5f03448-0823-4978-ba65-ffe61142c76b",
   "metadata": {},
   "outputs": [
    {
     "data": {
      "text/plain": [
       "<re.Match object; span=(19, 31), match='408-555-7777'>"
      ]
     },
     "execution_count": 170,
     "metadata": {},
     "output_type": "execute_result"
    },
    {
     "data": {
      "text/plain": [
       "'408-555-7777'"
      ]
     },
     "execution_count": 170,
     "metadata": {},
     "output_type": "execute_result"
    }
   ],
   "source": [
    "phone\n",
    "phone.group()"
   ]
  },
  {
   "cell_type": "code",
   "execution_count": 181,
   "id": "491bb3e6-6d5c-43a5-a6d6-a02f6adb302c",
   "metadata": {},
   "outputs": [
    {
     "data": {
      "text/plain": [
       "'408-555-7777'"
      ]
     },
     "execution_count": 181,
     "metadata": {},
     "output_type": "execute_result"
    }
   ],
   "source": [
    "phone = re.search(r'\\d{3}-\\d{3}-\\d{4}',text)\n",
    "phone.group()"
   ]
  },
  {
   "cell_type": "code",
   "execution_count": 186,
   "id": "ab32e11a-653f-4bb6-9db2-92abc3e34a3c",
   "metadata": {},
   "outputs": [],
   "source": [
    "# Make separate group for value of phone number using 're.compile' to make sub-group\n",
    "phone_pattern = re.compile(r'(\\d{3})-(\\d{3})-(\\d{4})')"
   ]
  },
  {
   "cell_type": "code",
   "execution_count": 173,
   "id": "8885de14-6f0d-4b95-a522-02112448d6cd",
   "metadata": {},
   "outputs": [],
   "source": [
    "results = re.search(phone_pattern,text)"
   ]
  },
  {
   "cell_type": "code",
   "execution_count": 175,
   "id": "1bd74fe6-7c30-4801-91d4-31c72a997c1e",
   "metadata": {},
   "outputs": [
    {
     "data": {
      "text/plain": [
       "'408-555-7777'"
      ]
     },
     "execution_count": 175,
     "metadata": {},
     "output_type": "execute_result"
    }
   ],
   "source": [
    "results.group()"
   ]
  },
  {
   "cell_type": "code",
   "execution_count": 183,
   "id": "91344f38-06d4-4e7e-ab03-d9cb99286de1",
   "metadata": {},
   "outputs": [
    {
     "data": {
      "text/plain": [
       "'408'"
      ]
     },
     "execution_count": 183,
     "metadata": {},
     "output_type": "execute_result"
    },
    {
     "data": {
      "text/plain": [
       "'555'"
      ]
     },
     "execution_count": 183,
     "metadata": {},
     "output_type": "execute_result"
    },
    {
     "data": {
      "text/plain": [
       "'7777'"
      ]
     },
     "execution_count": 183,
     "metadata": {},
     "output_type": "execute_result"
    }
   ],
   "source": [
    "results.group(1)\n",
    "results.group(2)\n",
    "results.group(3)"
   ]
  },
  {
   "cell_type": "markdown",
   "id": "aafa0366-c2c0-415c-8cba-6d8a048af222",
   "metadata": {},
   "source": [
    "# Python Regular Expression Part 3"
   ]
  },
  {
   "cell_type": "code",
   "execution_count": 188,
   "id": "3eb16746-6590-4375-b1b2-b7dbd40ac2ac",
   "metadata": {},
   "outputs": [
    {
     "data": {
      "text/plain": [
       "<re.Match object; span=(4, 7), match='cat'>"
      ]
     },
     "execution_count": 188,
     "metadata": {},
     "output_type": "execute_result"
    }
   ],
   "source": [
    "re.search(r'cat|dog','The cat is here')"
   ]
  },
  {
   "cell_type": "code",
   "execution_count": 6,
   "id": "aae7c37e-d32e-4d9d-af75-739c4ed842cd",
   "metadata": {},
   "outputs": [
    {
     "data": {
      "text/plain": [
       "['at', 'at', 'at']"
      ]
     },
     "execution_count": 6,
     "metadata": {},
     "output_type": "execute_result"
    },
    {
     "data": {
      "text/plain": [
       "['cat', 'hat', 'sat']"
      ]
     },
     "execution_count": 6,
     "metadata": {},
     "output_type": "execute_result"
    },
    {
     "data": {
      "text/plain": [
       "['e cat', 'e hat']"
      ]
     },
     "execution_count": 6,
     "metadata": {},
     "output_type": "execute_result"
    },
    {
     "data": {
      "text/plain": [
       "[' cat', ' cat', ' cat']"
      ]
     },
     "execution_count": 6,
     "metadata": {},
     "output_type": "execute_result"
    }
   ],
   "source": [
    "re.findall(r'at','The cat in the hat sat there.')   # not using .\n",
    "re.findall(r'.at','The cat in the hat sat there.')  # using .\n",
    "re.findall(r'...at','The cat in the hat sat there.')  # using ...\n",
    "\n",
    "re.findall(r'.cat','The cat in the hat sat there. Do not be cat if you already a cat')  # using ."
   ]
  },
  {
   "cell_type": "code",
   "execution_count": 10,
   "id": "f8fc94ee-fa3a-4c00-b92f-7e47eee80df6",
   "metadata": {},
   "outputs": [
    {
     "name": "stdout",
     "output_type": "stream",
     "text": [
      "The \"cat\" word appear 3 many times\n",
      "The \"cat\" word appear 0 many times\n"
     ]
    }
   ],
   "source": [
    "# the example of using findall\n",
    "import re\n",
    "mylist = []\n",
    "\n",
    "# 1st way\n",
    "text = 'The cat in the hat sat there. Do not be cat if you already a cat'\n",
    "mylist = re.findall(r'cat',text)\n",
    "print('The \"cat\" word appear {a} many times'.format(a=len(mylist)))\n",
    "\n",
    "\n",
    "# 2nd way\n",
    "n = 0\n",
    "text = 'The cat in the hat sat there. Do not be cat if you already a cat'\n",
    "text = text.split()\n",
    "for idx in text.lower():\n",
    "    if idx == 'cat':\n",
    "        n+=1\n",
    "    else:\n",
    "        pass\n",
    "print('The \"cat\" word appear {a} many times'.format(a=n))"
   ]
  },
  {
   "cell_type": "code",
   "execution_count": 193,
   "id": "ae8a8299-0b12-42b0-a68d-12e37289aab2",
   "metadata": {},
   "outputs": [
    {
     "data": {
      "text/plain": [
       "['1']"
      ]
     },
     "execution_count": 193,
     "metadata": {},
     "output_type": "execute_result"
    },
    {
     "data": {
      "text/plain": [
       "[]"
      ]
     },
     "execution_count": 193,
     "metadata": {},
     "output_type": "execute_result"
    }
   ],
   "source": [
    "re.findall(r'^\\d','1 is a number')  # Find the first string is number\n",
    "re.findall(r'^\\d','The 1 is a number') # Find the first string is a number, but there is no number, so output will be empty"
   ]
  },
  {
   "cell_type": "code",
   "execution_count": 194,
   "id": "601a7d66-126a-482a-88f2-e942a9bd4262",
   "metadata": {},
   "outputs": [],
   "source": [
    "phrase = 'There are 3 numbers 34 inside 5 this sentence'\n"
   ]
  },
  {
   "cell_type": "code",
   "execution_count": 203,
   "id": "d392085c-17b9-4459-8784-b16a13620c23",
   "metadata": {},
   "outputs": [
    {
     "data": {
      "text/plain": [
       "['T',\n",
       " 'h',\n",
       " 'e',\n",
       " 'r',\n",
       " 'e',\n",
       " ' ',\n",
       " 'a',\n",
       " 'r',\n",
       " 'e',\n",
       " ' ',\n",
       " ' ',\n",
       " 'n',\n",
       " 'u',\n",
       " 'm',\n",
       " 'b',\n",
       " 'e',\n",
       " 'r',\n",
       " 's',\n",
       " ' ',\n",
       " ' ',\n",
       " 'i',\n",
       " 'n',\n",
       " 's',\n",
       " 'i',\n",
       " 'd',\n",
       " 'e',\n",
       " ' ',\n",
       " ' ',\n",
       " 't',\n",
       " 'h',\n",
       " 'i',\n",
       " 's',\n",
       " ' ',\n",
       " 's',\n",
       " 'e',\n",
       " 'n',\n",
       " 't',\n",
       " 'e',\n",
       " 'n',\n",
       " 'c',\n",
       " 'e']"
      ]
     },
     "execution_count": 203,
     "metadata": {},
     "output_type": "execute_result"
    }
   ],
   "source": [
    "# exclude any digit\n",
    "pattern = r'[^\\d]' # without '+'\n",
    "re.findall(pattern,phrase)  # printout"
   ]
  },
  {
   "cell_type": "code",
   "execution_count": 198,
   "id": "89b24f5a-44ef-4b1f-9e1b-96901943efec",
   "metadata": {},
   "outputs": [
    {
     "data": {
      "text/plain": [
       "['There are ', ' numbers ', ' inside ', ' this sentence']"
      ]
     },
     "execution_count": 198,
     "metadata": {},
     "output_type": "execute_result"
    }
   ],
   "source": [
    "# exclude any digit\n",
    "pattern = r'[^\\d]+'     # + : occurs one or more time\n",
    "re.findall(pattern,phrase)  # printout"
   ]
  },
  {
   "cell_type": "code",
   "execution_count": 199,
   "id": "3f5e2455-5517-480d-a7cd-62af76a8dc3a",
   "metadata": {},
   "outputs": [],
   "source": [
    "test_phrase = 'This is a string! But it has punctuation. How can we remove it?'"
   ]
  },
  {
   "cell_type": "code",
   "execution_count": 201,
   "id": "23fcc421-e273-44ca-9990-ec5adc94ec11",
   "metadata": {},
   "outputs": [
    {
     "data": {
      "text/plain": [
       "['This',\n",
       " 'is',\n",
       " 'a',\n",
       " 'string',\n",
       " 'But',\n",
       " 'it',\n",
       " 'has',\n",
       " 'punctuation',\n",
       " 'How',\n",
       " 'can',\n",
       " 'we',\n",
       " 'remove',\n",
       " 'it']"
      ]
     },
     "execution_count": 201,
     "metadata": {},
     "output_type": "execute_result"
    }
   ],
   "source": [
    "re.findall(r'[^!.? ]+',test_phrase)  # with space after ?. It count space to split the word"
   ]
  },
  {
   "cell_type": "code",
   "execution_count": 202,
   "id": "ebaa19a9-017f-4605-a7a2-c8c29730ae96",
   "metadata": {},
   "outputs": [
    {
     "data": {
      "text/plain": [
       "['This is a string', ' But it has punctuation', ' How can we remove it']"
      ]
     },
     "execution_count": 202,
     "metadata": {},
     "output_type": "execute_result"
    }
   ],
   "source": [
    "re.findall(r'[^!.?]+',test_phrase)  # without space after ?"
   ]
  },
  {
   "cell_type": "code",
   "execution_count": 204,
   "id": "c31d9f6d-9839-44e9-8937-8f35577a696c",
   "metadata": {},
   "outputs": [],
   "source": [
    "text = 'Only find the hypen-words in this sentence. But you do not know how long-ish they are'"
   ]
  },
  {
   "cell_type": "code",
   "execution_count": 207,
   "id": "d5a315c7-71d6-4150-9ba2-10a3efc74b8d",
   "metadata": {},
   "outputs": [],
   "source": [
    "pattern = r'[\\w]+-[\\w]+'"
   ]
  },
  {
   "cell_type": "code",
   "execution_count": 208,
   "id": "c05e3b52-c759-4311-bc59-25a5d42d6fa5",
   "metadata": {},
   "outputs": [
    {
     "data": {
      "text/plain": [
       "['hypen-words', 'long-ish']"
      ]
     },
     "execution_count": 208,
     "metadata": {},
     "output_type": "execute_result"
    }
   ],
   "source": [
    "re.findall(pattern,text)"
   ]
  },
  {
   "cell_type": "code",
   "execution_count": 209,
   "id": "62e0e94c-ca1c-433f-ac45-71158822a344",
   "metadata": {},
   "outputs": [],
   "source": [
    "text = 'Hello, would you like some catfish?'\n",
    "texttwo = 'Hello, would you like to take a catnap?'\n",
    "textthree = 'Hello, have you seen this caterpillar?'"
   ]
  },
  {
   "cell_type": "code",
   "execution_count": 211,
   "id": "326ce58f-3a28-42ff-b3b5-a733fb6165d6",
   "metadata": {},
   "outputs": [
    {
     "data": {
      "text/plain": [
       "<re.Match object; span=(27, 34), match='catfish'>"
      ]
     },
     "execution_count": 211,
     "metadata": {},
     "output_type": "execute_result"
    },
    {
     "data": {
      "text/plain": [
       "<re.Match object; span=(32, 38), match='catnap'>"
      ]
     },
     "execution_count": 211,
     "metadata": {},
     "output_type": "execute_result"
    }
   ],
   "source": [
    "re.search(r'cat(fish|nap|claw)',text)\n",
    "re.search(r'cat(fish|nap|claw)',texttwo)\n",
    "re.search(r'cat(fish|nap|claw)',textthree)"
   ]
  },
  {
   "cell_type": "markdown",
   "id": "1ebb66ed-b32a-4d20-be61-4f9385313535",
   "metadata": {},
   "source": [
    "# Timing Your Python Code\n",
    "## Keyword: %%timeit"
   ]
  },
  {
   "cell_type": "code",
   "execution_count": 213,
   "id": "0be0c528-1bb1-4e54-8ecf-33a68064e221",
   "metadata": {},
   "outputs": [],
   "source": [
    "def func_one(n):\n",
    "    return [str(num) for num in range(n)]"
   ]
  },
  {
   "cell_type": "code",
   "execution_count": 214,
   "id": "3062d44c-546e-418a-8c24-1b3c48e7cf15",
   "metadata": {},
   "outputs": [
    {
     "data": {
      "text/plain": [
       "['0', '1', '2', '3', '4', '5', '6', '7', '8', '9']"
      ]
     },
     "execution_count": 214,
     "metadata": {},
     "output_type": "execute_result"
    }
   ],
   "source": [
    "func_one(10)"
   ]
  },
  {
   "cell_type": "code",
   "execution_count": 215,
   "id": "8b873300-f46a-4e2a-8888-c0b2201cd5ee",
   "metadata": {},
   "outputs": [],
   "source": [
    "def func_two(n):\n",
    "    return list(map(str,range(n)))"
   ]
  },
  {
   "cell_type": "code",
   "execution_count": 216,
   "id": "d3e031f4-343e-4b64-bab9-aa3da05eb926",
   "metadata": {},
   "outputs": [
    {
     "data": {
      "text/plain": [
       "['0', '1', '2', '3', '4', '5', '6', '7', '8', '9']"
      ]
     },
     "execution_count": 216,
     "metadata": {},
     "output_type": "execute_result"
    }
   ],
   "source": [
    "func_two(10)"
   ]
  },
  {
   "cell_type": "code",
   "execution_count": 217,
   "id": "b2fef097-51dd-44a3-be8c-2537601a4be9",
   "metadata": {},
   "outputs": [],
   "source": [
    "# compare timeit for 2 function\n",
    "# import module\n",
    "import time"
   ]
  },
  {
   "cell_type": "code",
   "execution_count": 221,
   "id": "11b8e7b9-79d0-4d40-bcda-bd3d6154bb32",
   "metadata": {},
   "outputs": [
    {
     "name": "stdout",
     "output_type": "stream",
     "text": [
      "0.14703774452209473\n"
     ]
    }
   ],
   "source": [
    "# func_one\n",
    "# CURRENT TIME BEFORE\n",
    "start_time = time.time()\n",
    "\n",
    "# RUN CODE\n",
    "result = func_one(1000000)\n",
    "\n",
    "# CURRENT TIME AFTER RUNNING CODE\n",
    "end_time = time.time()\n",
    "\n",
    "# ELAPSED TIME\n",
    "elapsed_time = end_time - start_time\n",
    "\n",
    "print(elapsed_time)"
   ]
  },
  {
   "cell_type": "code",
   "execution_count": 220,
   "id": "2de40a41-8df1-4605-bd44-2a08b109d586",
   "metadata": {},
   "outputs": [
    {
     "name": "stdout",
     "output_type": "stream",
     "text": [
      "0.12602925300598145\n"
     ]
    }
   ],
   "source": [
    "# func_two\n",
    "# CURRENT TIME BEFORE\n",
    "start_time = time.time()\n",
    "\n",
    "# RUN CODE\n",
    "result = func_two(1000000)\n",
    "\n",
    "# CURRENT TIME AFTER RUNNING CODE\n",
    "end_time = time.time()\n",
    "\n",
    "# ELAPSED TIME\n",
    "elapsed_time = end_time - start_time\n",
    "\n",
    "print(elapsed_time)"
   ]
  },
  {
   "cell_type": "code",
   "execution_count": 222,
   "id": "898ac7c6-4edd-4bd4-9411-68fb15e8c9b1",
   "metadata": {},
   "outputs": [],
   "source": [
    "# import modul\n",
    "import timeit"
   ]
  },
  {
   "cell_type": "code",
   "execution_count": 223,
   "id": "f191e58e-d92f-45b7-aabb-60460d20e4ce",
   "metadata": {},
   "outputs": [],
   "source": [
    "stmt = '''\n",
    "func_one(100)\n",
    "'''"
   ]
  },
  {
   "cell_type": "code",
   "execution_count": 224,
   "id": "8d8465a5-22af-4eac-938b-55ff390cff72",
   "metadata": {},
   "outputs": [],
   "source": [
    "setup = '''\n",
    "def func_one(n):\n",
    "    return [str(num) for num in range(n)]\n",
    "'''"
   ]
  },
  {
   "cell_type": "code",
   "execution_count": 225,
   "id": "95ef5a51-be24-4aec-93ba-e92d199999b2",
   "metadata": {},
   "outputs": [
    {
     "data": {
      "text/plain": [
       "0.945189300000493"
      ]
     },
     "execution_count": 225,
     "metadata": {},
     "output_type": "execute_result"
    }
   ],
   "source": [
    "timeit.timeit(stmt,setup,number=100000)  # run the codes 100000 times for func_one for both stmt and setup"
   ]
  },
  {
   "cell_type": "code",
   "execution_count": 233,
   "id": "3fc4760b-8556-449d-932e-c3c740df448a",
   "metadata": {},
   "outputs": [],
   "source": [
    "stmt2 = '''\n",
    "func_two(100)\n",
    "'''"
   ]
  },
  {
   "cell_type": "code",
   "execution_count": 234,
   "id": "a2cc7f07-0ee3-4eee-a89a-1d6df58cc5a6",
   "metadata": {},
   "outputs": [],
   "source": [
    "setup2 = '''\n",
    "def func_two(n):\n",
    "    return list(map(str,range(n)))\n",
    "'''"
   ]
  },
  {
   "cell_type": "code",
   "execution_count": 236,
   "id": "5dfaf3a0-4d3e-49f1-a0e5-e823d846d947",
   "metadata": {},
   "outputs": [
    {
     "data": {
      "text/plain": [
       "0.8711096999995789"
      ]
     },
     "execution_count": 236,
     "metadata": {},
     "output_type": "execute_result"
    }
   ],
   "source": [
    "timeit.timeit(stmt2,setup2,number=100000) # run the codes 100000 times for func_two for both stmt2 and setup2"
   ]
  },
  {
   "cell_type": "code",
   "execution_count": 239,
   "id": "bb5ee1db-b8ac-433d-890b-94f54d9d822c",
   "metadata": {},
   "outputs": [
    {
     "name": "stdout",
     "output_type": "stream",
     "text": [
      "9.72 µs ± 41.4 ns per loop (mean ± std. dev. of 7 runs, 100,000 loops each)\n"
     ]
    }
   ],
   "source": [
    "%%timeit         # %%time it must be in the first line\n",
    "func_one(100)  "
   ]
  },
  {
   "cell_type": "code",
   "execution_count": 240,
   "id": "593448e0-0c28-4e97-ab31-0987be65d86f",
   "metadata": {},
   "outputs": [
    {
     "name": "stdout",
     "output_type": "stream",
     "text": [
      "8.14 µs ± 58.2 ns per loop (mean ± std. dev. of 7 runs, 100,000 loops each)\n"
     ]
    }
   ],
   "source": [
    "%%timeit\n",
    "func_two(100)"
   ]
  },
  {
   "cell_type": "markdown",
   "id": "6614475b-aad1-425a-ae44-911cf2465f03",
   "metadata": {},
   "source": [
    "# Unzipping and Zipping Files"
   ]
  },
  {
   "cell_type": "code",
   "execution_count": 249,
   "id": "6d428f33-daff-401d-ae4c-36d316eab946",
   "metadata": {},
   "outputs": [
    {
     "data": {
      "text/plain": [
       "8"
      ]
     },
     "execution_count": 249,
     "metadata": {},
     "output_type": "execute_result"
    },
    {
     "data": {
      "text/plain": [
       "8"
      ]
     },
     "execution_count": 249,
     "metadata": {},
     "output_type": "execute_result"
    }
   ],
   "source": [
    "f = open('fileone.txt','w+')\n",
    "f.write('One File')\n",
    "f.close()\n",
    "\n",
    "f = open('filetwo.txt','w+')\n",
    "f.write('Two File')\n",
    "f.close()"
   ]
  },
  {
   "cell_type": "code",
   "execution_count": 250,
   "id": "f5c58617-6e49-4b5a-b342-21c0185843af",
   "metadata": {},
   "outputs": [],
   "source": [
    "# import module\n",
    "import zipfile"
   ]
  },
  {
   "cell_type": "code",
   "execution_count": 251,
   "id": "d6ac4736-7d19-468a-b793-81511b5a1c15",
   "metadata": {},
   "outputs": [],
   "source": [
    "comp_file = zipfile.ZipFile('comp_file.zip','w')"
   ]
  },
  {
   "cell_type": "code",
   "execution_count": 254,
   "id": "3bc1c101-858b-4097-9432-c1b2a0549a36",
   "metadata": {},
   "outputs": [
    {
     "name": "stderr",
     "output_type": "stream",
     "text": [
      "C:\\Users\\ASUS\\anaconda3\\lib\\zipfile.py:1514: UserWarning: Duplicate name: 'fileone.txt'\n",
      "  return self._open_to_write(zinfo, force_zip64=force_zip64)\n",
      "C:\\Users\\ASUS\\anaconda3\\lib\\zipfile.py:1514: UserWarning: Duplicate name: 'filetwo.txt'\n",
      "  return self._open_to_write(zinfo, force_zip64=force_zip64)\n"
     ]
    }
   ],
   "source": [
    "comp_file.write('fileone.txt',compress_type=zipfile.ZIP_DEFLATED)\n",
    "comp_file.write('filetwo.txt',compress_type=zipfile.ZIP_DEFLATED)\n",
    "comp_file.close()"
   ]
  },
  {
   "cell_type": "code",
   "execution_count": 255,
   "id": "2f4eafd9-ad19-4f14-83f9-373a59583541",
   "metadata": {},
   "outputs": [],
   "source": [
    "zip_obj = zipfile.ZipFile('comp_file.zip','r')"
   ]
  },
  {
   "cell_type": "code",
   "execution_count": 256,
   "id": "edc1c19e-a95d-479c-8429-7765964b7b7f",
   "metadata": {},
   "outputs": [],
   "source": [
    "zip_obj.extractall('extracted_content')"
   ]
  },
  {
   "cell_type": "code",
   "execution_count": 257,
   "id": "27e1444e-823d-4f94-8106-69ff3213bfe1",
   "metadata": {},
   "outputs": [
    {
     "data": {
      "text/plain": [
       "'D:\\\\UNSW\\\\COMP9021\\\\_Bootcamp_\\\\Training'"
      ]
     },
     "execution_count": 257,
     "metadata": {},
     "output_type": "execute_result"
    }
   ],
   "source": [
    "pwd"
   ]
  },
  {
   "cell_type": "code",
   "execution_count": 258,
   "id": "6f6cd468-66a1-46c5-aa00-446d52a509b2",
   "metadata": {},
   "outputs": [],
   "source": [
    "import shutil"
   ]
  },
  {
   "cell_type": "code",
   "execution_count": null,
   "id": "79e7e1ce-69d5-43d2-8e6e-8d8b3983e55a",
   "metadata": {},
   "outputs": [],
   "source": []
  },
  {
   "cell_type": "code",
   "execution_count": null,
   "id": "3b079fc4-086a-4ec5-8805-03845d19674f",
   "metadata": {},
   "outputs": [],
   "source": []
  }
 ],
 "metadata": {
  "kernelspec": {
   "display_name": "Python 3 (ipykernel)",
   "language": "python",
   "name": "python3"
  },
  "language_info": {
   "codemirror_mode": {
    "name": "ipython",
    "version": 3
   },
   "file_extension": ".py",
   "mimetype": "text/x-python",
   "name": "python",
   "nbconvert_exporter": "python",
   "pygments_lexer": "ipython3",
   "version": "3.9.12"
  }
 },
 "nbformat": 4,
 "nbformat_minor": 5
}
