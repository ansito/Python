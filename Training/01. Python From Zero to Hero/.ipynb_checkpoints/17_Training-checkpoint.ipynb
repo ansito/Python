{
 "cells": [
  {
   "cell_type": "markdown",
   "id": "a69e8b90-a8d2-467d-9f20-49e7b2f88fe2",
   "metadata": {},
   "source": [
    "# Interactive GUI with Python"
   ]
  },
  {
   "cell_type": "code",
   "execution_count": null,
   "id": "0bb376f9-fac0-422b-a0fe-a5d73970b862",
   "metadata": {},
   "outputs": [],
   "source": []
  }
 ],
 "metadata": {
  "kernelspec": {
   "display_name": "Python 3 (ipykernel)",
   "language": "python",
   "name": "python3"
  },
  "language_info": {
   "codemirror_mode": {
    "name": "ipython",
    "version": 3
   },
   "file_extension": ".py",
   "mimetype": "text/x-python",
   "name": "python",
   "nbconvert_exporter": "python",
   "pygments_lexer": "ipython3",
   "version": "3.9.12"
  }
 },
 "nbformat": 4,
 "nbformat_minor": 5
}
