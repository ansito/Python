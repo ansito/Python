{
 "cells": [
  {
   "cell_type": "markdown",
   "id": "aa6289cd-3bd7-4ae4-9e64-be1c5511aa44",
   "metadata": {},
   "source": [
    "# Card Class"
   ]
  },
  {
   "cell_type": "code",
   "execution_count": 33,
   "id": "616ba319-8aae-4e90-b422-0e9ef3b58a4f",
   "metadata": {},
   "outputs": [],
   "source": [
    "# CARD\n",
    "# SUIT, RANK, VALUE\n",
    "import random\n",
    "suits = ('Hearts','Diamonds','Spades','Clubs')  # tuple\n",
    "ranks = ('Two','Three','Four','Five','Six','Seven','Eight','Nine','Ten','Jack','Queen','King','Ace')\n",
    "values = {'Two':2, 'Three':3, 'Four':4, 'Five':5, 'Six':6, 'Seven':7, 'Eight':8, 'Nine':9, 'Ten':10,\n",
    "          'Jack':11, 'Queen':12, 'King':13, 'Ace':14}"
   ]
  },
  {
   "cell_type": "code",
   "execution_count": 34,
   "id": "99256694-d265-4c27-9c50-96c640fa7f19",
   "metadata": {},
   "outputs": [],
   "source": [
    "class Card:\n",
    "    def __init__(self,suit,rank):\n",
    "        self.suit = suit\n",
    "        self.rank = rank\n",
    "        self.value = values[rank] # put the dictionary with attributes rank\n",
    "    \n",
    "    def __str__(self):\n",
    "        return self.rank + ' of ' + self.suit"
   ]
  },
  {
   "cell_type": "code",
   "execution_count": 26,
   "id": "96e5873e-828b-4a7c-9034-5d3fe23fd96d",
   "metadata": {},
   "outputs": [],
   "source": [
    "# Initiation\n",
    "two_hearts = Card('Hearts','King')"
   ]
  },
  {
   "cell_type": "code",
   "execution_count": 27,
   "id": "ba81c750-47ef-4162-aaae-5c7756b7fd3d",
   "metadata": {},
   "outputs": [
    {
     "data": {
      "text/plain": [
       "<__main__.Card at 0x1d6dcb20a60>"
      ]
     },
     "execution_count": 27,
     "metadata": {},
     "output_type": "execute_result"
    },
    {
     "name": "stdout",
     "output_type": "stream",
     "text": [
      "King of Hearts\n"
     ]
    },
    {
     "data": {
      "text/plain": [
       "'Hearts'"
      ]
     },
     "execution_count": 27,
     "metadata": {},
     "output_type": "execute_result"
    },
    {
     "data": {
      "text/plain": [
       "'King'"
      ]
     },
     "execution_count": 27,
     "metadata": {},
     "output_type": "execute_result"
    }
   ],
   "source": [
    "# Test\n",
    "two_hearts\n",
    "print(two_hearts)\n",
    "two_hearts.suit\n",
    "two_hearts.rank"
   ]
  },
  {
   "cell_type": "code",
   "execution_count": 7,
   "id": "ac515125-330d-4d91-8601-6b51c25e7793",
   "metadata": {},
   "outputs": [],
   "source": [
    "# create Dictionary\n",
    "values = {'Two':2, 'Three':3, 'Four':4, 'Five':5, 'Six':6, 'Seven':7, 'Eight':8, 'Nine':9, 'Ten':10,\n",
    "          'Jack':11, 'Queen':12, 'King':13, 'Ace':14}\n"
   ]
  },
  {
   "cell_type": "code",
   "execution_count": 20,
   "id": "6aac2a6d-03a7-4636-991c-afe50669110b",
   "metadata": {},
   "outputs": [
    {
     "data": {
      "text/plain": [
       "2"
      ]
     },
     "execution_count": 20,
     "metadata": {},
     "output_type": "execute_result"
    },
    {
     "data": {
      "text/plain": [
       "13"
      ]
     },
     "execution_count": 20,
     "metadata": {},
     "output_type": "execute_result"
    }
   ],
   "source": [
    "# Test\n",
    "values['Two']\n",
    "values[two_hearts.rank]  # King is 13\n"
   ]
  },
  {
   "cell_type": "code",
   "execution_count": 23,
   "id": "1b10e670-5069-4e58-9aca-7eddf5d411a2",
   "metadata": {},
   "outputs": [],
   "source": [
    "# Initiation\n",
    "three_of_clubs = Card('Clubs','Three')"
   ]
  },
  {
   "cell_type": "code",
   "execution_count": 28,
   "id": "83eeb193-9e83-46be-9af0-146f16a8bc52",
   "metadata": {},
   "outputs": [
    {
     "data": {
      "text/plain": [
       "'Three'"
      ]
     },
     "execution_count": 28,
     "metadata": {},
     "output_type": "execute_result"
    },
    {
     "data": {
      "text/plain": [
       "'Clubs'"
      ]
     },
     "execution_count": 28,
     "metadata": {},
     "output_type": "execute_result"
    },
    {
     "data": {
      "text/plain": [
       "3"
      ]
     },
     "execution_count": 28,
     "metadata": {},
     "output_type": "execute_result"
    }
   ],
   "source": [
    "# Test\n",
    "three_of_clubs.rank\n",
    "three_of_clubs.suit\n",
    "three_of_clubs.value"
   ]
  },
  {
   "cell_type": "code",
   "execution_count": 30,
   "id": "3f2479d0-8af3-4eda-b30b-27644b4c2a89",
   "metadata": {},
   "outputs": [
    {
     "data": {
      "text/plain": [
       "13"
      ]
     },
     "execution_count": 30,
     "metadata": {},
     "output_type": "execute_result"
    },
    {
     "data": {
      "text/plain": [
       "False"
      ]
     },
     "execution_count": 30,
     "metadata": {},
     "output_type": "execute_result"
    }
   ],
   "source": [
    "# Test\n",
    "two_hearts.value\n",
    "two_hearts.value < three_of_clubs.value  # 14 < 3 : False"
   ]
  },
  {
   "cell_type": "markdown",
   "id": "5ce9e8f9-52f6-4916-a320-dc00e65a24a5",
   "metadata": {},
   "source": [
    "# Deck Class"
   ]
  },
  {
   "cell_type": "code",
   "execution_count": 7,
   "id": "837a33c2-9982-4feb-8ee9-319814c3b397",
   "metadata": {},
   "outputs": [],
   "source": [
    "# CARD\n",
    "# SUIT, RANK, VALUE\n",
    "import random\n",
    "suits = ('Hearts','Diamonds','Spades','Clubs')  # tuple\n",
    "ranks = ('Two','Three','Four','Five','Six','Seven','Eight','Nine','Ten','Jack','Queen','King','Ace')\n",
    "values = {'Two':2, 'Three':3, 'Four':4, 'Five':5, 'Six':6, 'Seven':7, 'Eight':8, 'Nine':9, 'Ten':10,\n",
    "          'Jack':11, 'Queen':12, 'King':13, 'Ace':14}"
   ]
  },
  {
   "cell_type": "code",
   "execution_count": 8,
   "id": "258566b8-272e-449c-8b2b-1e411b17bb6c",
   "metadata": {},
   "outputs": [],
   "source": [
    "# Class Card\n",
    "class Card:\n",
    "    def __init__(self,suit,rank):\n",
    "        self.suit = suit\n",
    "        self.rank = rank\n",
    "        self.value = values[rank] # put the dictionary with attributes rank\n",
    "    \n",
    "    def __str__(self):\n",
    "        return self.rank + ' of ' + self.suit"
   ]
  },
  {
   "cell_type": "code",
   "execution_count": 6,
   "id": "d87a696f-8477-4a7e-8825-ad93c472615e",
   "metadata": {},
   "outputs": [],
   "source": [
    "# Class Deck\n",
    "class Deck:\n",
    "    def __init__(self):\n",
    "        self.all_cards = []\n",
    "        for suit in suits:\n",
    "            for rank in ranks:\n",
    "                # Create the Card Object\n",
    "                created_card = Card(suit,rank)\n",
    "                self.all_cards.append(created_card)\n",
    "    \n",
    "    def shuffle(self):\n",
    "        random.shuffle(self.all_cards)  # no return output when do shuffle, it shuffle itself\n",
    "        \n",
    "    def deal_one(self):\n",
    "        return self.all_cards.pop()    # take 1 card of the list from the bottom"
   ]
  },
  {
   "cell_type": "code",
   "execution_count": 9,
   "id": "0e8aa69d-b1e2-46be-9811-3160dcb5bd07",
   "metadata": {},
   "outputs": [],
   "source": [
    "# Initiation\n",
    "new_deck = Deck()"
   ]
  },
  {
   "cell_type": "code",
   "execution_count": 12,
   "id": "b72da097-f308-46fc-b2d2-71e86019ec7d",
   "metadata": {},
   "outputs": [
    {
     "name": "stdout",
     "output_type": "stream",
     "text": [
      "[<__main__.Card object at 0x000002529FDBA820>, <__main__.Card object at 0x000002529FDBAB50>, <__main__.Card object at 0x000002529FDBADC0>, <__main__.Card object at 0x000002529FDBA880>, <__main__.Card object at 0x000002529FDBA100>, <__main__.Card object at 0x000002529FDBA580>, <__main__.Card object at 0x000002529FDBA5E0>, <__main__.Card object at 0x000002529FDBAAF0>, <__main__.Card object at 0x000002529FDBA400>, <__main__.Card object at 0x000002529FDBA7C0>, <__main__.Card object at 0x000002529FDBA970>, <__main__.Card object at 0x000002529FDBA490>, <__main__.Card object at 0x000002529FDBAEB0>, <__main__.Card object at 0x000002529FDBA190>, <__main__.Card object at 0x000002529FDBA7F0>, <__main__.Card object at 0x000002529FDBAF40>, <__main__.Card object at 0x000002529FDBAAC0>, <__main__.Card object at 0x000002529FDBA280>, <__main__.Card object at 0x000002529FDBA3A0>, <__main__.Card object at 0x000002529FDBA160>, <__main__.Card object at 0x000002529FDBAA30>, <__main__.Card object at 0x000002529FDBA0D0>, <__main__.Card object at 0x000002529FDBA250>, <__main__.Card object at 0x000002529FDBAA90>, <__main__.Card object at 0x000002529FDBA640>, <__main__.Card object at 0x000002529FDBACD0>, <__main__.Card object at 0x000002529FDBA700>, <__main__.Card object at 0x000002529EA87850>, <__main__.Card object at 0x000002529FDD9DC0>, <__main__.Card object at 0x000002529FDD9B80>, <__main__.Card object at 0x000002529FDD9FA0>, <__main__.Card object at 0x000002529FDD9EE0>, <__main__.Card object at 0x000002529FDD9910>, <__main__.Card object at 0x000002529FDD9970>, <__main__.Card object at 0x000002529FDD9CA0>, <__main__.Card object at 0x000002529FDD9D90>, <__main__.Card object at 0x000002529FDD9D00>, <__main__.Card object at 0x000002529FDD9BE0>, <__main__.Card object at 0x000002529FDD94C0>, <__main__.Card object at 0x000002529FDD9AF0>, <__main__.Card object at 0x000002529FDD9FD0>, <__main__.Card object at 0x000002529FDD9CD0>, <__main__.Card object at 0x000002529FDD9460>, <__main__.Card object at 0x000002529FDD9400>, <__main__.Card object at 0x000002529FDD97F0>, <__main__.Card object at 0x000002529FDD9610>, <__main__.Card object at 0x000002529FDD95B0>, <__main__.Card object at 0x000002529FDD9550>, <__main__.Card object at 0x000002529FDD94F0>, <__main__.Card object at 0x000002529FDD90D0>, <__main__.Card object at 0x000002529FDD9130>, <__main__.Card object at 0x000002529FDD9190>]\n"
     ]
    }
   ],
   "source": [
    "print(new_deck.all_cards)"
   ]
  },
  {
   "cell_type": "code",
   "execution_count": 48,
   "id": "07e226c7-cce8-4e8c-b2e1-546471a7b411",
   "metadata": {},
   "outputs": [],
   "source": [
    "# Test\n",
    "# shuffle the cards\n",
    "new_deck.shuffle()"
   ]
  },
  {
   "cell_type": "code",
   "execution_count": 49,
   "id": "fd795fcb-3d07-47dc-8ef3-39a116806141",
   "metadata": {},
   "outputs": [
    {
     "name": "stdout",
     "output_type": "stream",
     "text": [
      "Ten of Spades\n",
      "Ace of Hearts\n"
     ]
    }
   ],
   "source": [
    "# Test\n",
    "# Check first card and last cards\n",
    "first_card = new_deck.all_cards[0]\n",
    "print(first_card)\n",
    "last_card = new_deck.all_cards[-1]\n",
    "print(last_card)"
   ]
  },
  {
   "cell_type": "code",
   "execution_count": 47,
   "id": "b8df292a-8ec9-4a4e-a7c9-6e6de9a03c1a",
   "metadata": {},
   "outputs": [
    {
     "name": "stdout",
     "output_type": "stream",
     "text": [
      "Six of Hearts\n"
     ]
    }
   ],
   "source": [
    "# Test\n",
    "# pop the card from deck\n",
    "mycard = new_deck.deal_one()\n",
    "print(mycard)"
   ]
  },
  {
   "cell_type": "code",
   "execution_count": 12,
   "id": "0adfd538-7dbe-4ca4-a248-8b7857837418",
   "metadata": {},
   "outputs": [
    {
     "name": "stdout",
     "output_type": "stream",
     "text": [
      "Nine of Hearts\n",
      "Six of Spades\n",
      "Three of Diamonds\n",
      "Ten of Hearts\n",
      "Ace of Spades\n",
      "Seven of Diamonds\n",
      "Three of Spades\n",
      "Seven of Hearts\n",
      "Nine of Clubs\n",
      "Four of Clubs\n",
      "Ten of Clubs\n",
      "Ace of Clubs\n",
      "Jack of Diamonds\n",
      "Eight of Hearts\n",
      "Five of Hearts\n",
      "Five of Diamonds\n",
      "Ten of Spades\n",
      "Nine of Diamonds\n",
      "Two of Diamonds\n",
      "Seven of Spades\n",
      "Four of Diamonds\n",
      "Six of Hearts\n",
      "Jack of Hearts\n",
      "Three of Clubs\n",
      "Eight of Diamonds\n",
      "Jack of Clubs\n",
      "Queen of Spades\n",
      "Ace of Diamonds\n",
      "Six of Diamonds\n",
      "King of Diamonds\n",
      "Eight of Spades\n",
      "King of Clubs\n",
      "Two of Hearts\n",
      "Two of Spades\n",
      "Four of Hearts\n",
      "Nine of Spades\n",
      "Ten of Diamonds\n",
      "Queen of Clubs\n",
      "Eight of Clubs\n",
      "Five of Spades\n",
      "Jack of Spades\n",
      "King of Hearts\n",
      "Queen of Diamonds\n",
      "Two of Clubs\n",
      "Five of Clubs\n",
      "Seven of Clubs\n",
      "Six of Clubs\n",
      "Three of Hearts\n",
      "Queen of Hearts\n",
      "Four of Spades\n",
      "Ace of Hearts\n"
     ]
    },
    {
     "data": {
      "text/plain": [
       "51"
      ]
     },
     "execution_count": 12,
     "metadata": {},
     "output_type": "execute_result"
    }
   ],
   "source": [
    "for card_object in new_deck.all_cards:\n",
    "    print(card_object)\n",
    "\n",
    "# check sum of cards\n",
    "len(new_deck.all_cards)"
   ]
  },
  {
   "cell_type": "markdown",
   "id": "420d89cf-0cad-461d-9450-c1ab8f12eae7",
   "metadata": {},
   "source": [
    "# Player Class"
   ]
  },
  {
   "cell_type": "code",
   "execution_count": 13,
   "id": "027dc784-3ee9-42fd-960b-b97a45a25c53",
   "metadata": {},
   "outputs": [],
   "source": [
    "class Player:\n",
    "    def __init__(self,name):\n",
    "        self.name = name\n",
    "        self.all_cards = []\n",
    "    \n",
    "    def remove_one(self):\n",
    "        return self.all_cards.pop(0)\n",
    "    \n",
    "    def add_cards(self,new_cards):\n",
    "        if type(new_cards) == type([]):\n",
    "            # List of multiple cards objects\n",
    "            self.all_cards.extend(new_cards)\n",
    "        else:\n",
    "            # For a single card object\n",
    "            self.all_cards.append(new_cards)\n",
    "    \n",
    "    def __str__(self):\n",
    "        return 'Player {a} has {b} cards.'.format(a= self.name, b=len(self.all_cards))"
   ]
  },
  {
   "cell_type": "code",
   "execution_count": 14,
   "id": "5f8eb2c8-b2e9-484d-a534-e4d15ed6fa53",
   "metadata": {},
   "outputs": [],
   "source": [
    "# Initiation\n",
    "new_player = Player('Jose')"
   ]
  },
  {
   "cell_type": "code",
   "execution_count": 50,
   "id": "f9dbe08d-c585-4138-995b-8b2009f49317",
   "metadata": {},
   "outputs": [
    {
     "name": "stdout",
     "output_type": "stream",
     "text": [
      "Player Jose has 1 cards.\n"
     ]
    }
   ],
   "source": [
    "# Test\n",
    "# add card\n",
    "new_player.add_cards(mycard)\n",
    "print(new_player)"
   ]
  },
  {
   "cell_type": "code",
   "execution_count": 53,
   "id": "223191dd-2070-442e-a788-6721e8fecf34",
   "metadata": {},
   "outputs": [],
   "source": [
    "# Test\n",
    "# add multiple cards\n",
    "new_player.add_cards([mycard,mycard,mycard])"
   ]
  },
  {
   "cell_type": "code",
   "execution_count": 54,
   "id": "ed7e545e-4354-44b7-8a1c-1f1d25385573",
   "metadata": {},
   "outputs": [
    {
     "name": "stdout",
     "output_type": "stream",
     "text": [
      "Six of Hearts\n"
     ]
    }
   ],
   "source": [
    "# Test\n",
    "# print out the card\n",
    "print(new_player.all_cards[0])"
   ]
  },
  {
   "cell_type": "code",
   "execution_count": 56,
   "id": "de98283b-a0d5-465e-8631-176462c4fac3",
   "metadata": {},
   "outputs": [
    {
     "name": "stdout",
     "output_type": "stream",
     "text": [
      "Six of Hearts\n"
     ]
    }
   ],
   "source": [
    "# Test\n",
    "# remove 1 card\n",
    "print(new_player.remove_one())"
   ]
  },
  {
   "cell_type": "code",
   "execution_count": 57,
   "id": "b8cb736d-66ff-40ec-80ee-d8082c8aef76",
   "metadata": {},
   "outputs": [
    {
     "name": "stdout",
     "output_type": "stream",
     "text": [
      "Player Jose has 3 cards.\n"
     ]
    }
   ],
   "source": [
    "# Test\n",
    "# print out how many players card\n",
    "print(new_player)"
   ]
  },
  {
   "cell_type": "markdown",
   "id": "bd0e9592-9bcf-4706-9342-0ec06f039910",
   "metadata": {},
   "source": [
    "# GAME LOGIC Part 1"
   ]
  },
  {
   "cell_type": "code",
   "execution_count": 58,
   "id": "96fb617f-5aa3-4912-8513-cb45e6b9648c",
   "metadata": {},
   "outputs": [
    {
     "data": {
      "text/plain": [
       "'\\nThe logics are:\\n1. There are 2 player: Player One and Player Two\\n2. There is a New Deck Card, which is must be: shuffle first, then do random order to split between Player One, and Player Two\\n3. Both of Player One and Player two have 26 cards each.\\n4. Check each Player has 0 cards (len cards = 0), if it is not, means we should have boolean game_on = True\\n5. While game_on = True, each player remove 1 card (.pop(0)), then do comparison between cards. If card of Player 1 has bigger value\\nthan card of Player 2, then Player 1 could take both of Cards into his Deck Card (add into bottom .append() for single card, or\\nmultiple cards). If the comparison is equal, so there is new instance of war, that each player must draw additional cards\\n(in War state, each Player could draw 3 cards and do comparison). The player who won will take all the cards.\\n6. Before continue the game, we are going to check has a player lost (deck card is 0) in this case. If there is Player who is lost,\\nso game_on will be False, and the while loop will be stop (break).\\n7. In the end of game, announce who is the winner, Player One or Player Two.\\n'"
      ]
     },
     "execution_count": 58,
     "metadata": {},
     "output_type": "execute_result"
    }
   ],
   "source": [
    "'''\n",
    "The logics are:\n",
    "1. There are 2 player: Player One and Player Two\n",
    "2. There is a New Deck Card, which is must be: shuffle first, then do random order to split between Player One, and Player Two\n",
    "3. Both of Player One and Player two have 26 cards each.\n",
    "4. Check each Player has 0 cards (len cards = 0), if it is not, means we should have boolean game_on = True\n",
    "5. While game_on = True, each player remove 1 card (.pop(0)), then do comparison between cards. If card of Player 1 has bigger value\n",
    "than card of Player 2, then Player 1 could take both of Cards into his Deck Card (add into bottom .append() for single card, or\n",
    "multiple cards). If the comparison is equal, so there is new instance of war, that each player must draw additional cards\n",
    "(in War state, each Player could draw 3 cards and do comparison). The player who won will take all the cards.\n",
    "6. Before continue the game, we are going to check has a player lost (deck card is 0) in this case. If there is Player who is lost,\n",
    "so game_on will be False, and the while loop will be stop (break).\n",
    "7. In the end of game, announce who is the winner, Player One or Player Two.\n",
    "'''"
   ]
  },
  {
   "cell_type": "markdown",
   "id": "f0ecd0f1-b274-44b7-94de-b1d5e35c2d9b",
   "metadata": {},
   "source": [
    "# GAME LOGIC Part 2 & 3"
   ]
  },
  {
   "cell_type": "code",
   "execution_count": 69,
   "id": "78248d1e-97a2-4987-974c-4c145df1b61c",
   "metadata": {},
   "outputs": [
    {
     "data": {
      "text/plain": [
       "'\\nThe logics are:\\n1. while at_war = True, the condition is if card Player One > card Player Two, so add cards to Player One, and at_war = False, so break loop\\n2. while at_war = True, the condition is elif card Player One < card Player Two, so add cards to Player Two, and at_war = False, \\nso break loop\\n3. while at_war = True, the condition is else: check if players have enough cards, so draw additional cards so back to start of while at_war\\n\\n'"
      ]
     },
     "execution_count": 69,
     "metadata": {},
     "output_type": "execute_result"
    }
   ],
   "source": [
    "'''\n",
    "The logics are:\n",
    "1. while at_war = True, the condition is if card Player One > card Player Two, so add cards to Player One, and at_war = False, so break loop\n",
    "2. while at_war = True, the condition is elif card Player One < card Player Two, so add cards to Player Two, and at_war = False, \n",
    "so break loop\n",
    "3. while at_war = True, the condition is else: check if players have enough cards, so draw additional cards so back to start of while at_war\n",
    "\n",
    "'''"
   ]
  },
  {
   "cell_type": "code",
   "execution_count": 1,
   "id": "9183574b-9425-44d3-8151-459ceeee4b1a",
   "metadata": {},
   "outputs": [],
   "source": [
    "# 1\n",
    "# DEFINE CARD\n",
    "# SUIT, RANK, VALUE\n",
    "import random\n",
    "suits = ('Hearts','Diamonds','Spades','Clubs')  # tuple\n",
    "ranks = ('Two','Three','Four','Five','Six','Seven','Eight','Nine','Ten','Jack','Queen','King','Ace')\n",
    "values = {'Two':2, 'Three':3, 'Four':4, 'Five':5, 'Six':6, 'Seven':7, 'Eight':8, 'Nine':9, 'Ten':10,\n",
    "          'Jack':11, 'Queen':12, 'King':13, 'Ace':14}"
   ]
  },
  {
   "cell_type": "code",
   "execution_count": 2,
   "id": "647cd9ad-6008-44aa-895f-bde006d54689",
   "metadata": {},
   "outputs": [],
   "source": [
    "# 2\n",
    "# Class Card\n",
    "class Card:\n",
    "    def __init__(self,suit,rank):\n",
    "        self.suit = suit\n",
    "        self.rank = rank\n",
    "        self.value = values[rank] # put the dictionary with attributes rank\n",
    "    \n",
    "    def __str__(self):\n",
    "        return self.rank + ' of ' + self.suit"
   ]
  },
  {
   "cell_type": "code",
   "execution_count": 3,
   "id": "48e113bd-2e27-441b-a3cc-3f90bb9e36b6",
   "metadata": {},
   "outputs": [],
   "source": [
    "# 3\n",
    "# Class Deck\n",
    "class Deck:\n",
    "    def __init__(self):\n",
    "        self.all_cards = []\n",
    "        for suit in suits:\n",
    "            for rank in ranks:\n",
    "                # Create the Card Object\n",
    "                created_card = Card(suit,rank)\n",
    "                self.all_cards.append(created_card)\n",
    "    \n",
    "    def shuffle(self):\n",
    "        random.shuffle(self.all_cards)  # no return output when do shuffle, it shuffle itself\n",
    "        \n",
    "    def deal_one(self):\n",
    "        return self.all_cards.pop()    # take 1 card of the list from the bottom"
   ]
  },
  {
   "cell_type": "code",
   "execution_count": 4,
   "id": "6d6811a0-df7e-4e96-9102-7e53a7b278ec",
   "metadata": {},
   "outputs": [],
   "source": [
    "# 4\n",
    "# Class Player\n",
    "class Player:\n",
    "    def __init__(self,name):\n",
    "        self.name = name\n",
    "        self.all_cards = []\n",
    "    \n",
    "    def remove_one(self):\n",
    "        return self.all_cards.pop(0)\n",
    "    \n",
    "    def add_cards(self,new_cards):\n",
    "        if type(new_cards) == type([]):\n",
    "            # List of multiple cards objects\n",
    "            self.all_cards.extend(new_cards) # extend() function\n",
    "        else:\n",
    "            # For a single card object\n",
    "            self.all_cards.append(new_cards) # append() function\n",
    "    \n",
    "    def __str__(self):\n",
    "        return 'Player {a} has {b} cards.'.format(a= self.name, b=len(self.all_cards))"
   ]
  },
  {
   "cell_type": "code",
   "execution_count": 5,
   "id": "ee6a34d3-3164-4186-9d48-64c98a3a2b8d",
   "metadata": {},
   "outputs": [],
   "source": [
    "# =========  #\n",
    "# GAME SETUP #\n",
    "# =========  #\n",
    "player_one = Player('One')  # use class Player\n",
    "player_two = Player('Two')\n",
    "\n",
    "new_deck = Deck()           # use class Deck\n",
    "new_deck.shuffle()\n",
    "\n",
    "for x in range(26):\n",
    "    player_one.add_cards(new_deck.deal_one())\n",
    "    player_two.add_cards(new_deck.deal_one())"
   ]
  },
  {
   "cell_type": "code",
   "execution_count": 81,
   "id": "0f8c8884-d3c6-44b8-bea8-05a2aba9a501",
   "metadata": {},
   "outputs": [
    {
     "data": {
      "text/plain": [
       "26"
      ]
     },
     "execution_count": 81,
     "metadata": {},
     "output_type": "execute_result"
    },
    {
     "data": {
      "text/plain": [
       "26"
      ]
     },
     "execution_count": 81,
     "metadata": {},
     "output_type": "execute_result"
    }
   ],
   "source": [
    "len(player_one.all_cards)\n",
    "len(player_two.all_cards)"
   ]
  },
  {
   "cell_type": "code",
   "execution_count": 82,
   "id": "cfce9483-f4ab-40d6-a6d9-2a85ea9f3d6d",
   "metadata": {},
   "outputs": [
    {
     "name": "stdout",
     "output_type": "stream",
     "text": [
      "Round 1\n",
      "Round 2\n",
      "Round 3\n",
      "Round 4\n",
      "Round 5\n",
      "Round 6\n",
      "Round 7\n",
      "Round 8\n",
      "Round 9\n",
      "Round 10\n",
      "Round 11\n",
      "Round 12\n",
      "Round 13\n",
      "Round 14\n",
      "Round 15\n",
      "Round 16\n",
      "Round 17\n",
      "Round 18\n",
      "WAR!\n",
      "Round 19\n",
      "Round 20\n",
      "Round 21\n",
      "Round 22\n",
      "Round 23\n",
      "Round 24\n",
      "Round 25\n",
      "Round 26\n",
      "Round 27\n",
      "Round 28\n",
      "Round 29\n",
      "Round 30\n",
      "Round 31\n",
      "Round 32\n",
      "Round 33\n",
      "Round 34\n",
      "Round 35\n",
      "Round 36\n",
      "Round 37\n",
      "Round 38\n",
      "Round 39\n",
      "Round 40\n",
      "Round 41\n",
      "Round 42\n",
      "Round 43\n",
      "Round 44\n",
      "Round 45\n",
      "Round 46\n",
      "Round 47\n",
      "Round 48\n",
      "Round 49\n",
      "Round 50\n",
      "WAR!\n",
      "Round 51\n",
      "Round 52\n",
      "Round 53\n",
      "Round 54\n",
      "Round 55\n",
      "Round 56\n",
      "Round 57\n",
      "Round 58\n",
      "Round 59\n",
      "Round 60\n",
      "Round 61\n",
      "Round 62\n",
      "Round 63\n",
      "Round 64\n",
      "Round 65\n",
      "Round 66\n",
      "Round 67\n",
      "WAR!\n",
      "Round 68\n",
      "Round 69\n",
      "WAR!\n",
      "Round 70\n",
      "Round 71\n",
      "Round 72\n",
      "Round 73\n",
      "Round 74\n",
      "Round 75\n",
      "Round 76\n",
      "Round 77\n",
      "Round 78\n",
      "Round 79\n",
      "Round 80\n",
      "Round 81\n",
      "Round 82\n",
      "Round 83\n",
      "Round 84\n",
      "Round 85\n",
      "Round 86\n",
      "Round 87\n",
      "Round 88\n",
      "Round 89\n",
      "Round 90\n",
      "Round 91\n",
      "WAR!\n",
      "Round 92\n",
      "Round 93\n",
      "Round 94\n",
      "Round 95\n",
      "Round 96\n",
      "Round 97\n",
      "WAR!\n",
      "Round 98\n",
      "Round 99\n",
      "Round 100\n",
      "Round 101\n",
      "Round 102\n",
      "Round 103\n",
      "Round 104\n",
      "Round 105\n",
      "Round 106\n",
      "Round 107\n",
      "Round 108\n",
      "Round 109\n",
      "Round 110\n",
      "Round 111\n",
      "Round 112\n",
      "Round 113\n",
      "WAR!\n",
      "Round 114\n",
      "Round 115\n",
      "Round 116\n",
      "Round 117\n",
      "Round 118\n",
      "Round 119\n",
      "Round 120\n",
      "Round 121\n",
      "Round 122\n",
      "Round 123\n",
      "Round 124\n",
      "Round 125\n",
      "Round 126\n",
      "Round 127\n",
      "Round 128\n",
      "Round 129\n",
      "Round 130\n",
      "Round 131\n",
      "Round 132\n",
      "Round 133\n",
      "Round 134\n",
      "Round 135\n",
      "Round 136\n",
      "WAR!\n",
      "Round 137\n",
      "Round 138\n",
      "Round 139\n",
      "WAR!\n",
      "Round 140\n",
      "Player One, out of cards! Player Two wins!\n"
     ]
    }
   ],
   "source": [
    "# while game_on\n",
    "round_num = 0\n",
    "game_on = True\n",
    "\n",
    "while game_on:\n",
    "    round_num += 1\n",
    "    print('Round {a}'.format(a=round_num))\n",
    "    \n",
    "    if len(player_one.all_cards) == 0:\n",
    "        print('Player One, out of cards! Player Two wins!')\n",
    "        game_on = False\n",
    "        break\n",
    "    \n",
    "    if len(player_two.all_cards) == 0:\n",
    "        print('Player Two, out of cards! Player One wins!')\n",
    "        game_on = False\n",
    "        break\n",
    "        \n",
    "    # START A NEW ROUND\n",
    "    player_one_cards = []\n",
    "    player_one_cards.append(player_one.remove_one())\n",
    "    player_two_cards = []\n",
    "    player_two_cards.append(player_two.remove_one())\n",
    "    \n",
    "    # Part 3\n",
    "    # while at war\n",
    "    at_war = True\n",
    "    \n",
    "    while at_war:\n",
    "        if player_one_cards[-1].value > player_two_cards[-1].value:\n",
    "            player_one.add_cards(player_one_cards)\n",
    "            player_one.add_cards(player_two_cards)   # player one take the card of player two\n",
    "            \n",
    "            at_war = False\n",
    "        \n",
    "        elif player_one_cards[-1].value < player_two_cards[-1].value:\n",
    "            player_two.add_cards(player_two_cards)\n",
    "            player_two.add_cards(player_one_cards)   # player two take the card of player one\n",
    "            \n",
    "            at_war = False\n",
    "        \n",
    "        else:\n",
    "            print('WAR!')\n",
    "            if len(player_one.all_cards) < 5:\n",
    "                print('Player One unable to declare war.')\n",
    "                print('PLAYER TWO WINS')\n",
    "                game_on = False\n",
    "                break\n",
    "                \n",
    "            elif len(player_two.all_cards) < 5:\n",
    "                print('Player Two unable to declare war.')\n",
    "                print('PLAYER ONE WINS')\n",
    "                game_on = False\n",
    "                break\n",
    "                \n",
    "            else:\n",
    "                for num in range(5):\n",
    "                    player_one_cards.append(player_one.remove_one())\n",
    "                    player_two_cards.append(player_two.remove_one())"
   ]
  },
  {
   "cell_type": "code",
   "execution_count": null,
   "id": "94ff96d9-9ff8-4f9d-80e7-431f000b891e",
   "metadata": {},
   "outputs": [],
   "source": []
  }
 ],
 "metadata": {
  "kernelspec": {
   "display_name": "Python 3 (ipykernel)",
   "language": "python",
   "name": "python3"
  },
  "language_info": {
   "codemirror_mode": {
    "name": "ipython",
    "version": 3
   },
   "file_extension": ".py",
   "mimetype": "text/x-python",
   "name": "python",
   "nbconvert_exporter": "python",
   "pygments_lexer": "ipython3",
   "version": "3.9.12"
  }
 },
 "nbformat": 4,
 "nbformat_minor": 5
}
