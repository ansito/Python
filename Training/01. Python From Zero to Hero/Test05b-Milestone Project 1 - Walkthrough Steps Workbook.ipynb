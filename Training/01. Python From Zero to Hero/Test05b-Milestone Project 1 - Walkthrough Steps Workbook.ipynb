{
 "cells": [
  {
   "cell_type": "markdown",
   "metadata": {},
   "source": [
    "___\n",
    "\n",
    "<a href='https://www.udemy.com/user/joseportilla/'><img src='../Pierian_Data_Logo.png'/></a>\n",
    "___\n",
    "<center><em>Content Copyright by Pierian Data</em></center>"
   ]
  },
  {
   "cell_type": "markdown",
   "metadata": {},
   "source": [
    "# Milestone Project 1: Walkthrough Steps Workbook\n",
    "\n",
    "Below is a set of steps for you to follow to try to create the Tic Tac Toe Milestone Project game!"
   ]
  },
  {
   "cell_type": "markdown",
   "metadata": {},
   "source": [
    "#### Some suggested tools before you get started:\n",
    "To take input from a user:\n",
    "\n",
    "    player1 = input(\"Please pick a marker 'X' or 'O'\")\n",
    "    \n",
    "Note that input() takes in a string. If you need an integer value, use\n",
    "\n",
    "    position = int(input('Please enter a number'))\n",
    "    \n",
    "<br>To clear the screen between moves:\n",
    "\n",
    "    from IPython.display import clear_output\n",
    "    clear_output()\n",
    "    \n",
    "Note that clear_output() will only work in jupyter. To clear the screen in other IDEs, consider:\n",
    "\n",
    "    print('\\n'*100)\n",
    "    \n",
    "This scrolls the previous board up out of view. Now on to the program!"
   ]
  },
  {
   "cell_type": "markdown",
   "metadata": {},
   "source": [
    "**Step 1: Write a function that can print out a board. Set up your board as a list, where each index 1-9 corresponds with a number on a number pad, so you get a 3 by 3 board representation.**"
   ]
  },
  {
   "cell_type": "code",
   "execution_count": 1,
   "metadata": {
    "tags": []
   },
   "outputs": [],
   "source": [
    "# 1A\n",
    "from IPython.display import clear_output\n",
    "\n",
    "def display_board(board):\n",
    "    pos = [' ',' ',' ',' ',' ',' ',' ',' ',' ']\n",
    "    pos = board\n",
    "\n",
    "    print(                 '   '+ '|' + '   '                 + '|' + '   ')\n",
    "    print(' {} '.format(pos[6]) + '|' + ' {} '.format(pos[7]) + '|' + ' {} '.format(pos[8]))\n",
    "    print(                 '   '+ '|' + '   '                 + '|' + '   ')\n",
    "    print('-'*11)\n",
    "    print(                 '   '+ '|' + '   '                 + '|' + '   ')\n",
    "    print(' {} '.format(pos[3]) + '|' + ' {} '.format(pos[4]) + '|' + ' {} '.format(pos[5]))\n",
    "    print(                 '   '+ '|' + '   '                 + '|' + '   ')\n",
    "    print('-'*11)\n",
    "    print(                 '   '+ '|' + '   '                 + '|' + '   ')\n",
    "    print(' {} '.format(pos[0]) + '|' + ' {} '.format(pos[1]) + '|' + ' {} '.format(pos[2]))\n",
    "    print(                 '   '+ '|' + '   '                 + '|' + '   ')"
   ]
  },
  {
   "cell_type": "markdown",
   "metadata": {},
   "source": [
    "**TEST Step 1:** run your function on a test version of the board list, and make adjustments as necessary"
   ]
  },
  {
   "cell_type": "code",
   "execution_count": 4,
   "metadata": {
    "tags": []
   },
   "outputs": [
    {
     "name": "stdout",
     "output_type": "stream",
     "text": [
      "   |   |   \n",
      " O | X | O \n",
      "   |   |   \n",
      "-----------\n",
      "   |   |   \n",
      " X | O | X \n",
      "   |   |   \n",
      "-----------\n",
      "   |   |   \n",
      " # | X | O \n",
      "   |   |   \n"
     ]
    }
   ],
   "source": [
    "test_board = ['#','X','O','X','O','X','O','X','O','X']\n",
    "display_board(test_board)"
   ]
  },
  {
   "cell_type": "code",
   "execution_count": 2,
   "metadata": {},
   "outputs": [],
   "source": [
    "# 1B\n",
    "from IPython.display import clear_output\n",
    "\n",
    "def display_board_preview():\n",
    "    pos = [1,2,3,4,5,6,7,8,9]\n",
    "\n",
    "    print(                 '   '+ '|' + '   '                 + '|' + '   ')\n",
    "    print(' {} '.format(pos[6]) + '|' + ' {} '.format(pos[7]) + '|' + ' {} '.format(pos[8]))\n",
    "    print(                 '   '+ '|' + '   '                 + '|' + '   ')\n",
    "    print('-'*11)\n",
    "    print(                 '   '+ '|' + '   '                 + '|' + '   ')\n",
    "    print(' {} '.format(pos[3]) + '|' + ' {} '.format(pos[4]) + '|' + ' {} '.format(pos[5]))\n",
    "    print(                 '   '+ '|' + '   '                 + '|' + '   ')\n",
    "    print('-'*11)\n",
    "    print(                 '   '+ '|' + '   '                 + '|' + '   ')\n",
    "    print(' {} '.format(pos[0]) + '|' + ' {} '.format(pos[1]) + '|' + ' {} '.format(pos[2]))\n",
    "    print(                 '   '+ '|' + '   '                 + '|' + '   ')\n",
    "    "
   ]
  },
  {
   "cell_type": "code",
   "execution_count": 47,
   "metadata": {},
   "outputs": [
    {
     "name": "stdout",
     "output_type": "stream",
     "text": [
      "   |   |   \n",
      " 7 | 8 | 9 \n",
      "   |   |   \n",
      "-----------\n",
      "   |   |   \n",
      " 4 | 5 | 6 \n",
      "   |   |   \n",
      "-----------\n",
      "   |   |   \n",
      " 1 | 2 | 3 \n",
      "   |   |   \n"
     ]
    }
   ],
   "source": [
    "display_board_preview()"
   ]
  },
  {
   "cell_type": "markdown",
   "metadata": {},
   "source": [
    "**Step 2: Write a function that can take in a player input and assign their marker as 'X' or 'O'. Think about using *while* loops to continually ask until you get a correct answer.**"
   ]
  },
  {
   "cell_type": "code",
   "execution_count": 3,
   "metadata": {
    "tags": []
   },
   "outputs": [],
   "source": [
    "# 2\n",
    "def player_input(num_player):\n",
    "    \n",
    "    choice = 'Wrong'\n",
    "    ready_or_not = 'Wrong'\n",
    "    num_player = int(num_player)\n",
    "    \n",
    "    while choice not in ('X','O'):\n",
    "        choice = input('Player {} : Do you want to be X or O? :'.format(num_player))\n",
    "        if choice not in ('X','O'):\n",
    "            print('Wrong Input! Please input X or O.')\n",
    "        else:\n",
    "            pass\n",
    "    \n",
    "    return choice"
   ]
  },
  {
   "cell_type": "markdown",
   "metadata": {},
   "source": [
    "**TEST Step 2:** run the function to make sure it returns the desired output"
   ]
  },
  {
   "cell_type": "code",
   "execution_count": 28,
   "metadata": {
    "tags": []
   },
   "outputs": [
    {
     "name": "stdin",
     "output_type": "stream",
     "text": [
      "Player 2 : Do you want to be X or O? : J\n"
     ]
    },
    {
     "name": "stdout",
     "output_type": "stream",
     "text": [
      "Wrong Input! Please input X or O.\n"
     ]
    },
    {
     "name": "stdin",
     "output_type": "stream",
     "text": [
      "Player 2 : Do you want to be X or O? : O\n"
     ]
    },
    {
     "data": {
      "text/plain": [
       "'O'"
      ]
     },
     "execution_count": 28,
     "metadata": {},
     "output_type": "execute_result"
    }
   ],
   "source": [
    "player_input(2)"
   ]
  },
  {
   "cell_type": "markdown",
   "metadata": {},
   "source": [
    "**Step 3: Write a function that takes in the board list object, a marker ('X' or 'O'), and a desired position (number 1-9) and assigns it to the board.**"
   ]
  },
  {
   "cell_type": "code",
   "execution_count": 4,
   "metadata": {
    "tags": []
   },
   "outputs": [],
   "source": [
    "# 3\n",
    "def place_marker(board, marker, position):\n",
    "    \n",
    "    board[position-1] = marker\n",
    "    return board"
   ]
  },
  {
   "cell_type": "markdown",
   "metadata": {},
   "source": [
    "**TEST Step 3:** run the place marker function using test parameters and display the modified board"
   ]
  },
  {
   "cell_type": "code",
   "execution_count": 6,
   "metadata": {
    "tags": []
   },
   "outputs": [
    {
     "data": {
      "text/plain": [
       "['#', 'X', 'O', 'X', 'O', 'X', 'O', '$', 'O', 'X']"
      ]
     },
     "execution_count": 6,
     "metadata": {},
     "output_type": "execute_result"
    },
    {
     "name": "stdout",
     "output_type": "stream",
     "text": [
      "   |   |   \n",
      " O | $ | O \n",
      "   |   |   \n",
      "-----------\n",
      "   |   |   \n",
      " X | O | X \n",
      "   |   |   \n",
      "-----------\n",
      "   |   |   \n",
      " # | X | O \n",
      "   |   |   \n"
     ]
    }
   ],
   "source": [
    "clear_output()\n",
    "place_marker(test_board,'$',8)\n",
    "display_board(test_board)"
   ]
  },
  {
   "cell_type": "markdown",
   "metadata": {},
   "source": [
    "**Step 4: Write a function that takes in a board and a mark (X or O) and then checks to see if that mark has won. **"
   ]
  },
  {
   "cell_type": "code",
   "execution_count": 16,
   "metadata": {
    "tags": []
   },
   "outputs": [],
   "source": [
    "# 4\n",
    "def win_check(board, mark):\n",
    "    \n",
    "    check_board = [' ',' ',' ',' ',' ',' ',' ',' ',' ']\n",
    "    check_board = board\n",
    "    \n",
    "    if check_board[6] == mark and check_board[7] == mark and check_board[8] == mark:\n",
    "        return True\n",
    "    elif check_board[6] == mark and check_board[4] == mark and check_board[2] == mark:\n",
    "        return True\n",
    "    elif check_board[6] == mark and check_board[3] == mark and check_board[0] == mark:\n",
    "        return True\n",
    "    elif check_board[3] == mark and check_board[4] == mark and check_board[5] == mark:\n",
    "        return True\n",
    "    elif check_board[0] == mark and check_board[3] == mark and check_board[6] == mark:\n",
    "        return True\n",
    "    elif check_board[0] == mark and check_board[4] == mark and check_board[8] == mark:\n",
    "        return True\n",
    "    elif check_board[0] == mark and check_board[1] == mark and check_board[2] == mark:\n",
    "        return True\n",
    "    elif check_board[2] == mark and check_board[5] == mark and check_board[8] == mark:\n",
    "        return True\n",
    "    elif check_board[1] == mark and check_board[4] == mark and check_board[7] == mark:\n",
    "        return True\n",
    "    else:\n",
    "        return False"
   ]
  },
  {
   "cell_type": "markdown",
   "metadata": {},
   "source": [
    "**TEST Step 4:** run the win_check function against our test_board - it should return True"
   ]
  },
  {
   "cell_type": "code",
   "execution_count": 8,
   "metadata": {
    "tags": []
   },
   "outputs": [
    {
     "name": "stdout",
     "output_type": "stream",
     "text": [
      "   |   |   \n",
      "   |   | X \n",
      "   |   |   \n",
      "-----------\n",
      "   |   |   \n",
      "   | X |   \n",
      "   |   |   \n",
      "-----------\n",
      "   |   |   \n",
      " X |   |   \n",
      "   |   |   \n",
      "Congratulations! You have won the game!\n"
     ]
    }
   ],
   "source": [
    "test_board = ['X',' ',' ',' ','X',' ',' ',' ','X']\n",
    "display_board(test_board)\n",
    "win_check(test_board,'X')"
   ]
  },
  {
   "cell_type": "markdown",
   "metadata": {},
   "source": [
    "**Step 5: Write a function that uses the random module to randomly decide which player goes first. You may want to lookup random.randint() Return a string of which player went first.**"
   ]
  },
  {
   "cell_type": "code",
   "execution_count": 6,
   "metadata": {
    "tags": []
   },
   "outputs": [],
   "source": [
    "# 5\n",
    "import random\n",
    "\n",
    "def choose_first():\n",
    "    \n",
    "    player = ''\n",
    "    choosen = random.randint(1,2)\n",
    "    if choosen == 1:\n",
    "        player = 'Player 1'\n",
    "        print('{} will go first.'.format(player))\n",
    "    else:\n",
    "        player = 'Player 2'\n",
    "        print('{} will go first.'.format(player))\n",
    "    \n",
    "    return choosen"
   ]
  },
  {
   "cell_type": "code",
   "execution_count": 24,
   "metadata": {},
   "outputs": [
    {
     "name": "stdout",
     "output_type": "stream",
     "text": [
      "Player 1 will go first.\n"
     ]
    },
    {
     "data": {
      "text/plain": [
       "1"
      ]
     },
     "execution_count": 24,
     "metadata": {},
     "output_type": "execute_result"
    }
   ],
   "source": [
    "player_number = choose_first()\n",
    "player_number"
   ]
  },
  {
   "cell_type": "markdown",
   "metadata": {},
   "source": [
    "**Step 6: Write a function that returns a boolean indicating whether a space on the board is freely available.**"
   ]
  },
  {
   "cell_type": "code",
   "execution_count": 7,
   "metadata": {
    "tags": []
   },
   "outputs": [],
   "source": [
    "# 6\n",
    "def space_check(board, position):\n",
    "    \n",
    "    position = int(position)\n",
    "    if board[position-1] == ' ':\n",
    "        return True # space on the board is available\n",
    "    else:\n",
    "        return False # space on the board is not available"
   ]
  },
  {
   "cell_type": "code",
   "execution_count": 116,
   "metadata": {},
   "outputs": [
    {
     "data": {
      "text/plain": [
       "True"
      ]
     },
     "execution_count": 116,
     "metadata": {},
     "output_type": "execute_result"
    },
    {
     "data": {
      "text/plain": [
       "True"
      ]
     },
     "execution_count": 116,
     "metadata": {},
     "output_type": "execute_result"
    }
   ],
   "source": [
    "test_board = ['X',' ',' ',' ','X',' ',' ',' ','X']\n",
    "space_check(test_board,4)\n",
    "space_check(test_board,3)"
   ]
  },
  {
   "cell_type": "markdown",
   "metadata": {},
   "source": [
    "**Step 7: Write a function that checks if the board is full and returns a boolean value. True if full, False otherwise.**"
   ]
  },
  {
   "cell_type": "code",
   "execution_count": 15,
   "metadata": {
    "tags": []
   },
   "outputs": [],
   "source": [
    "# 7\n",
    "def full_board_check(board):\n",
    "    \n",
    "    check = False\n",
    "    for item in board:\n",
    "        if item == ' ':\n",
    "            check = False # Not Full\n",
    "            break\n",
    "        else:\n",
    "            check = True # Full\n",
    "            pass\n",
    "    return check"
   ]
  },
  {
   "cell_type": "code",
   "execution_count": 73,
   "metadata": {},
   "outputs": [
    {
     "data": {
      "text/plain": [
       "False"
      ]
     },
     "execution_count": 73,
     "metadata": {},
     "output_type": "execute_result"
    },
    {
     "data": {
      "text/plain": [
       "True"
      ]
     },
     "execution_count": 73,
     "metadata": {},
     "output_type": "execute_result"
    }
   ],
   "source": [
    "test_board = ['X',' ',' ',' ','X',' ',' ',' ','X']\n",
    "test_board2 = ['X','X','O','O','X','X','O','X','X']\n",
    "full_board_check(test_board)\n",
    "full_board_check(test_board2)"
   ]
  },
  {
   "cell_type": "markdown",
   "metadata": {},
   "source": [
    "**Step 8: Write a function that asks for a player's next position (as a number 1-9) and then uses the function from step 6 to check if it's a free position. If it is, then return the position for later use.**"
   ]
  },
  {
   "cell_type": "code",
   "execution_count": 14,
   "metadata": {},
   "outputs": [],
   "source": [
    "# 8\n",
    "def player_choice(board,num_player):\n",
    "    \n",
    "    choice = 'WRONG'\n",
    "    input_range = range(1,10)\n",
    "    \n",
    "    # while with condition with parameter isdigit, not in input_range, or space availability\n",
    "    while choice.isdigit() == False or choice not in input_range or space_check(board,choice) == False:\n",
    "        choice = input('Player {}, Choose your next position (1-9): '.format(num_player))\n",
    "        if choice.isdigit() == False or int(choice) not in input_range or space_check(board,choice) == False:\n",
    "            print('Wrong Input. Please input the correct number (1-9)')\n",
    "        else:\n",
    "            choice = int(choice)   # convert str choice to be int, IMPORTANT!!\n",
    "            return choice"
   ]
  },
  {
   "cell_type": "code",
   "execution_count": 168,
   "metadata": {},
   "outputs": [
    {
     "name": "stdin",
     "output_type": "stream",
     "text": [
      "Player 1, Choose your next position (1-9):  9\n"
     ]
    },
    {
     "name": "stdout",
     "output_type": "stream",
     "text": [
      "Wrong Input. Please input the correct number (1-9)\n"
     ]
    },
    {
     "name": "stdin",
     "output_type": "stream",
     "text": [
      "Player 1, Choose your next position (1-9):  8\n"
     ]
    },
    {
     "data": {
      "text/plain": [
       "8"
      ]
     },
     "execution_count": 168,
     "metadata": {},
     "output_type": "execute_result"
    }
   ],
   "source": [
    "test_board = ['X','X',' ',' ','X',' ',' ',' ','X']\n",
    "player_choice(test_board,1)"
   ]
  },
  {
   "cell_type": "markdown",
   "metadata": {},
   "source": [
    "**Step 9: Write a function that asks the player if they want to play again and returns a boolean True if they do want to play again.**"
   ]
  },
  {
   "cell_type": "code",
   "execution_count": 10,
   "metadata": {
    "tags": []
   },
   "outputs": [],
   "source": [
    "# 9\n",
    "def replay():\n",
    "    \n",
    "    choice = 'WRONG'\n",
    "    \n",
    "    while choice not in ('Yes','No'):\n",
    "        choice = input('Do you want to play again? Yes or No: ')\n",
    "        if choice == 'Yes':\n",
    "            return True\n",
    "        elif choice == 'No':\n",
    "            return False\n",
    "        else:\n",
    "            print(\"Wrong Input. Please type 'Yes' or 'No'. \")"
   ]
  },
  {
   "cell_type": "code",
   "execution_count": 10,
   "metadata": {},
   "outputs": [
    {
     "name": "stdin",
     "output_type": "stream",
     "text": [
      "Do you want to play again? Yes or No:  Noo\n"
     ]
    },
    {
     "name": "stdout",
     "output_type": "stream",
     "text": [
      "Wrong Input. Please type 'Yes' or 'No'. \n"
     ]
    },
    {
     "name": "stdin",
     "output_type": "stream",
     "text": [
      "Do you want to play again? Yes or No:  No\n"
     ]
    },
    {
     "data": {
      "text/plain": [
       "False"
      ]
     },
     "execution_count": 10,
     "metadata": {},
     "output_type": "execute_result"
    }
   ],
   "source": [
    "replay()"
   ]
  },
  {
   "cell_type": "code",
   "execution_count": 11,
   "metadata": {},
   "outputs": [],
   "source": [
    "# 10\n",
    "def print_credit(letter):\n",
    "    patterns = {1:'  *   *****',2:' * *  *',3:'***** *****',4:'*   *     *',5:'*   * *****'}\n",
    "    alphabet = {'AS':[1,2,3,4,5]}\n",
    "    for item in alphabet[letter.upper()]:\n",
    "        print(patterns[item])"
   ]
  },
  {
   "cell_type": "code",
   "execution_count": 37,
   "metadata": {},
   "outputs": [
    {
     "name": "stdout",
     "output_type": "stream",
     "text": [
      "  *   *****\n",
      " * *  *\n",
      "***** *****\n",
      "*   *     *\n",
      "*   * *****\n"
     ]
    }
   ],
   "source": [
    "print_credit('AS')"
   ]
  },
  {
   "cell_type": "markdown",
   "metadata": {},
   "source": [
    "**Step 10: Here comes the hard part! Use while loops and the functions you've made to run the game!**"
   ]
  },
  {
   "cell_type": "code",
   "execution_count": 25,
   "metadata": {},
   "outputs": [],
   "source": [
    "# 10\n",
    "# code by AS\n",
    "\n",
    "from IPython.display import clear_output\n",
    "\n",
    "def tic_tac_toe():\n",
    "    myboard = [' ',' ',' ',' ',' ',' ',' ',' ',' ']\n",
    "    player_one = False\n",
    "    player_two = False\n",
    "        \n",
    "    print('Welcome to Tic Tac Toe!')\n",
    "    display_board_preview()\n",
    "    \n",
    "    choosen = choose_first()\n",
    "    # function choose player 1 or 2 to start the game\n",
    "    if choosen == 1:\n",
    "        player_one = True\n",
    "        num_player = 1\n",
    "        mark_player_one = player_input(num_player)\n",
    "        if mark_player_one == 'X':\n",
    "            mark_player_two = 'O'\n",
    "        else:\n",
    "            mark_player_two = 'X'\n",
    "        \n",
    "    else:\n",
    "        player_two = True\n",
    "        num_player = 2\n",
    "        mark_player_two = player_input(num_player)\n",
    "        if mark_player_two == 'X':\n",
    "            mark_player_one = 'O'\n",
    "        else:\n",
    "            mark_player_one = 'X'\n",
    "    \n",
    "    # looping start the game\n",
    "    while full_board_check(myboard) == False or win_check(myboard,mark_player_one) == False or win_check(myboard, mark_player_two) == False: # OK\n",
    "        if full_board_check(myboard) == True and win_check(myboard,mark_player_one) == False and win_check(myboard,mark_player_two) == False:\n",
    "            print('GAME OVER !')\n",
    "            break\n",
    "        elif player_one == True and win_check(myboard,mark_player_two) == False:\n",
    "            num_player = 1\n",
    "            choice = player_choice(myboard, num_player)\n",
    "            place_marker(myboard,mark_player_one,choice)\n",
    "            player_one = False\n",
    "            player_two = True\n",
    "        elif player_two == True and win_check(myboard,mark_player_one) == False:\n",
    "            num_player = 2\n",
    "            choice = player_choice(myboard, num_player)\n",
    "            place_marker(myboard,mark_player_two,choice)\n",
    "            player_one = True\n",
    "            player_two = False\n",
    "        elif win_check(myboard,mark_player_one) == True or win_check(myboard,mark_player_two) == True:\n",
    "            # Announce the winner\n",
    "            print('Congratulations. Player {} is the WINNER!'.format(num_player))\n",
    "            break\n",
    "\n",
    "        clear_output()     # Function for clear the output, make the board still in the same board. It should be before display_board(myboard)\n",
    "        display_board(myboard)\n",
    "        \n",
    "    \n",
    "    # If want to replay the game\n",
    "    wanna_replay = replay()\n",
    "    if wanna_replay == True:\n",
    "        clear_output()\n",
    "        tic_tac_toe()\n",
    "    else:\n",
    "        clear_output()\n",
    "        print('Thank you for playing the game. Good bye!')\n",
    "        print('Credit to:')\n",
    "        print_credit('AS')"
   ]
  },
  {
   "cell_type": "code",
   "execution_count": 26,
   "metadata": {},
   "outputs": [
    {
     "name": "stdout",
     "output_type": "stream",
     "text": [
      "Thank you for playing the game. Good bye!\n",
      "Credit to:\n",
      "  *   *****\n",
      " * *  *\n",
      "***** *****\n",
      "*   *     *\n",
      "*   * *****\n"
     ]
    }
   ],
   "source": [
    "tic_tac_toe()"
   ]
  },
  {
   "cell_type": "code",
   "execution_count": 1,
   "metadata": {},
   "outputs": [],
   "source": [
    "# Merge\n",
    "\n",
    "# 1A\n",
    "def display_board(board):\n",
    "    pos = [' ',' ',' ',' ',' ',' ',' ',' ',' ']\n",
    "    pos = board\n",
    "\n",
    "    print(                 '   '+ '|' + '   '                 + '|' + '   ')\n",
    "    print(' {} '.format(pos[6]) + '|' + ' {} '.format(pos[7]) + '|' + ' {} '.format(pos[8]))\n",
    "    print(                 '   '+ '|' + '   '                 + '|' + '   ')\n",
    "    print('-'*11)\n",
    "    print(                 '   '+ '|' + '   '                 + '|' + '   ')\n",
    "    print(' {} '.format(pos[3]) + '|' + ' {} '.format(pos[4]) + '|' + ' {} '.format(pos[5]))\n",
    "    print(                 '   '+ '|' + '   '                 + '|' + '   ')\n",
    "    print('-'*11)\n",
    "    print(                 '   '+ '|' + '   '                 + '|' + '   ')\n",
    "    print(' {} '.format(pos[0]) + '|' + ' {} '.format(pos[1]) + '|' + ' {} '.format(pos[2]))\n",
    "    print(                 '   '+ '|' + '   '                 + '|' + '   ')\n",
    "\n",
    "# 1B\n",
    "def display_board_preview():\n",
    "    pos = [1,2,3,4,5,6,7,8,9]\n",
    "\n",
    "    print(                 '   '+ '|' + '   '                 + '|' + '   ')\n",
    "    print(' {} '.format(pos[6]) + '|' + ' {} '.format(pos[7]) + '|' + ' {} '.format(pos[8]))\n",
    "    print(                 '   '+ '|' + '   '                 + '|' + '   ')\n",
    "    print('-'*11)\n",
    "    print(                 '   '+ '|' + '   '                 + '|' + '   ')\n",
    "    print(' {} '.format(pos[3]) + '|' + ' {} '.format(pos[4]) + '|' + ' {} '.format(pos[5]))\n",
    "    print(                 '   '+ '|' + '   '                 + '|' + '   ')\n",
    "    print('-'*11)\n",
    "    print(                 '   '+ '|' + '   '                 + '|' + '   ')\n",
    "    print(' {} '.format(pos[0]) + '|' + ' {} '.format(pos[1]) + '|' + ' {} '.format(pos[2]))\n",
    "    print(                 '   '+ '|' + '   '                 + '|' + '   ')\n",
    "\n",
    "# 2\n",
    "def player_input(num_player):\n",
    "    \n",
    "    choice = 'Wrong'\n",
    "    ready_or_not = 'Wrong'\n",
    "    num_player = int(num_player)\n",
    "    \n",
    "    while choice not in ('X','O'):\n",
    "        choice = input('Player {} : Do you want to be X or O? :'.format(num_player))\n",
    "        if choice not in ('X','O'):\n",
    "            print('Wrong Input! Please input X or O.')\n",
    "        else:\n",
    "            pass\n",
    "    \n",
    "    return choice\n",
    "\n",
    "# 3\n",
    "def place_marker(board, marker, position):\n",
    "    \n",
    "    board[position-1] = marker\n",
    "    return board\n",
    "\n",
    "# 4\n",
    "def win_check(board, mark):\n",
    "    \n",
    "    check_board = [' ',' ',' ',' ',' ',' ',' ',' ',' ']\n",
    "    check_board = board\n",
    "    \n",
    "    if check_board[6] == mark and check_board[7] == mark and check_board[8] == mark:\n",
    "        return True\n",
    "    elif check_board[6] == mark and check_board[4] == mark and check_board[2] == mark:\n",
    "        return True\n",
    "    elif check_board[6] == mark and check_board[3] == mark and check_board[0] == mark:\n",
    "        return True\n",
    "    elif check_board[3] == mark and check_board[4] == mark and check_board[5] == mark:\n",
    "        return True\n",
    "    elif check_board[0] == mark and check_board[3] == mark and check_board[6] == mark:\n",
    "        return True\n",
    "    elif check_board[0] == mark and check_board[4] == mark and check_board[8] == mark:\n",
    "        return True\n",
    "    elif check_board[0] == mark and check_board[1] == mark and check_board[2] == mark:\n",
    "        return True\n",
    "    elif check_board[2] == mark and check_board[5] == mark and check_board[8] == mark:\n",
    "        return True\n",
    "    elif check_board[1] == mark and check_board[4] == mark and check_board[7] == mark:\n",
    "        return True\n",
    "    else:\n",
    "        return False\n",
    "\n",
    "# 5\n",
    "import random\n",
    "\n",
    "def choose_first():\n",
    "    \n",
    "    player = ''\n",
    "    choosen = random.randint(1,2)\n",
    "    if choosen == 1:\n",
    "        player = 'Player 1'\n",
    "        print('{} will go first.'.format(player))\n",
    "    else:\n",
    "        player = 'Player 2'\n",
    "        print('{} will go first.'.format(player))\n",
    "    \n",
    "    return choosen\n",
    "\n",
    "# 6\n",
    "def space_check(board, position):\n",
    "    \n",
    "    position = int(position)\n",
    "    if board[position-1] == ' ':\n",
    "        return True # space on the board is available\n",
    "    else:\n",
    "        return False # space on the board is not available\n",
    "\n",
    "# 7\n",
    "def full_board_check(board):\n",
    "    \n",
    "    check = False\n",
    "    for item in board:\n",
    "        if item == ' ':\n",
    "            check = False # Not Full\n",
    "            break\n",
    "        else:\n",
    "            check = True # Full\n",
    "            pass\n",
    "    return check\n",
    "\n",
    "# 8\n",
    "def player_choice(board,num_player):\n",
    "    \n",
    "    choice = 'WRONG'\n",
    "    input_range = range(1,10)\n",
    "    \n",
    "    # while with condition with parameter isdigit, not in input_range, or space availability\n",
    "    while choice.isdigit() == False or choice not in input_range or space_check(board,choice) == False:\n",
    "        choice = input('Player {}, Choose your next position (1-9): '.format(num_player))\n",
    "        if choice.isdigit() == False or int(choice) not in input_range or space_check(board,choice) == False:\n",
    "            print('Wrong Input. Please input the correct number (1-9)')\n",
    "        else:\n",
    "            choice = int(choice)   # convert str choice to be int, IMPORTANT!!\n",
    "            return choice\n",
    "\n",
    "# 9\n",
    "def replay():\n",
    "    \n",
    "    choice = 'WRONG'\n",
    "    \n",
    "    while choice not in ('Yes','No'):\n",
    "        choice = input('Do you want to play again? Yes or No: ')\n",
    "        if choice == 'Yes':\n",
    "            return True\n",
    "        elif choice == 'No':\n",
    "            return False\n",
    "        else:\n",
    "            print(\"Wrong Input. Please type 'Yes' or 'No'. \")\n",
    "\n",
    "# 10\n",
    "def print_credit(letter):\n",
    "    patterns = {1:'  *   *****',2:' * *  *',3:'***** *****',4:'*   *     *',5:'*   * *****'}\n",
    "    alphabet = {'AS':[1,2,3,4,5]}\n",
    "    for item in alphabet[letter.upper()]:\n",
    "        print(patterns[item])\n",
    "\n",
    "# MAIN PROGRAM #\n",
    "# code by AS\n",
    "\n",
    "from IPython.display import clear_output\n",
    "\n",
    "def tic_tac_toe():\n",
    "    myboard = [' ',' ',' ',' ',' ',' ',' ',' ',' ']\n",
    "    player_one = False\n",
    "    player_two = False\n",
    "        \n",
    "    print('Welcome to Tic Tac Toe!')\n",
    "    display_board_preview()\n",
    "    \n",
    "    choosen = choose_first()\n",
    "    # function choose player 1 or 2 to start the game\n",
    "    if choosen == 1:\n",
    "        player_one = True\n",
    "        num_player = 1\n",
    "        mark_player_one = player_input(num_player)\n",
    "        if mark_player_one == 'X':\n",
    "            mark_player_two = 'O'\n",
    "        else:\n",
    "            mark_player_two = 'X'\n",
    "        \n",
    "    else:\n",
    "        player_two = True\n",
    "        num_player = 2\n",
    "        mark_player_two = player_input(num_player)\n",
    "        if mark_player_two == 'X':\n",
    "            mark_player_one = 'O'\n",
    "        else:\n",
    "            mark_player_one = 'X'\n",
    "    \n",
    "    # looping start the game\n",
    "    while full_board_check(myboard) == False or win_check(myboard,mark_player_one) == False or win_check(myboard, mark_player_two) == False: # OK\n",
    "        if full_board_check(myboard) == True and win_check(myboard,mark_player_one) == False and win_check(myboard,mark_player_two) == False:\n",
    "            print('GAME OVER !')\n",
    "            break\n",
    "        elif player_one == True and win_check(myboard,mark_player_two) == False:\n",
    "            num_player = 1\n",
    "            choice = player_choice(myboard, num_player)\n",
    "            place_marker(myboard,mark_player_one,choice)\n",
    "            player_one = False\n",
    "            player_two = True\n",
    "        elif player_two == True and win_check(myboard,mark_player_one) == False:\n",
    "            num_player = 2\n",
    "            choice = player_choice(myboard, num_player)\n",
    "            place_marker(myboard,mark_player_two,choice)\n",
    "            player_one = True\n",
    "            player_two = False\n",
    "        elif win_check(myboard,mark_player_one) == True or win_check(myboard,mark_player_two) == True:\n",
    "            # Announce the winner\n",
    "            print('Congratulations. Player {} is the WINNER!'.format(num_player))\n",
    "            break\n",
    "\n",
    "        clear_output()     # Function for clear the output, make the board still in the same board. It should be before display_board(myboard)\n",
    "        display_board(myboard)\n",
    "        \n",
    "    \n",
    "    # If want to replay the game\n",
    "    wanna_replay = replay()\n",
    "    if wanna_replay == True:\n",
    "        clear_output()\n",
    "        tic_tac_toe()\n",
    "    else:\n",
    "        clear_output()\n",
    "        print('Thank you for playing the game. Good bye!')\n",
    "        print('Credit to:')\n",
    "        print_credit('AS')\n",
    "\n",
    "# END OF MAIN PROGRAM #"
   ]
  },
  {
   "cell_type": "code",
   "execution_count": 2,
   "metadata": {},
   "outputs": [
    {
     "name": "stdout",
     "output_type": "stream",
     "text": [
      "Thank you for playing the game. Good bye!\n",
      "Credit to:\n",
      "  *   *****\n",
      " * *  *\n",
      "***** *****\n",
      "*   *     *\n",
      "*   * *****\n"
     ]
    }
   ],
   "source": [
    "tic_tac_toe()"
   ]
  },
  {
   "cell_type": "code",
   "execution_count": 29,
   "metadata": {},
   "outputs": [
    {
     "name": "stdout",
     "output_type": "stream",
     "text": [
      "C:\\Users\\ASUS\\anaconda3\n"
     ]
    }
   ],
   "source": [
    "import sys\n",
    "locate_python = sys.exec_prefix\n",
    "print(locate_python)"
   ]
  },
  {
   "cell_type": "markdown",
   "metadata": {},
   "source": [
    "## Good Job!"
   ]
  }
 ],
 "metadata": {
  "kernelspec": {
   "display_name": "Python 3 (ipykernel)",
   "language": "python",
   "name": "python3"
  },
  "language_info": {
   "codemirror_mode": {
    "name": "ipython",
    "version": 3
   },
   "file_extension": ".py",
   "mimetype": "text/x-python",
   "name": "python",
   "nbconvert_exporter": "python",
   "pygments_lexer": "ipython3",
   "version": "3.9.12"
  }
 },
 "nbformat": 4,
 "nbformat_minor": 4
}
