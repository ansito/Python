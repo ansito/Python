{
 "cells": [
  {
   "cell_type": "markdown",
   "id": "5aa53e78-a1bb-445f-9cb8-24e59c96070f",
   "metadata": {},
   "source": [
    "# Object Orientend Programming\n",
    "## OOP allows programmer to create their own objects that have methods and attributes\n",
    "## Keyword: .method_name()\n",
    "### class NameOfClass():\n",
    "### def __init__(self,param1,param2):\n",
    "### self.param1 = param1\n",
    "### self.param2 = param2\n",
    "###\n",
    "### def some_method(self):\n",
    "### # perform some action\n",
    "### print(self.param1)"
   ]
  },
  {
   "cell_type": "code",
   "execution_count": 15,
   "id": "6cc36bc4-8cff-4441-aaec-29cffefb8196",
   "metadata": {},
   "outputs": [
    {
     "data": {
      "text/plain": [
       "list"
      ]
     },
     "execution_count": 15,
     "metadata": {},
     "output_type": "execute_result"
    },
    {
     "data": {
      "text/plain": [
       "set"
      ]
     },
     "execution_count": 15,
     "metadata": {},
     "output_type": "execute_result"
    },
    {
     "data": {
      "text/plain": [
       "'lab'"
      ]
     },
     "execution_count": 15,
     "metadata": {},
     "output_type": "execute_result"
    },
    {
     "data": {
      "text/plain": [
       "'Sammy'"
      ]
     },
     "execution_count": 15,
     "metadata": {},
     "output_type": "execute_result"
    },
    {
     "data": {
      "text/plain": [
       "False"
      ]
     },
     "execution_count": 15,
     "metadata": {},
     "output_type": "execute_result"
    }
   ],
   "source": [
    "# OOP - Part One\n",
    "mylist = [1,2,3]\n",
    "myset = set()\n",
    "type(mylist)\n",
    "type(myset)\n",
    "\n",
    "# create a new class\n",
    "class Dog(): # Class has attributes that will inheritance to any variable assigned.\n",
    "    def __init__(self,breed,name,spots): # mybreed and mycolor are argument\n",
    "        # Attributes\n",
    "        # We take in the argument\n",
    "        # Assign it using self.attribute_name\n",
    "        self.mybreed = breed\n",
    "        self.myname = name\n",
    "        \n",
    "        # Expect boolean True/False\n",
    "        self.myspots = spots\n",
    "\n",
    "my_dog = Dog(breed='lab',name='Sammy',spots=False) # need to define manually parameters\n",
    "my_dog.mybreed\n",
    "my_dog.myname\n",
    "my_dog.myspots"
   ]
  },
  {
   "cell_type": "code",
   "execution_count": 1,
   "id": "5c289706-4502-4312-b7f5-d7e346a126f0",
   "metadata": {},
   "outputs": [
    {
     "data": {
      "text/plain": [
       "'lab'"
      ]
     },
     "execution_count": 1,
     "metadata": {},
     "output_type": "execute_result"
    },
    {
     "data": {
      "text/plain": [
       "'Sammy'"
      ]
     },
     "execution_count": 1,
     "metadata": {},
     "output_type": "execute_result"
    },
    {
     "data": {
      "text/plain": [
       "False"
      ]
     },
     "execution_count": 1,
     "metadata": {},
     "output_type": "execute_result"
    },
    {
     "data": {
      "text/plain": [
       "'mammal'"
      ]
     },
     "execution_count": 1,
     "metadata": {},
     "output_type": "execute_result"
    },
    {
     "name": "stdout",
     "output_type": "stream",
     "text": [
      "WOOF!\n"
     ]
    }
   ],
   "source": [
    "# OOP - Part Two A\n",
    "\n",
    "class Dog(): # Class has attributes that will inheritance to any variable assigned.\n",
    "    \n",
    "    # CLASS OBJECT ATTRIBUTE\n",
    "    # SAME FOR ANY INSTANCE OF A CLASS\n",
    "    species = 'mammal'\n",
    "    \n",
    "    def __init__(self,breed,name,spots): # breed,name, spots are arguments.\n",
    "        # Attributes\n",
    "        # We take in the argument\n",
    "        # Assign it using self.attribute_name\n",
    "        self.mybreed = breed\n",
    "        self.myname = name\n",
    "        \n",
    "        # Expect boolean True/False\n",
    "        self.myspots = spots\n",
    "        \n",
    "    # OPERATIONS/ACTIONS --> Methods\n",
    "    def bark(self):\n",
    "        print('WOOF!')\n",
    "\n",
    "my_dog = Dog(breed='lab',name='Sammy',spots=False)\n",
    "my_dog.mybreed\n",
    "my_dog.myname\n",
    "my_dog.myspots\n",
    "my_dog.species\n",
    "my_dog.bark()"
   ]
  },
  {
   "cell_type": "code",
   "execution_count": 4,
   "id": "831715b2-f626-48a5-9431-b07559594a82",
   "metadata": {},
   "outputs": [
    {
     "data": {
      "text/plain": [
       "'Lab'"
      ]
     },
     "execution_count": 4,
     "metadata": {},
     "output_type": "execute_result"
    },
    {
     "data": {
      "text/plain": [
       "'Frankie'"
      ]
     },
     "execution_count": 4,
     "metadata": {},
     "output_type": "execute_result"
    },
    {
     "data": {
      "text/plain": [
       "'mammal'"
      ]
     },
     "execution_count": 4,
     "metadata": {},
     "output_type": "execute_result"
    },
    {
     "name": "stdout",
     "output_type": "stream",
     "text": [
      "WOOF! My name is Frankie and the number is 10\n"
     ]
    },
    {
     "data": {
      "text/plain": [
       "3.14"
      ]
     },
     "execution_count": 4,
     "metadata": {},
     "output_type": "execute_result"
    },
    {
     "data": {
      "text/plain": [
       "1"
      ]
     },
     "execution_count": 4,
     "metadata": {},
     "output_type": "execute_result"
    },
    {
     "data": {
      "text/plain": [
       "3.14"
      ]
     },
     "execution_count": 4,
     "metadata": {},
     "output_type": "execute_result"
    },
    {
     "data": {
      "text/plain": [
       "30"
      ]
     },
     "execution_count": 4,
     "metadata": {},
     "output_type": "execute_result"
    },
    {
     "data": {
      "text/plain": [
       "188.4"
      ]
     },
     "execution_count": 4,
     "metadata": {},
     "output_type": "execute_result"
    },
    {
     "data": {
      "text/plain": [
       "2826.0"
      ]
     },
     "execution_count": 4,
     "metadata": {},
     "output_type": "execute_result"
    }
   ],
   "source": [
    "# OOP - Part Two B\n",
    "\n",
    "class Dog(): # Class has attributes that will inheritance to any variable assigned.\n",
    "    \n",
    "    # CLASS OBJECT ATTRIBUTE\n",
    "    # SAME FOR ANY INSTANCE OF A CLASS\n",
    "    species = 'mammal'\n",
    "    \n",
    "    def __init__(self,breed,name): # breed,name, spots are arguments.\n",
    "        # Attributes\n",
    "        # We take in the argument\n",
    "        # Assign it using self.attribute_name\n",
    "        self.mybreed = breed\n",
    "        self.myname = name\n",
    "        \n",
    "    # OPERATIONS/ACTIONS --> Methods\n",
    "    def bark(self,number):\n",
    "        print('WOOF! My name is {} and the number is {}'.format(self.myname,number))  # in class, call self.myname instead name.\n",
    "\n",
    "my_dog = Dog('Lab','Frankie')\n",
    "my_dog.mybreed\n",
    "my_dog.myname\n",
    "my_dog.species\n",
    "#my_dog.bark()  # methods use paranthesis\n",
    "my_dog.bark(10)\n",
    "\n",
    "##\n",
    "\n",
    "class Circle():\n",
    "    # CLASS OBJECT ATTRIBUTE\n",
    "    pi = 3.14\n",
    "    def __init__(self,radius=1): # it is possible to put value on argument directly\n",
    "        self.myradius = radius\n",
    "        self.myarea = radius*radius*Circle.pi\n",
    "    \n",
    "    # METHOD\n",
    "    def get_circumference(self):\n",
    "        return self.myradius * Circle.pi * 2\n",
    "\n",
    "my_circle = Circle() \n",
    "my_circle.pi            # 3.14\n",
    "my_circle.myradius      # 1\n",
    "my_circle = Circle(30)  # it will directly change the basic variable of the class which is 'pi' to be 30\n",
    "my_circle.pi            # 3.14\n",
    "my_circle.myradius      # 30\n",
    "my_circle.get_circumference()  # methods always using Paranthesis (), get_circumference= 30 x 3.14 x 2 = 188.4\n",
    "my_circle.myarea               # myarea = 30 x 30 x 3.14 = 2826"
   ]
  },
  {
   "cell_type": "code",
   "execution_count": 4,
   "id": "0e9cbc29-7ff1-4e76-afdc-1b2068a99725",
   "metadata": {},
   "outputs": [
    {
     "name": "stdout",
     "output_type": "stream",
     "text": [
      "Animal Created\n",
      "I am eating\n",
      "I am an animal\n"
     ]
    }
   ],
   "source": [
    "# OOP - Part Three\n",
    "# Inheritance and Polymorphism\n",
    "\n",
    "# Inheritance : to absorp the previous code\n",
    "\n",
    "class Animal():\n",
    "    \n",
    "    def __init__(self):\n",
    "        print('Animal Created')\n",
    "    \n",
    "    def who_am_i(self):\n",
    "        print('I am an animal')\n",
    "    \n",
    "    def eat(self):\n",
    "        print('I am eating')\n",
    "\n",
    "myanimal = Animal()\n",
    "myanimal.eat()\n",
    "myanimal.who_am_i()\n"
   ]
  },
  {
   "cell_type": "code",
   "execution_count": 5,
   "id": "7002a377-aa19-43d3-b03e-bb1a7ea7c242",
   "metadata": {},
   "outputs": [
    {
     "name": "stdout",
     "output_type": "stream",
     "text": [
      "Animal Created\n",
      "Dog created\n",
      "I am a dog and eating\n",
      "I am an animal\n",
      "Woof\n"
     ]
    }
   ],
   "source": [
    "# Inheritance\n",
    "# class Dog adopt all methods on class Animal\n",
    "\n",
    "class Dog(Animal):\n",
    "    \n",
    "    def __init__(self):\n",
    "        Animal.__init__(self)    # between class Animal() and class Dog()\n",
    "        print('Dog created')\n",
    "    \n",
    "    def eat(self):\n",
    "        print('I am a dog and eating')\n",
    "    \n",
    "    def bark(self):\n",
    "        print('Woof')\n",
    "        \n",
    "mydog = Dog()\n",
    "mydog.eat()  \n",
    "mydog.who_am_i()\n",
    "mydog.bark()"
   ]
  },
  {
   "cell_type": "code",
   "execution_count": 27,
   "id": "b8a8f43c-7e95-419f-8485-4c295d835778",
   "metadata": {},
   "outputs": [
    {
     "name": "stdout",
     "output_type": "stream",
     "text": [
      "niko says woof!\n",
      "felix says meow!\n",
      "<class '__main__.Dog'>\n",
      "niko says woof!\n",
      "<class '__main__.Cat'>\n",
      "felix says meow!\n",
      "niko says woof!\n",
      "felix says meow!\n"
     ]
    }
   ],
   "source": [
    "# Polymorphism. = share the same name of function\n",
    "# It is rare to use\n",
    "\n",
    "class Dog():\n",
    "    def __init__(self,name):\n",
    "        self.myname = name\n",
    "    \n",
    "    def speak(self):\n",
    "        return self.myname + ' says woof!'\n",
    "\n",
    "class Cat():\n",
    "    def __init__(self,name):\n",
    "        self.myname = name\n",
    "    \n",
    "    def speak(self):\n",
    "        return self.myname + ' says meow!'\n",
    "\n",
    "niko = Dog('niko')\n",
    "felix = Cat('felix')\n",
    "print(niko.speak())\n",
    "print(felix.speak())\n",
    "\n",
    "for pet in [niko,felix]:\n",
    "    print(type(pet))\n",
    "    print(pet.speak())\n",
    "\n",
    "def pet_speak(pet):\n",
    "    print(pet.speak())\n",
    "\n",
    "pet_speak(niko)\n",
    "pet_speak(felix)"
   ]
  },
  {
   "cell_type": "code",
   "execution_count": 31,
   "id": "13593996-9594-4d29-80ad-e565cf9ea917",
   "metadata": {},
   "outputs": [
    {
     "name": "stdout",
     "output_type": "stream",
     "text": [
      "Fido says woof!\n",
      "Isis says meow!\n"
     ]
    }
   ],
   "source": [
    "# Polymorphism\n",
    "\n",
    "class Animal():\n",
    "    def __init__(self,name):\n",
    "        self.name = name\n",
    "    def speak(self):\n",
    "        raise NotImplementedError('Subclass must implement this abstract method')\n",
    "\n",
    "class Dog(Animal):\n",
    "    def speak(self):\n",
    "        return self.name+ ' says woof!'\n",
    "\n",
    "class Cat(Animal):\n",
    "    def speak(self):\n",
    "        return self.name+ ' says meow!'\n",
    "\n",
    "fido = Dog('Fido')\n",
    "isis = Cat('Isis')\n",
    "print(fido.speak())\n",
    "print(isis.speak())\n",
    "    "
   ]
  },
  {
   "cell_type": "code",
   "execution_count": 12,
   "id": "8a573bc3-c25d-4b78-b023-049d4ebae6e1",
   "metadata": {},
   "outputs": [
    {
     "data": {
      "text/plain": [
       "3"
      ]
     },
     "execution_count": 12,
     "metadata": {},
     "output_type": "execute_result"
    },
    {
     "name": "stdout",
     "output_type": "stream",
     "text": [
      "<__main__.Sample object at 0x000001BBCB51CD30>\n",
      "[1, 2, 3]\n",
      "Python Rocks by Jose\n",
      "200\n",
      "Python Rocks by Jose\n",
      "A book object has been deleted\n"
     ]
    }
   ],
   "source": [
    "# OOP - Part Four\n",
    "# Special Magic/Dunder Methods\n",
    "\n",
    "mylist = [1,2,3]\n",
    "len(mylist)\n",
    "\n",
    "class Sample():\n",
    "    pass\n",
    "\n",
    "mysample = Sample()\n",
    "print(mysample)\n",
    "print(mylist)\n",
    "\n",
    "# Magic Methods\n",
    "class Book():\n",
    "    def __init__(self,title,author,pages):\n",
    "        self.title = title\n",
    "        self.author = author\n",
    "        self.pages = pages\n",
    "    \n",
    "    def __str__(self): # Magic Methods to print out the string\n",
    "        return f'{self.title} by {self.author}'\n",
    "    \n",
    "    def __len__(self): # Magic Methods to print  out length of the string\n",
    "        return self.pages\n",
    "    \n",
    "    def __del__(self): # Magic Methods to delete a variable that has class Book\n",
    "        print('A book object has been deleted')\n",
    "\n",
    "b = Book('Python Rocks','Jose',200)\n",
    "print(b)                               # need methods def __str__(self):\n",
    "print(len(b))\n",
    "print(b)\n",
    "del b"
   ]
  },
  {
   "cell_type": "code",
   "execution_count": 24,
   "id": "1e07b1ff-28bf-4f60-8048-1a25632f693f",
   "metadata": {},
   "outputs": [],
   "source": [
    "import sys\n",
    "for line in sys.stdin:\n",
    "    line = line.strip()\n",
    "    words = line.split()\n",
    "    for idx in words:\n",
    "        print('%s\\t%s' % (word,'1'))"
   ]
  },
  {
   "cell_type": "code",
   "execution_count": 31,
   "id": "456f7671-5f4a-4484-941e-86eb56024866",
   "metadata": {},
   "outputs": [
    {
     "name": "stdout",
     "output_type": "stream",
     "text": [
      "['My', 'name is George. I am a student of UNSW']\n",
      "['My', 'name', 'is George. I am a student of UNSW']\n",
      "['My', 'name', 'is', 'George.', 'I', 'am', 'a', 'student', 'of', 'UNSW']\n"
     ]
    }
   ],
   "source": [
    "intro = 'My name is George. I am a student of UNSW'\n",
    "intro = intro.split(' ',1) # 1 means, split() only do 1 time\n",
    "print(intro)\n",
    "\n",
    "intro = 'My name is George. I am a student of UNSW'\n",
    "intro = intro.split(' ',2) # 2 means, split() only do 2 time\n",
    "print(intro)\n",
    "\n",
    "\n",
    "intro = 'My name is George. I am a student of UNSW'\n",
    "intro = intro.split() # split() means do split  each word until finish.\n",
    "print(intro)"
   ]
  },
  {
   "cell_type": "code",
   "execution_count": 15,
   "id": "03e22333-c6e6-4c2f-a5ae-ef05bcb197ef",
   "metadata": {},
   "outputs": [
    {
     "data": {
      "text/plain": [
       "300"
      ]
     },
     "execution_count": 15,
     "metadata": {},
     "output_type": "execute_result"
    },
    {
     "data": {
      "text/plain": [
       "'We just add 500 into your account'"
      ]
     },
     "execution_count": 15,
     "metadata": {},
     "output_type": "execute_result"
    },
    {
     "data": {
      "text/plain": [
       "800"
      ]
     },
     "execution_count": 15,
     "metadata": {},
     "output_type": "execute_result"
    }
   ],
   "source": [
    "class Simple():\n",
    "    def __init__(self, value):\n",
    "        self.myvalue = value\n",
    "        \n",
    "    def add_to_value(self, amount):\n",
    "        self.myvalue = self.myvalue + amount\n",
    "        return 'We just add {b} into your account'.format(b=amount)\n",
    "\n",
    "myobj = Simple(300)\n",
    "myobj.myvalue\n",
    "myobj.add_to_value(500)  # add value into account $500\n",
    "myobj.myvalue"
   ]
  },
  {
   "cell_type": "code",
   "execution_count": null,
   "id": "ada20142-0837-4380-b68a-8778cc890eba",
   "metadata": {},
   "outputs": [],
   "source": []
  }
 ],
 "metadata": {
  "kernelspec": {
   "display_name": "Python 3 (ipykernel)",
   "language": "python",
   "name": "python3"
  },
  "language_info": {
   "codemirror_mode": {
    "name": "ipython",
    "version": 3
   },
   "file_extension": ".py",
   "mimetype": "text/x-python",
   "name": "python",
   "nbconvert_exporter": "python",
   "pygments_lexer": "ipython3",
   "version": "3.9.12"
  }
 },
 "nbformat": 4,
 "nbformat_minor": 5
}
