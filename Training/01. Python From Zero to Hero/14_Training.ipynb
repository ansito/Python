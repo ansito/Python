{
 "cells": [
  {
   "cell_type": "markdown",
   "id": "dff87bf4-53b6-4758-bee6-11e22353939d",
   "metadata": {},
   "source": [
    "# Working with CSV Files in Python\n",
    "## Keyword: pandas, openpyxl"
   ]
  },
  {
   "cell_type": "code",
   "execution_count": 6,
   "id": "404fe314-177c-4dd5-b71d-b971181efbfb",
   "metadata": {},
   "outputs": [],
   "source": [
    "import csv"
   ]
  },
  {
   "cell_type": "code",
   "execution_count": 7,
   "id": "976248fc-6784-411c-8c27-7f827e499b0a",
   "metadata": {},
   "outputs": [],
   "source": [
    "# Open the file\n",
    "data = open('example.csv',encoding='utf-8')"
   ]
  },
  {
   "cell_type": "code",
   "execution_count": 8,
   "id": "f63dd4da-2fb2-423b-a200-26cff6714f57",
   "metadata": {},
   "outputs": [],
   "source": [
    "# CSV reader\n",
    "csv_data = csv.reader(data)"
   ]
  },
  {
   "cell_type": "code",
   "execution_count": 9,
   "id": "bfd20a03-2af0-4917-8605-ddc12a867415",
   "metadata": {},
   "outputs": [],
   "source": [
    "# reformat it into a python object list of lists\n",
    "data_lines = list(csv_data)"
   ]
  },
  {
   "cell_type": "code",
   "execution_count": 13,
   "id": "fb694cbf-762e-46ea-b85b-5a4fe49d7c72",
   "metadata": {},
   "outputs": [
    {
     "data": {
      "text/plain": [
       "['id', 'first_name', 'last_name', 'email', 'gender', 'ip_address', 'city']"
      ]
     },
     "execution_count": 13,
     "metadata": {},
     "output_type": "execute_result"
    },
    {
     "data": {
      "text/plain": [
       "['1',\n",
       " 'Joseph',\n",
       " 'Zaniolini',\n",
       " 'jzaniolini0@simplemachines.org',\n",
       " 'Male',\n",
       " '163.168.68.132',\n",
       " 'Pedro Leopoldo']"
      ]
     },
     "execution_count": 13,
     "metadata": {},
     "output_type": "execute_result"
    },
    {
     "data": {
      "text/plain": [
       "1001"
      ]
     },
     "execution_count": 13,
     "metadata": {},
     "output_type": "execute_result"
    }
   ],
   "source": [
    "data_lines[0]\n",
    "data_lines[1]\n",
    "len(data_lines)"
   ]
  },
  {
   "cell_type": "code",
   "execution_count": 14,
   "id": "e106e213-25e7-4ff2-9784-3a07e0350709",
   "metadata": {},
   "outputs": [
    {
     "name": "stdout",
     "output_type": "stream",
     "text": [
      "['id', 'first_name', 'last_name', 'email', 'gender', 'ip_address', 'city']\n",
      "['1', 'Joseph', 'Zaniolini', 'jzaniolini0@simplemachines.org', 'Male', '163.168.68.132', 'Pedro Leopoldo']\n",
      "['2', 'Freida', 'Drillingcourt', 'fdrillingcourt1@umich.edu', 'Female', '97.212.102.79', 'Buri']\n",
      "['3', 'Nanni', 'Herity', 'nherity2@statcounter.com', 'Female', '145.151.178.98', 'Claver']\n",
      "['4', 'Orazio', 'Frayling', 'ofrayling3@economist.com', 'Male', '25.199.143.143', 'Kungur']\n"
     ]
    }
   ],
   "source": [
    "for line in data_lines[:5]:\n",
    "    print(line)"
   ]
  },
  {
   "cell_type": "code",
   "execution_count": 15,
   "id": "c59f5b62-1d6a-445e-9785-8f4d53129915",
   "metadata": {},
   "outputs": [
    {
     "data": {
      "text/plain": [
       "['10',\n",
       " 'Hyatt',\n",
       " 'Gasquoine',\n",
       " 'hgasquoine9@google.ru',\n",
       " 'Male',\n",
       " '221.155.106.39',\n",
       " 'Złoty Stok']"
      ]
     },
     "execution_count": 15,
     "metadata": {},
     "output_type": "execute_result"
    }
   ],
   "source": [
    "data_lines[10]"
   ]
  },
  {
   "cell_type": "code",
   "execution_count": 16,
   "id": "13485613-97f9-42f9-a8d0-18fa26acd0da",
   "metadata": {},
   "outputs": [
    {
     "data": {
      "text/plain": [
       "'hgasquoine9@google.ru'"
      ]
     },
     "execution_count": 16,
     "metadata": {},
     "output_type": "execute_result"
    }
   ],
   "source": [
    "data_lines[10][3]"
   ]
  },
  {
   "cell_type": "code",
   "execution_count": 17,
   "id": "a708f861-8852-4864-af28-c9b67b276d1f",
   "metadata": {},
   "outputs": [
    {
     "data": {
      "text/plain": [
       "['jzaniolini0@simplemachines.org',\n",
       " 'fdrillingcourt1@umich.edu',\n",
       " 'nherity2@statcounter.com',\n",
       " 'ofrayling3@economist.com',\n",
       " 'jmurrison4@cbslocal.com',\n",
       " 'lgamet5@list-manage.com',\n",
       " 'dhowatt6@amazon.com',\n",
       " 'kherion7@amazon.com',\n",
       " 'chedworth8@china.com.cn',\n",
       " 'hgasquoine9@google.ru',\n",
       " 'ftarra@shareasale.com',\n",
       " 'abathb@umn.edu',\n",
       " 'lchastangc@goo.gl',\n",
       " 'cceried@yale.edu']"
      ]
     },
     "execution_count": 17,
     "metadata": {},
     "output_type": "execute_result"
    }
   ],
   "source": [
    "all_emails = []\n",
    "for line in data_lines[1:15]: # start from 1, because 0 is a header\n",
    "    all_emails.append(line[3])\n",
    "\n",
    "all_emails"
   ]
  },
  {
   "cell_type": "code",
   "execution_count": 19,
   "id": "7055f809-3818-4956-8bed-876f1d535dd8",
   "metadata": {},
   "outputs": [
    {
     "data": {
      "text/plain": [
       "['Joseph Zaniolini',\n",
       " 'Freida Drillingcourt',\n",
       " 'Nanni Herity',\n",
       " 'Orazio Frayling',\n",
       " 'Julianne Murrison',\n",
       " 'Lucy Gamet',\n",
       " 'Dyana Howatt',\n",
       " 'Kassey Herion',\n",
       " 'Chrissy Hedworth',\n",
       " 'Hyatt Gasquoine',\n",
       " 'Felicdad Tarr',\n",
       " 'Andrew Bath',\n",
       " 'Lucais Chastang',\n",
       " 'Car Cerie']"
      ]
     },
     "execution_count": 19,
     "metadata": {},
     "output_type": "execute_result"
    }
   ],
   "source": [
    "full_names = []\n",
    "for line in data_lines[1:15]:\n",
    "    full_names.append(line[1]+' '+line[2])\n",
    "full_names"
   ]
  },
  {
   "cell_type": "code",
   "execution_count": 20,
   "id": "96dbf9ff-2e73-46ad-89a6-c52636c8c76e",
   "metadata": {},
   "outputs": [],
   "source": [
    "file_to_output = open('to_save_file.csv',mode='w',newline='')"
   ]
  },
  {
   "cell_type": "code",
   "execution_count": 22,
   "id": "4ccb6f46-ef03-43c7-8289-f4c069b823be",
   "metadata": {},
   "outputs": [],
   "source": [
    "csv_writer = csv.writer(file_to_output,delimiter=',')"
   ]
  },
  {
   "cell_type": "code",
   "execution_count": 23,
   "id": "316df037-507d-4caa-868d-5cb8f2ef1c22",
   "metadata": {},
   "outputs": [
    {
     "data": {
      "text/plain": [
       "7"
      ]
     },
     "execution_count": 23,
     "metadata": {},
     "output_type": "execute_result"
    }
   ],
   "source": [
    "csv_writer.writerow(['a','b','c'])"
   ]
  },
  {
   "cell_type": "code",
   "execution_count": 25,
   "id": "1586678e-dbfe-4f3f-a351-894a829b4bab",
   "metadata": {},
   "outputs": [],
   "source": [
    "csv_writer.writerows([['1','2','3'],['4','5','6']])"
   ]
  },
  {
   "cell_type": "code",
   "execution_count": 26,
   "id": "17ec9b96-ed78-41ed-b657-9a41be53a7aa",
   "metadata": {},
   "outputs": [],
   "source": [
    "file_to_output.close()"
   ]
  },
  {
   "cell_type": "code",
   "execution_count": 27,
   "id": "0a757bc7-ba32-465b-b12f-d451a1b1f56a",
   "metadata": {},
   "outputs": [],
   "source": [
    "f = open('to_save_file.csv',mode='a',newline='')"
   ]
  },
  {
   "cell_type": "code",
   "execution_count": 28,
   "id": "6318f6f5-81dc-4756-aedf-4282241592b5",
   "metadata": {},
   "outputs": [],
   "source": [
    "csv_writer = csv.writer(f)"
   ]
  },
  {
   "cell_type": "code",
   "execution_count": 30,
   "id": "5d265e91-39bd-462a-83b7-f6838acf41ab",
   "metadata": {},
   "outputs": [
    {
     "data": {
      "text/plain": [
       "7"
      ]
     },
     "execution_count": 30,
     "metadata": {},
     "output_type": "execute_result"
    }
   ],
   "source": [
    "csv_writer.writerow(['1','2','3'])"
   ]
  },
  {
   "cell_type": "markdown",
   "id": "396938e3-642f-407f-9c80-6d8fd3a14ac3",
   "metadata": {},
   "source": [
    "# Working with PDF Files"
   ]
  },
  {
   "cell_type": "code",
   "execution_count": 32,
   "id": "736efe97-fdc8-4dac-9d80-fade92ca3c07",
   "metadata": {},
   "outputs": [],
   "source": [
    "# install pdf module\n",
    "# pip install PyPDF2"
   ]
  },
  {
   "cell_type": "code",
   "execution_count": 72,
   "id": "f5cc044a-f4c1-4a89-956a-1496481ad42e",
   "metadata": {},
   "outputs": [],
   "source": [
    "import PyPDF2"
   ]
  },
  {
   "cell_type": "code",
   "execution_count": 73,
   "id": "a8972754-3e62-4c5a-aae7-e1f81ecd5dfb",
   "metadata": {},
   "outputs": [],
   "source": [
    "f = open('Working_Business_Proposal.pdf','rb')"
   ]
  },
  {
   "cell_type": "code",
   "execution_count": 74,
   "id": "6969ac2d-5f88-431a-9fe6-590b2f93f16a",
   "metadata": {},
   "outputs": [],
   "source": [
    "pdf_reader = PyPDF2.PdfReader(f)"
   ]
  },
  {
   "cell_type": "code",
   "execution_count": 75,
   "id": "2c00b54c-af5a-4a3d-9aed-64ee8c3cf7e4",
   "metadata": {},
   "outputs": [
    {
     "data": {
      "text/plain": [
       "5"
      ]
     },
     "execution_count": 75,
     "metadata": {},
     "output_type": "execute_result"
    }
   ],
   "source": [
    "len(pdf_reader.pages)"
   ]
  },
  {
   "cell_type": "code",
   "execution_count": 76,
   "id": "c01cf1b2-0dc5-4e98-822e-c85283dc9f51",
   "metadata": {},
   "outputs": [],
   "source": [
    "page_one = pdf_reader.pages[0]"
   ]
  },
  {
   "cell_type": "code",
   "execution_count": 77,
   "id": "4b35bee6-0c62-4d03-925e-4baac1acb11b",
   "metadata": {},
   "outputs": [],
   "source": [
    "page_one_text = page_one.extract_text()"
   ]
  },
  {
   "cell_type": "code",
   "execution_count": 78,
   "id": "18ba5c09-67ef-47fa-9bcd-db203748966e",
   "metadata": {},
   "outputs": [
    {
     "data": {
      "text/plain": [
       "'Business Proposal The Revolution is Coming Leverage agile frameworks to provide a robust synopsis for high level overviews. Iterative approaches to corporate strategy foster collaborative thinking to further the overall value proposition. Organically grow the holistic world view of disruptive innovation via workplace diversity and empowerment. Bring to the table win-win survival strategies to ensure proactive domination. At the end of the day, going forward, a new normal that has evolved from generation X is on the runway heading towards a streamlined cloud solution. User generated content in real-time will have multiple touchpoints for offshoring. Capitalize on low hanging fruit to identify a ballpark value added activity to beta test. Override the digital divide with additional clickthroughs from DevOps. Nanotechnology immersion along the information highway will close the loop on focusing solely on the bottom line. Podcasting operational change management inside of workﬂows to establish a framework. Taking seamless key performance indicators ofﬂine to maximise the long tail. Keeping your eye on the ball while performing a deep dive on the start-up mentality to derive convergence on cross-platform integration. Collaboratively administrate empowered markets via plug-and-play networks. Dynamically procrastinate B2C users after installed base beneﬁts. Dramatically visualize customer directed convergence without revolutionary ROI. Efﬁciently unleash cross-media information without cross-media value. Quickly maximize timely deliverables for real-time schemas. Dramatically maintain clicks-and-mortar solutions without functional solutions. BUSINESS PROPOSAL!1'"
      ]
     },
     "execution_count": 78,
     "metadata": {},
     "output_type": "execute_result"
    }
   ],
   "source": [
    "page_one_text"
   ]
  },
  {
   "cell_type": "code",
   "execution_count": 79,
   "id": "2aad0f5d-73b7-4180-9971-cd16ba96ed6e",
   "metadata": {},
   "outputs": [],
   "source": [
    "f.close()"
   ]
  },
  {
   "cell_type": "code",
   "execution_count": 80,
   "id": "0bb35c36-f37c-43c7-896d-a9eed146d548",
   "metadata": {},
   "outputs": [],
   "source": [
    "f = open('Working_Business_Proposal.pdf','rb')\n",
    "pdf_reader = PyPDF2.PdfReader(f)"
   ]
  },
  {
   "cell_type": "code",
   "execution_count": 81,
   "id": "b958b768-cea5-4586-a953-326319a125ec",
   "metadata": {},
   "outputs": [],
   "source": [
    "first_page = pdf_reader.pages[0]"
   ]
  },
  {
   "cell_type": "code",
   "execution_count": 82,
   "id": "0672b633-ee25-4497-a3de-39a105180282",
   "metadata": {},
   "outputs": [],
   "source": [
    "pdf_writer = PyPDF2.PdfWriter()"
   ]
  },
  {
   "cell_type": "code",
   "execution_count": 83,
   "id": "37c04ebd-6372-4e88-9d75-968eb97b6189",
   "metadata": {},
   "outputs": [
    {
     "data": {
      "text/plain": [
       "PyPDF2._page.PageObject"
      ]
     },
     "execution_count": 83,
     "metadata": {},
     "output_type": "execute_result"
    }
   ],
   "source": [
    "type(first_page)"
   ]
  },
  {
   "cell_type": "code",
   "execution_count": 85,
   "id": "c68d0c34-23ba-4841-8b38-2debfa5d7c21",
   "metadata": {},
   "outputs": [],
   "source": [
    "pdf_writer.add_page(first_page)"
   ]
  },
  {
   "cell_type": "code",
   "execution_count": 86,
   "id": "fc93f707-3990-45d9-9565-65f5178560aa",
   "metadata": {},
   "outputs": [],
   "source": [
    "pdf_output = open('Some_BrandNew_Doc.pdf','wb')"
   ]
  },
  {
   "cell_type": "code",
   "execution_count": 87,
   "id": "fe99db51-89ed-4a7c-8905-ad9095f6d381",
   "metadata": {},
   "outputs": [
    {
     "data": {
      "text/plain": [
       "(False, <_io.BufferedWriter name='Some_BrandNew_Doc.pdf'>)"
      ]
     },
     "execution_count": 87,
     "metadata": {},
     "output_type": "execute_result"
    }
   ],
   "source": [
    "pdf_writer.write(pdf_output)"
   ]
  },
  {
   "cell_type": "code",
   "execution_count": 88,
   "id": "b0b8cf1c-fbc9-44af-88c5-bacd05dc4788",
   "metadata": {},
   "outputs": [],
   "source": [
    "f.close()"
   ]
  },
  {
   "cell_type": "code",
   "execution_count": 89,
   "id": "83fbc113-4bf7-4fe9-961e-8b1253df12c6",
   "metadata": {},
   "outputs": [],
   "source": [
    "pdf_output.close()"
   ]
  },
  {
   "cell_type": "code",
   "execution_count": 95,
   "id": "38ce5660-e6de-41ec-ad61-5682446d9497",
   "metadata": {},
   "outputs": [],
   "source": [
    "f = open('Working_Business_Proposal.pdf','rb')\n",
    "\n",
    "pdf_text = []\n",
    "\n",
    "pdf_reader = PyPDF2.PdfReader(f)\n",
    "\n",
    "for num in range(len(pdf_reader.pages)):\n",
    "    page = pdf_reader.pages[num]\n",
    "    pdf_text.append(page.extract_text())"
   ]
  },
  {
   "cell_type": "code",
   "execution_count": 96,
   "id": "bd578273-58b2-4c78-aff8-e5e1ee14f3a4",
   "metadata": {},
   "outputs": [
    {
     "name": "stdout",
     "output_type": "stream",
     "text": [
      "Completely synergize resource taxing relationships via premier niche markets. Professionally cultivate one-to-one customer service with robust ideas. Dynamically innovate resource-leveling customer service for state of the art customer service. Objectively innovate empowered manufactured products whereas parallel platforms. Holisticly predominate extensible testing procedures for reliable supply chains. Dramatically engage top-line web services vis-a-vis cutting-edge deliverables. Proactively envisioned multimedia based expertise and cross-media growth strategies. Seamlessly visualize quality intellectual capital without superior collaboration and idea-sharing. Holistically pontiﬁcate installed base portals after maintainable products. Phosﬂuorescently engage worldwide methodologies with web-enabled technology. Interactively coordinate proactive e-commerce via process-centric \"outside the box\" thinking. Completely pursue scalable customer service through sustainable potentialities. Collaboratively administrate turnkey channels whereas virtual e-tailers. Objectively seize scalable metrics whereas proactive e-services. Seamlessly empower fully researched growth strategies and interoperable internal or \"organic\" sources. Credibly innovate granular internal or \"organic\" sources whereas high standards in web-readiness. Energistically scale future-proof core competencies vis-a-vis impactful experiences. Dramatically synthesize integrated schemas with optimal networks. Interactively procrastinate high-payoff content without backward-compatible data. Quickly cultivate optimal processes and tactical architectures. Completely iterate covalent strategic theme areas via accurate e-markets. Globally incubate standards compliant channels before scalable beneﬁts. Quickly disseminate superior deliverables whereas web-enabled BUSINESS PROPOSAL!2\n"
     ]
    }
   ],
   "source": [
    "print(pdf_text[1])"
   ]
  },
  {
   "cell_type": "markdown",
   "id": "ebef4bfb-671b-4904-9e1e-820df7fad9ed",
   "metadata": {},
   "source": [
    "# Great Job"
   ]
  },
  {
   "cell_type": "code",
   "execution_count": null,
   "id": "56343043-d957-41c3-90a2-a9e0e3a6f79f",
   "metadata": {},
   "outputs": [],
   "source": []
  }
 ],
 "metadata": {
  "kernelspec": {
   "display_name": "Python 3 (ipykernel)",
   "language": "python",
   "name": "python3"
  },
  "language_info": {
   "codemirror_mode": {
    "name": "ipython",
    "version": 3
   },
   "file_extension": ".py",
   "mimetype": "text/x-python",
   "name": "python",
   "nbconvert_exporter": "python",
   "pygments_lexer": "ipython3",
   "version": "3.9.12"
  }
 },
 "nbformat": 4,
 "nbformat_minor": 5
}
